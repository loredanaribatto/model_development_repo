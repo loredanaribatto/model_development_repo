{
 "cells": [
  {
   "cell_type": "markdown",
   "id": "b7e03c9a-bb7d-44e4-85ed-887ec0eed888",
   "metadata": {},
   "source": [
    "# PD Model Development"
   ]
  },
  {
   "cell_type": "markdown",
   "id": "d0138c3e-4b86-41b5-bde4-4e485a95b332",
   "metadata": {},
   "source": [
    "#### Table of Contents\n",
    "\n",
    "- [Import e Setup](#Import_e_Setup)\n",
    "- [STEP 0: Reading and pre-configuration of the inputs](#Inputs_Initialization)\n",
    "    1. [Reading the initial input data](#read_file)\n",
    "    2. [Reading the configs](#configs)\n",
    "    3. [Parameters Adjustment](#params_adj)\n",
    "- [STEP 1: Feature engineering](#feat_eng) \n",
    "- [STEP 2: Join Information](#join_tabs) \n",
    "- [STEP 3: Manage Outliers](#outliers) \n",
    "    1. [Outliers Fitting Parameters](#outliers_fit)\n",
    "    2. [Outliers replacement](#outliers_replace)  \n",
    "- [STEP 4: Binning](#binning_fit) \n",
    "- [STEP 5: Calculate Default Curve](#def_curve)\n",
    "- [STEP 6: Calculate Percentage Missing](#perc_missing) \n",
    "- [STEP 7: Calculate Accuracy Ratio FIT](#s7_ar_calc) \n",
    "- [STEP 8: Calculate Accuracy Ratio Replace](#s7_ar_repl) \n",
    "- [STEP 8B: Calculate Correct Classification Rate](#calc_tcorr)\n",
    "- [STEP 9: Missing Values Management Fit](#missing_fit) \n",
    "- [STEP 10: Missing Values Management Replace](#missing_replace) \n",
    "- [STEP 11: Calculate Correlation Fit](#biv_corr_fit) \n",
    "- [STEP 11B: Calculate Correlation Replace](#biv_corr_replace) \n",
    "- [STEP 12: StepWise 5Percent](#stepwise_5perc) \n",
    "- [STEP 13: StepWise 1 Percent](#stepwise_1perc) \n",
    "- [STEP 14MOD: Expert Final Model](#final_model) \n",
    "- [STEP 14: Compute Score And Probabilities](#score_prob) \n",
    "- [STEP 15A: Calculate Performance_ar](#report_AR) \n",
    "- [STEP 15B: Calculate Performance_tcorr](#report_TCORR) \n",
    "- [STEP 15C: Calculate Performance_tdef](#report_TDEF) "
   ]
  },
  {
   "cell_type": "markdown",
   "id": "ea28185f-2bcb-4188-bcd7-404927c13c0e",
   "metadata": {},
   "source": [
    "### Summary Inputs / Outputs"
   ]
  },
  {
   "cell_type": "markdown",
   "id": "13e8dfd2-d86c-493c-996d-54ff66a6b698",
   "metadata": {},
   "source": [
    "- **Initial Inputs**<br>\n",
    "DS_BALANCE_SHEET >> ds_bs<br>\n",
    "DS_CUSTOMER_SAMPLE >> ds_cs<br>\n",
    "DS_GROUP_INFORMATION >> ds_gi<br>\n",
    "- **Config Files**<br>\n",
    "params_outlier_perc_tab<br>\n",
    "LongList_Variables_tab<br>\n",
    "LongList_Variables_tab_full<br>\n",
    "params_binning_raw<br>\n",
    "- **Outputs of steps**<br>\n",
    "DEV_01_00_BALANCE_SHEET_FEATURES<br>\n",
    "DEV_02_00_BASE_TABLE<br>\n",
    "DEV_04_00_BASE_TABLE_OUTLIERS<br>\n",
    "DEV_05_00_DEFAULT_CURVE<br>\n",
    "DEV_06_00_PERCENTAGE_MISSING<br>\n",
    "DEV_08_00_ACCURACY_RATIO_STEP2<br>\n",
    "DEV_10_00_MISSING_VALUE_MANAGEMENT_STEP2<br>\n",
    "DEV_11_00_CORRELATION<br>\n",
    "DEV_14_00_SCORES_AND_PROBABILITIES<br>\n",
    "- **Parameters**<br>\n",
    "(P) will be saved for Application part<br>\n",
    "  1. outlier management params<br>\n",
    "    DEV_03_00_PERCENTILE_PARAMS >> params_outlier_perc_tab<br>\n",
    "  2. univariate analysis params<br>\n",
    "    DEV_07_00_ACCURACY_RATIO_STEP1 >> params_AR_tab <br>\n",
    "  3. missing values management<br>\n",
    "    DEV_09_00_NEUTRAL_NUMBERS >> params_missing_fit_tab<br>\n",
    "  4. bivariate analysis params<br>\n",
    "    DEV_11_01_CORRELATION_Report >> report_bivariate_corr_tab<br>\n",
    "- **Models**\n",
    "    1. model_stepwise_5perc_raw.pkl (Detailed)\n",
    "    2. model_stepwise_1perc_raw.pkl (Detailed)\n",
    "    3. model_final_tab.pkl (Detailed)\n",
    "- **Performance Reports**\n",
    "    1. report_final_model_AR_tab.pkl (Tabular)\n",
    "    2. report_final_model_TCORR_tab.pkl (Tabular)\n",
    "    3. report_final_model_TDEF_tab.pkl (Tabular)"
   ]
  },
  {
   "cell_type": "markdown",
   "id": "7220eede-d6b3-4fbe-b562-2ea55c877145",
   "metadata": {},
   "source": [
    "### - Import e Setup Session <a name=\"Import_e_Setup\"></a>"
   ]
  },
  {
   "cell_type": "markdown",
   "id": "a75fa199-ae48-404a-94d1-68dfcfdaba02",
   "metadata": {
    "tags": []
   },
   "source": [
    "### utils"
   ]
  },
  {
   "cell_type": "code",
   "execution_count": 1,
   "id": "5ca1ede0-7286-473d-8e12-895f333050c5",
   "metadata": {
    "tags": []
   },
   "outputs": [],
   "source": [
    "### if needed [%run utils_functions.ipynb]"
   ]
  },
  {
   "cell_type": "code",
   "execution_count": 2,
   "id": "47e16736-b108-4a19-b498-ab8b44363a23",
   "metadata": {
    "tags": []
   },
   "outputs": [],
   "source": [
    "##PATHS\n",
    "project_path = 'WestPac/Development/'\n",
    "in_path = project_path + 'Data/' #jupyter_path + project_path + '/data/' ##if not using workdir\n",
    "out_path = project_path + 'Data/' #jupyter_path + project_path + '/out/' ##if not using workdir\n",
    "\n",
    "path_configs =  project_path + 'Data/' #out_path + 'Configs_Params/'"
   ]
  },
  {
   "cell_type": "code",
   "execution_count": 3,
   "id": "a34fb3ed-387b-44f1-ba9d-69589ff69d34",
   "metadata": {},
   "outputs": [
    {
     "data": {
      "text/plain": [
       "'/home/jovyan'"
      ]
     },
     "execution_count": 3,
     "metadata": {},
     "output_type": "execute_result"
    }
   ],
   "source": [
    "##Work directory\n",
    "import os\n",
    "os.chdir('/home/jovyan')\n",
    "os.getcwd()"
   ]
  },
  {
   "cell_type": "markdown",
   "id": "5701b10f-dc26-4761-ae7d-2a24b9406034",
   "metadata": {
    "tags": []
   },
   "source": [
    "### imports"
   ]
  },
  {
   "cell_type": "code",
   "execution_count": 4,
   "id": "a0cdb25a-8986-4704-a117-6a69edb0557e",
   "metadata": {
    "tags": []
   },
   "outputs": [],
   "source": [
    "#system\n",
    "import os\n",
    "\n",
    "#base\n",
    "import pandas as pd\n",
    "import numpy as np\n",
    "import pickle\n",
    "import matplotlib.pyplot as plt\n",
    "import string\n",
    "\n",
    "# print config dicts\n",
    "from pprint import pprint as dict_print\n",
    "\n",
    "#visual functions\n",
    "from IPython.display import Image\n",
    "from IPython.display import display\n",
    "\n",
    "from datetime import datetime\n",
    "today = datetime.today().strftime('%Y%m%d')"
   ]
  },
  {
   "cell_type": "code",
   "execution_count": 5,
   "id": "da1da9a7-c02c-456a-997e-ee3ccc26f5fd",
   "metadata": {},
   "outputs": [],
   "source": [
    "#promlib_stats\n",
    "\n",
    "## data analysis\n",
    "from promlib_stats.data_analysis.binning import binning\n",
    "from promlib_stats.data_analysis.matrix_corr import matrix_corr\n",
    " \n",
    "## estimation\n",
    "from promlib_stats.estimation.stepwise_binomial import stepwise_binomial\n",
    "\n",
    "## performance\n",
    "from promlib_stats.performance.tdef import tdef\n",
    "from promlib_stats.performance.lorenz import lorenz\n",
    "from promlib_stats.performance.tcorr import tcorr"
   ]
  },
  {
   "cell_type": "markdown",
   "id": "f55d03e8-cc2d-46d7-8bc1-46c618829cc9",
   "metadata": {},
   "source": [
    "## Step 0: Reading and pre-configuration of the clean Data <a name=\"Inputs_Initialization\"></a>"
   ]
  },
  {
   "cell_type": "markdown",
   "id": "44f81d42-8ee5-4605-a9c0-ec8a3c10cfb0",
   "metadata": {},
   "source": [
    "### S0_1: Reading the initial input data <a name=\"read_file\"></a>"
   ]
  },
  {
   "cell_type": "code",
   "execution_count": 6,
   "id": "8aef216e-d829-4218-bbc0-4428b15351df",
   "metadata": {
    "tags": []
   },
   "outputs": [],
   "source": [
    "# balance sheet\n",
    "file_bs = in_path + 'DS_BALANCE_SHEET.csv'\n",
    "ds_bs = pd.read_csv(file_bs)\n",
    "\n",
    "# customer sample\n",
    "file_cs = in_path + 'DS_CUSTOMER_SAMPLE.csv'\n",
    "ds_cs = pd.read_csv(file_cs)\n",
    "\n",
    "#group information\n",
    "file_gi = in_path + 'DS_GROUP_INFORMATION.csv'\n",
    "ds_gi = pd.read_csv(file_gi)"
   ]
  },
  {
   "cell_type": "markdown",
   "id": "062a56f2-602c-43b3-8cbb-e88eb2b395fa",
   "metadata": {},
   "source": [
    "- Summary info > (unhide if needed)"
   ]
  },
  {
   "cell_type": "raw",
   "id": "f8209689-a225-4ec9-9542-4b3089acccb8",
   "metadata": {
    "tags": []
   },
   "source": [
    "ds_bs.dtypes"
   ]
  },
  {
   "cell_type": "raw",
   "id": "e8d107f6-c313-4257-814e-cb5c91bc108a",
   "metadata": {
    "tags": []
   },
   "source": [
    "ds_bs.head()"
   ]
  },
  {
   "cell_type": "markdown",
   "id": "214bb17c-1b67-462d-a067-d7503d495cfb",
   "metadata": {
    "tags": []
   },
   "source": [
    "### S0_2: Reading the Config Files <a name=\"configs\"></a>"
   ]
  },
  {
   "cell_type": "code",
   "execution_count": 7,
   "id": "2eae8b66-40c9-4f39-a582-6a7fc41f9f67",
   "metadata": {
    "tags": []
   },
   "outputs": [],
   "source": [
    "# outlier perc\n",
    "params_path = path_configs + '/params_outlier_perc_tab.pkl'\n",
    "perc = pd.read_pickle(params_path)\n",
    "\n",
    "# long list variable\n",
    "vars_path_pkl = path_configs + '/LongList_Variables_tab.pkl'\n",
    "longlist_vars = pd.read_pickle(vars_path_pkl)\n",
    "\n",
    "# long list variable\n",
    "vars_path_pkl = path_configs + '/LongList_Variables_tab_full.pkl'\n",
    "longlist_vars_full = pd.read_pickle(vars_path_pkl)\n",
    "\n",
    "# params binning\n",
    "file_path = path_configs + '/params_binning_raw.pkl'\n",
    "with open(file_path, 'rb') as file:\n",
    "    params_binning = pickle.load(file)"
   ]
  },
  {
   "cell_type": "markdown",
   "id": "e2ec5a5d-858f-4a56-8efd-02eca8ec3ac7",
   "metadata": {
    "tags": []
   },
   "source": [
    "### S0_3: Parameters Adjustment <a name=\"params_adj\"></a>"
   ]
  },
  {
   "cell_type": "markdown",
   "id": "c3de91a6-8d5b-48c7-9b25-89d22769cf74",
   "metadata": {},
   "source": [
    "- parameter values files"
   ]
  },
  {
   "cell_type": "code",
   "execution_count": 8,
   "id": "e6149e3b-6748-4f6e-8463-cac20c1be84c",
   "metadata": {},
   "outputs": [],
   "source": [
    "# Generic\n",
    "Application = False\n",
    "feat_list = longlist_vars.IND_LABEL.to_list()\n",
    "\n",
    "#Step 4\n",
    "binning_subset_list = ['IC_183', 'ROE']\n",
    "\n",
    "#Step 5\n",
    "def_curve_feat_list = ['C_LIAB_REV', 'I_11bis', 'I_100']"
   ]
  },
  {
   "cell_type": "markdown",
   "id": "84958379-59c3-46a3-a53f-f83951a6cd9b",
   "metadata": {
    "jp-MarkdownHeadingCollapsed": true,
    "tags": []
   },
   "source": [
    "## Step 1: Feature engineering <a name=\"feat_eng\"></a>"
   ]
  },
  {
   "cell_type": "code",
   "execution_count": 9,
   "id": "30417492-1a2d-4b1f-8636-59d14b7c1912",
   "metadata": {},
   "outputs": [],
   "source": [
    "db = ds_bs.copy()"
   ]
  },
  {
   "cell_type": "markdown",
   "id": "0e395404-63f8-4a90-9ffb-bbb4bc0db626",
   "metadata": {},
   "source": [
    "- all steps below can be constructed using earlywarning kernel libs"
   ]
  },
  {
   "cell_type": "code",
   "execution_count": 10,
   "id": "80921f3c-c005-4d34-a183-48f962e960e6",
   "metadata": {
    "tags": []
   },
   "outputs": [],
   "source": [
    "# VARIABLES NECESSARY TO BUILD INDICATORS"
   ]
  },
  {
   "cell_type": "code",
   "execution_count": 11,
   "id": "ca6caf9f-55a0-4ebe-aec5-385d4037c56d",
   "metadata": {
    "tags": []
   },
   "outputs": [
    {
     "name": "stderr",
     "output_type": "stream",
     "text": [
      "/tmp/ipykernel_81/1386739242.py:177: PerformanceWarning: DataFrame is highly fragmented.  This is usually the result of calling `frame.insert` many times, which has poor performance.  Consider joining all columns at once using pd.concat(axis=1) instead. To get a de-fragmented frame, use `newframe = frame.copy()`\n",
      "  db_new['I_49'] = db_new['DEBABR']/db_new['RICNET'].where(db_new['RICNET'] > 0)\n",
      "/tmp/ipykernel_81/1386739242.py:178: PerformanceWarning: DataFrame is highly fragmented.  This is usually the result of calling `frame.insert` many times, which has poor performance.  Consider joining all columns at once using pd.concat(axis=1) instead. To get a de-fragmented frame, use `newframe = frame.copy()`\n",
      "  db_new['I_50'] = db_new['CL1']/db_new['VALPROD'].where(db_new['VALPROD'] > 0)\n",
      "/tmp/ipykernel_81/1386739242.py:179: PerformanceWarning: DataFrame is highly fragmented.  This is usually the result of calling `frame.insert` many times, which has poor performance.  Consider joining all columns at once using pd.concat(axis=1) instead. To get a de-fragmented frame, use `newframe = frame.copy()`\n",
      "  db_new['I_51'] = db_new['FONAMMSV'] / \\\n",
      "/tmp/ipykernel_81/1386739242.py:181: PerformanceWarning: DataFrame is highly fragmented.  This is usually the result of calling `frame.insert` many times, which has poor performance.  Consider joining all columns at once using pd.concat(axis=1) instead. To get a de-fragmented frame, use `newframe = frame.copy()`\n",
      "  db_new['I_52'] = db_new['AMMIMMAT'] / \\\n",
      "/tmp/ipykernel_81/1386739242.py:183: PerformanceWarning: DataFrame is highly fragmented.  This is usually the result of calling `frame.insert` many times, which has poor performance.  Consider joining all columns at once using pd.concat(axis=1) instead. To get a de-fragmented frame, use `newframe = frame.copy()`\n",
      "  db_new['I_53'] = db_new['CAPNP']/(db_new['TOPASCOR']+db_new['DEBF']+db_new['FONDIACC']).where(\n",
      "/tmp/ipykernel_81/1386739242.py:185: PerformanceWarning: DataFrame is highly fragmented.  This is usually the result of calling `frame.insert` many times, which has poor performance.  Consider joining all columns at once using pd.concat(axis=1) instead. To get a de-fragmented frame, use `newframe = frame.copy()`\n",
      "  db_new['I_55'] = db_new['CAPNP'] / \\\n",
      "/tmp/ipykernel_81/1386739242.py:187: PerformanceWarning: DataFrame is highly fragmented.  This is usually the result of calling `frame.insert` many times, which has poor performance.  Consider joining all columns at once using pd.concat(axis=1) instead. To get a de-fragmented frame, use `newframe = frame.copy()`\n",
      "  db_new['I_56'] = db_new['CAPNP'] / \\\n",
      "/tmp/ipykernel_81/1386739242.py:190: PerformanceWarning: DataFrame is highly fragmented.  This is usually the result of calling `frame.insert` many times, which has poor performance.  Consider joining all columns at once using pd.concat(axis=1) instead. To get a de-fragmented frame, use `newframe = frame.copy()`\n",
      "  db_new['I_57'] = db_new['CAPNP']/db_new['DEBF'].where(db_new['DEBF'] > 0)\n",
      "/tmp/ipykernel_81/1386739242.py:191: PerformanceWarning: DataFrame is highly fragmented.  This is usually the result of calling `frame.insert` many times, which has poor performance.  Consider joining all columns at once using pd.concat(axis=1) instead. To get a de-fragmented frame, use `newframe = frame.copy()`\n",
      "  db_new['I_58'] = db_new['CRCOMBR']/db_new['MAGA'].where(db_new['MAGA'] > 0)\n",
      "/tmp/ipykernel_81/1386739242.py:192: PerformanceWarning: DataFrame is highly fragmented.  This is usually the result of calling `frame.insert` many times, which has poor performance.  Consider joining all columns at once using pd.concat(axis=1) instead. To get a de-fragmented frame, use `newframe = frame.copy()`\n",
      "  db_new['I_59'] = (db_new['LIQUIDIT']-db_new['DEBABR'] -\n",
      "/tmp/ipykernel_81/1386739242.py:194: PerformanceWarning: DataFrame is highly fragmented.  This is usually the result of calling `frame.insert` many times, which has poor performance.  Consider joining all columns at once using pd.concat(axis=1) instead. To get a de-fragmented frame, use `newframe = frame.copy()`\n",
      "  db_new['I_60'] = (db_new['TOPASCOR']+db_new['DEBF'] +\n",
      "/tmp/ipykernel_81/1386739242.py:196: PerformanceWarning: DataFrame is highly fragmented.  This is usually the result of calling `frame.insert` many times, which has poor performance.  Consider joining all columns at once using pd.concat(axis=1) instead. To get a de-fragmented frame, use `newframe = frame.copy()`\n",
      "  db_new['I_61'] = db_new['TOTATCOR'] / \\\n",
      "/tmp/ipykernel_81/1386739242.py:198: PerformanceWarning: DataFrame is highly fragmented.  This is usually the result of calling `frame.insert` many times, which has poor performance.  Consider joining all columns at once using pd.concat(axis=1) instead. To get a de-fragmented frame, use `newframe = frame.copy()`\n",
      "  db_new['I_62'] = (db_new['CREDBR']+db_new['LIQUIDIT']) / \\\n",
      "/tmp/ipykernel_81/1386739242.py:200: PerformanceWarning: DataFrame is highly fragmented.  This is usually the result of calling `frame.insert` many times, which has poor performance.  Consider joining all columns at once using pd.concat(axis=1) instead. To get a de-fragmented frame, use `newframe = frame.copy()`\n",
      "  db_new['I_63'] = db_new['LIQUIDIT'] / \\\n",
      "/tmp/ipykernel_81/1386739242.py:202: PerformanceWarning: DataFrame is highly fragmented.  This is usually the result of calling `frame.insert` many times, which has poor performance.  Consider joining all columns at once using pd.concat(axis=1) instead. To get a de-fragmented frame, use `newframe = frame.copy()`\n",
      "  db_new['I_64'] = db_new['LIQUIDIT'] / \\\n",
      "/tmp/ipykernel_81/1386739242.py:204: PerformanceWarning: DataFrame is highly fragmented.  This is usually the result of calling `frame.insert` many times, which has poor performance.  Consider joining all columns at once using pd.concat(axis=1) instead. To get a de-fragmented frame, use `newframe = frame.copy()`\n",
      "  db_new['I_65'] = db_new['TOPASCOR'] / \\\n",
      "/tmp/ipykernel_81/1386739242.py:206: PerformanceWarning: DataFrame is highly fragmented.  This is usually the result of calling `frame.insert` many times, which has poor performance.  Consider joining all columns at once using pd.concat(axis=1) instead. To get a de-fragmented frame, use `newframe = frame.copy()`\n",
      "  db_new['I_66'] = (db_new['DEFIBAML']+db_new['DEBABR']) / \\\n",
      "/tmp/ipykernel_81/1386739242.py:208: PerformanceWarning: DataFrame is highly fragmented.  This is usually the result of calling `frame.insert` many times, which has poor performance.  Consider joining all columns at once using pd.concat(axis=1) instead. To get a de-fragmented frame, use `newframe = frame.copy()`\n",
      "  db_new['I_67'] = db_new['TOTATCOR'] / \\\n",
      "/tmp/ipykernel_81/1386739242.py:210: PerformanceWarning: DataFrame is highly fragmented.  This is usually the result of calling `frame.insert` many times, which has poor performance.  Consider joining all columns at once using pd.concat(axis=1) instead. To get a de-fragmented frame, use `newframe = frame.copy()`\n",
      "  db_new['I_68'] = (db_new['LIQUIDIT']+db_new['CREDBR']) / \\\n",
      "/tmp/ipykernel_81/1386739242.py:212: PerformanceWarning: DataFrame is highly fragmented.  This is usually the result of calling `frame.insert` many times, which has poor performance.  Consider joining all columns at once using pd.concat(axis=1) instead. To get a de-fragmented frame, use `newframe = frame.copy()`\n",
      "  db_new['I_69'] = (db_new['TOTATCOR']-db_new['TOPASCOR']) / \\\n",
      "/tmp/ipykernel_81/1386739242.py:214: PerformanceWarning: DataFrame is highly fragmented.  This is usually the result of calling `frame.insert` many times, which has poor performance.  Consider joining all columns at once using pd.concat(axis=1) instead. To get a de-fragmented frame, use `newframe = frame.copy()`\n",
      "  db_new['I_70'] = db_new['TOTCAPPE'] / \\\n",
      "/tmp/ipykernel_81/1386739242.py:216: PerformanceWarning: DataFrame is highly fragmented.  This is usually the result of calling `frame.insert` many times, which has poor performance.  Consider joining all columns at once using pd.concat(axis=1) instead. To get a de-fragmented frame, use `newframe = frame.copy()`\n",
      "  db_new['I_71'] = db_new['TOTCAPPE'] / \\\n",
      "/tmp/ipykernel_81/1386739242.py:218: PerformanceWarning: DataFrame is highly fragmented.  This is usually the result of calling `frame.insert` many times, which has poor performance.  Consider joining all columns at once using pd.concat(axis=1) instead. To get a de-fragmented frame, use `newframe = frame.copy()`\n",
      "  db_new['I_72'] = db_new['IMMATBR']/db_new['TOTATT'].where(db_new['TOTATT'] > 0)\n",
      "/tmp/ipykernel_81/1386739242.py:219: PerformanceWarning: DataFrame is highly fragmented.  This is usually the result of calling `frame.insert` many times, which has poor performance.  Consider joining all columns at once using pd.concat(axis=1) instead. To get a de-fragmented frame, use `newframe = frame.copy()`\n",
      "  db_new['I_73'] = db_new['IMMATLO']/db_new['TOTATT'].where(db_new['TOTATT'] > 0)\n",
      "/tmp/ipykernel_81/1386739242.py:220: PerformanceWarning: DataFrame is highly fragmented.  This is usually the result of calling `frame.insert` many times, which has poor performance.  Consider joining all columns at once using pd.concat(axis=1) instead. To get a de-fragmented frame, use `newframe = frame.copy()`\n",
      "  db_new['I_75'] = (db_new['TOTATT']-db_new['CAPNP']) / \\\n",
      "/tmp/ipykernel_81/1386739242.py:222: PerformanceWarning: DataFrame is highly fragmented.  This is usually the result of calling `frame.insert` many times, which has poor performance.  Consider joining all columns at once using pd.concat(axis=1) instead. To get a de-fragmented frame, use `newframe = frame.copy()`\n",
      "  db_new['I_76'] = db_new['DEBF'] / \\\n",
      "/tmp/ipykernel_81/1386739242.py:224: PerformanceWarning: DataFrame is highly fragmented.  This is usually the result of calling `frame.insert` many times, which has poor performance.  Consider joining all columns at once using pd.concat(axis=1) instead. To get a de-fragmented frame, use `newframe = frame.copy()`\n",
      "  db_new['I_77'] = (db_new['CAPNP']+db_new['FONAMMSV']) / \\\n",
      "/tmp/ipykernel_81/1386739242.py:226: PerformanceWarning: DataFrame is highly fragmented.  This is usually the result of calling `frame.insert` many times, which has poor performance.  Consider joining all columns at once using pd.concat(axis=1) instead. To get a de-fragmented frame, use `newframe = frame.copy()`\n",
      "  db_new['I_78'] = db_new['CAPNP']/db_new['IMMATBR'].where(db_new['IMMATBR'] > 0)\n",
      "/tmp/ipykernel_81/1386739242.py:227: PerformanceWarning: DataFrame is highly fragmented.  This is usually the result of calling `frame.insert` many times, which has poor performance.  Consider joining all columns at once using pd.concat(axis=1) instead. To get a de-fragmented frame, use `newframe = frame.copy()`\n",
      "  db_new['I_79'] = db_new['TOTCAPPE'] / \\\n",
      "/tmp/ipykernel_81/1386739242.py:229: PerformanceWarning: DataFrame is highly fragmented.  This is usually the result of calling `frame.insert` many times, which has poor performance.  Consider joining all columns at once using pd.concat(axis=1) instead. To get a de-fragmented frame, use `newframe = frame.copy()`\n",
      "  db_new['I_80'] = db_new['OF']/db_new['RICNET'].where(db_new['RICNET'] > 0)\n",
      "/tmp/ipykernel_81/1386739242.py:230: PerformanceWarning: DataFrame is highly fragmented.  This is usually the result of calling `frame.insert` many times, which has poor performance.  Consider joining all columns at once using pd.concat(axis=1) instead. To get a de-fragmented frame, use `newframe = frame.copy()`\n",
      "  db_new['I_81'] = db_new['RISERVE']/db_new['TOTATT'].where(db_new['TOTATT'] > 0)\n",
      "/tmp/ipykernel_81/1386739242.py:231: PerformanceWarning: DataFrame is highly fragmented.  This is usually the result of calling `frame.insert` many times, which has poor performance.  Consider joining all columns at once using pd.concat(axis=1) instead. To get a de-fragmented frame, use `newframe = frame.copy()`\n",
      "  db_new['I_82'] = (db_new['TOTATCOR']-db_new['DECOBR']) / \\\n",
      "/tmp/ipykernel_81/1386739242.py:233: PerformanceWarning: DataFrame is highly fragmented.  This is usually the result of calling `frame.insert` many times, which has poor performance.  Consider joining all columns at once using pd.concat(axis=1) instead. To get a de-fragmented frame, use `newframe = frame.copy()`\n",
      "  db_new['I_83'] = db_new['RISRETAI'] / \\\n",
      "/tmp/ipykernel_81/1386739242.py:235: PerformanceWarning: DataFrame is highly fragmented.  This is usually the result of calling `frame.insert` many times, which has poor performance.  Consider joining all columns at once using pd.concat(axis=1) instead. To get a de-fragmented frame, use `newframe = frame.copy()`\n",
      "  db_new['I_84'] = db_new['MON']/(db_new['DEBF']+db_new['DEBABR']+db_new['DEFIALBR']).where(\n",
      "/tmp/ipykernel_81/1386739242.py:237: PerformanceWarning: DataFrame is highly fragmented.  This is usually the result of calling `frame.insert` many times, which has poor performance.  Consider joining all columns at once using pd.concat(axis=1) instead. To get a de-fragmented frame, use `newframe = frame.copy()`\n",
      "  db_new['I_85'] = db_new['RISRETAI']/db_new['CAPNP'].where(db_new['CAPNP'] > 0)\n",
      "/tmp/ipykernel_81/1386739242.py:238: PerformanceWarning: DataFrame is highly fragmented.  This is usually the result of calling `frame.insert` many times, which has poor performance.  Consider joining all columns at once using pd.concat(axis=1) instead. To get a de-fragmented frame, use `newframe = frame.copy()`\n",
      "  db_new['I_86'] = db_new['VALAGGOP'] / \\\n",
      "/tmp/ipykernel_81/1386739242.py:240: PerformanceWarning: DataFrame is highly fragmented.  This is usually the result of calling `frame.insert` many times, which has poor performance.  Consider joining all columns at once using pd.concat(axis=1) instead. To get a de-fragmented frame, use `newframe = frame.copy()`\n",
      "  db_new['I_87'] = db_new['AMMIMMAT'] / \\\n",
      "/tmp/ipykernel_81/1386739242.py:242: PerformanceWarning: DataFrame is highly fragmented.  This is usually the result of calling `frame.insert` many times, which has poor performance.  Consider joining all columns at once using pd.concat(axis=1) instead. To get a de-fragmented frame, use `newframe = frame.copy()`\n",
      "  db_new['I_88'] = db_new['MAGA'] / \\\n",
      "/tmp/ipykernel_81/1386739242.py:245: PerformanceWarning: DataFrame is highly fragmented.  This is usually the result of calling `frame.insert` many times, which has poor performance.  Consider joining all columns at once using pd.concat(axis=1) instead. To get a de-fragmented frame, use `newframe = frame.copy()`\n",
      "  db_new['I_89'] = db_new['DEBF']/db_new['TOTATT'].where(db_new['TOTATT'] > 0)\n",
      "/tmp/ipykernel_81/1386739242.py:246: PerformanceWarning: DataFrame is highly fragmented.  This is usually the result of calling `frame.insert` many times, which has poor performance.  Consider joining all columns at once using pd.concat(axis=1) instead. To get a de-fragmented frame, use `newframe = frame.copy()`\n",
      "  db_new['I_90'] = db_new['OF'] / \\\n",
      "/tmp/ipykernel_81/1386739242.py:249: PerformanceWarning: DataFrame is highly fragmented.  This is usually the result of calling `frame.insert` many times, which has poor performance.  Consider joining all columns at once using pd.concat(axis=1) instead. To get a de-fragmented frame, use `newframe = frame.copy()`\n",
      "  db_new['I_91'] = db_new['OF'] / \\\n",
      "/tmp/ipykernel_81/1386739242.py:252: PerformanceWarning: DataFrame is highly fragmented.  This is usually the result of calling `frame.insert` many times, which has poor performance.  Consider joining all columns at once using pd.concat(axis=1) instead. To get a de-fragmented frame, use `newframe = frame.copy()`\n",
      "  db_new['I_92'] = (db_new['MON']/db_new['TOTATT'].where(db_new['TOTATT'] > 0))-(db_new['OF']/(db_new['DEBF']+db_new['DEBABR']+db_new['DEFIALBR']).where(\n",
      "/tmp/ipykernel_81/1386739242.py:254: PerformanceWarning: DataFrame is highly fragmented.  This is usually the result of calling `frame.insert` many times, which has poor performance.  Consider joining all columns at once using pd.concat(axis=1) instead. To get a de-fragmented frame, use `newframe = frame.copy()`\n",
      "  db_new['I_93'] = db_new['MOL']/(db_new['OF']*0.25*(db_new['DEBF']+db_new['DEFIBR'])).where(\n",
      "/tmp/ipykernel_81/1386739242.py:256: PerformanceWarning: DataFrame is highly fragmented.  This is usually the result of calling `frame.insert` many times, which has poor performance.  Consider joining all columns at once using pd.concat(axis=1) instead. To get a de-fragmented frame, use `newframe = frame.copy()`\n",
      "  db_new['I_94'] = (db_new['LIQUIDIT']+db_new['CAPNP']-db_new['TOTATIMM'] -\n",
      "/tmp/ipykernel_81/1386739242.py:258: PerformanceWarning: DataFrame is highly fragmented.  This is usually the result of calling `frame.insert` many times, which has poor performance.  Consider joining all columns at once using pd.concat(axis=1) instead. To get a de-fragmented frame, use `newframe = frame.copy()`\n",
      "  db_new['I_95'] = db_new['AMMIMMAT'] / \\\n",
      "/tmp/ipykernel_81/1386739242.py:260: PerformanceWarning: DataFrame is highly fragmented.  This is usually the result of calling `frame.insert` many times, which has poor performance.  Consider joining all columns at once using pd.concat(axis=1) instead. To get a de-fragmented frame, use `newframe = frame.copy()`\n",
      "  db_new['I_96'] = pd.Series(\n",
      "/tmp/ipykernel_81/1386739242.py:262: PerformanceWarning: DataFrame is highly fragmented.  This is usually the result of calling `frame.insert` many times, which has poor performance.  Consider joining all columns at once using pd.concat(axis=1) instead. To get a de-fragmented frame, use `newframe = frame.copy()`\n",
      "  db_new['I_99'] = db_new['CASHFLOW'] / \\\n",
      "/tmp/ipykernel_81/1386739242.py:264: PerformanceWarning: DataFrame is highly fragmented.  This is usually the result of calling `frame.insert` many times, which has poor performance.  Consider joining all columns at once using pd.concat(axis=1) instead. To get a de-fragmented frame, use `newframe = frame.copy()`\n",
      "  db_new['I_99bis'] = db_new['CASHFLOW2'] / \\\n",
      "/tmp/ipykernel_81/1386739242.py:266: PerformanceWarning: DataFrame is highly fragmented.  This is usually the result of calling `frame.insert` many times, which has poor performance.  Consider joining all columns at once using pd.concat(axis=1) instead. To get a de-fragmented frame, use `newframe = frame.copy()`\n",
      "  db_new['I_101bis'] = db_new['SOPF']/db_new['MOL'].where(db_new['MOL'] > 0)\n",
      "/tmp/ipykernel_81/1386739242.py:267: PerformanceWarning: DataFrame is highly fragmented.  This is usually the result of calling `frame.insert` many times, which has poor performance.  Consider joining all columns at once using pd.concat(axis=1) instead. To get a de-fragmented frame, use `newframe = frame.copy()`\n",
      "  db_new['SOPF_RIC'] = db_new['SOPF'] / \\\n",
      "/tmp/ipykernel_81/1386739242.py:269: PerformanceWarning: DataFrame is highly fragmented.  This is usually the result of calling `frame.insert` many times, which has poor performance.  Consider joining all columns at once using pd.concat(axis=1) instead. To get a de-fragmented frame, use `newframe = frame.copy()`\n",
      "  db_new['a'] = db_new['MOL']/db_new['RICNET'].where(db_new['RICNET'] > 0)\n",
      "/tmp/ipykernel_81/1386739242.py:273: PerformanceWarning: DataFrame is highly fragmented.  This is usually the result of calling `frame.insert` many times, which has poor performance.  Consider joining all columns at once using pd.concat(axis=1) instead. To get a de-fragmented frame, use `newframe = frame.copy()`\n",
      "  db_sorted['LRISNERET'] = db_sorted['RISNERET'].shift(1)\n",
      "/tmp/ipykernel_81/1386739242.py:274: PerformanceWarning: DataFrame is highly fragmented.  This is usually the result of calling `frame.insert` many times, which has poor performance.  Consider joining all columns at once using pd.concat(axis=1) instead. To get a de-fragmented frame, use `newframe = frame.copy()`\n",
      "  db_sorted['LTOPASCOR'] = db_sorted['TOPASCOR'].shift(1)\n",
      "/tmp/ipykernel_81/1386739242.py:275: PerformanceWarning: DataFrame is highly fragmented.  This is usually the result of calling `frame.insert` many times, which has poor performance.  Consider joining all columns at once using pd.concat(axis=1) instead. To get a de-fragmented frame, use `newframe = frame.copy()`\n",
      "  db_sorted['LMOL'] = db_sorted['MOL'].shift(1)\n",
      "/tmp/ipykernel_81/1386739242.py:276: PerformanceWarning: DataFrame is highly fragmented.  This is usually the result of calling `frame.insert` many times, which has poor performance.  Consider joining all columns at once using pd.concat(axis=1) instead. To get a de-fragmented frame, use `newframe = frame.copy()`\n",
      "  db_sorted['LCAPNP'] = db_sorted['CAPNP'].shift(1)\n",
      "/tmp/ipykernel_81/1386739242.py:277: PerformanceWarning: DataFrame is highly fragmented.  This is usually the result of calling `frame.insert` many times, which has poor performance.  Consider joining all columns at once using pd.concat(axis=1) instead. To get a de-fragmented frame, use `newframe = frame.copy()`\n",
      "  db_sorted['LVALAGGOP'] = db_sorted['VALAGGOP'].shift(1)\n",
      "/tmp/ipykernel_81/1386739242.py:278: PerformanceWarning: DataFrame is highly fragmented.  This is usually the result of calling `frame.insert` many times, which has poor performance.  Consider joining all columns at once using pd.concat(axis=1) instead. To get a de-fragmented frame, use `newframe = frame.copy()`\n",
      "  db_sorted['LRICNET'] = db_sorted['RICNET'].shift(1)\n",
      "/tmp/ipykernel_81/1386739242.py:279: PerformanceWarning: DataFrame is highly fragmented.  This is usually the result of calling `frame.insert` many times, which has poor performance.  Consider joining all columns at once using pd.concat(axis=1) instead. To get a de-fragmented frame, use `newframe = frame.copy()`\n",
      "  db_sorted['LTOTATT'] = db_sorted['TOTATT'].shift(1)\n",
      "/tmp/ipykernel_81/1386739242.py:280: PerformanceWarning: DataFrame is highly fragmented.  This is usually the result of calling `frame.insert` many times, which has poor performance.  Consider joining all columns at once using pd.concat(axis=1) instead. To get a de-fragmented frame, use `newframe = frame.copy()`\n",
      "  db_sorted['La'] = db_sorted['a'].shift(1)\n",
      "/tmp/ipykernel_81/1386739242.py:282: PerformanceWarning: DataFrame is highly fragmented.  This is usually the result of calling `frame.insert` many times, which has poor performance.  Consider joining all columns at once using pd.concat(axis=1) instead. To get a de-fragmented frame, use `newframe = frame.copy()`\n",
      "  db_sorted['YEAR_LAG'] = pd.to_datetime(\n"
     ]
    }
   ],
   "source": [
    "bs_2 = db.replace(r'^\\s*$', np.nan, regex=True)\n",
    "\n",
    "# VARIABLES NECESSARY TO BUILD INDICATORS\n",
    "\n",
    "bs_2['CASHFLOW'] = np.round(np.nansum(\n",
    "    [bs_2['RISNERET'], bs_2['AMMIMMAT'], bs_2['SVALCRED'], bs_2['ACCRISON'], bs_2['AMMIMIMM']], axis=0), 3)\n",
    "\n",
    "bs_2['CASHFLOW2'] = np.round(np.nansum([bs_2['RISNERET'], bs_2['AMMIMMAT'],\n",
    "                                bs_2['SVALCRED'], bs_2['ACCRISON'], bs_2['AMMIMIMM'], -bs_2['ALSVALIM']], axis=0), 3)\n",
    "\n",
    "bs_2['RISEXESE'] = np.round(np.nansum(\n",
    "    [bs_2['RIPVASVA'], bs_2['ONPROSTR']], axis=0), 3)\n",
    "\n",
    "bs_2['RISEXESE2'] = np.round(np.nansum(\n",
    "    [bs_2['RIPVASVA'], bs_2['ONPROSTR'], bs_2['PLMINRE']], axis=0), 3)\n",
    "\n",
    "bs_2['CREDBR'] = np.round(np.nansum(\n",
    "    [bs_2['CRCOMBR'], bs_2['CRFINBR'], bs_2['CRALBR']], axis=0), 3)\n",
    "\n",
    "bs_2['RISERVE'] = np.round(np.nansum(\n",
    "    [bs_2['RISSOVRP'], bs_2['ALRIS']], axis=0), 3)\n",
    "\n",
    "bs_2['DEBFORN'] = np.round(np.nansum(\n",
    "    [bs_2['DECOALML'], bs_2['DEFORNBR']], axis=0), 3)\n",
    "\n",
    "bs_2['CAPCIRC'] = np.round(np.nansum([bs_2['CAPNP'], -bs_2['IMIMMAT'], -bs_2['IMMATBR'], -\n",
    "                              bs_2['IMMATCOR'], -bs_2['ATFINIMM'], bs_2['FONDIACC'], bs_2['DEBF']], axis=0), 3)\n",
    "\n",
    "bs_2['ATREAL'] = np.round(np.nansum(\n",
    "    [bs_2['TOTATCOR'], -bs_2['MAGA'], -bs_2['LIQUIDIT']], axis=0), 3)\n",
    "\n",
    "bs_2['SOPF'] = np.round(np.nansum([bs_2['OF'], -bs_2['PFN']], axis=0), 3)\n",
    "\n",
    "bs_2['DEBTMDL'] = np.round(np.nansum(\n",
    "    [bs_2['TOTCAPPE'], -bs_2['CAPNP']], axis=0), 3)\n",
    "\n",
    "bs_2['CAPTERZ'] = np.round(np.nansum(\n",
    "    [bs_2['TOTCAPPE'], -bs_2['CAPNP'], bs_2['TOPASCOR']], axis=0), 3)\n",
    "\n",
    "bs_2['IMMNE'] = np.round(np.nansum(\n",
    "    [bs_2['IMIMMAT'], bs_2['IMMATBR'], bs_2['IMMATCOR']], axis=0), 3)\n",
    "\n",
    "bs_2['CAPINVTAN'] = np.round(np.nansum(\n",
    "    [bs_2['IMMNE'], bs_2['MAGA'], bs_2['CRCOMBR'], bs_2['CRCODIML'], -bs_2['DECOALML'], -bs_2['DECOBR']], axis=0), 3)\n",
    "\n",
    "bs_2['DBTOT'] = np.round(np.nansum(\n",
    "    [bs_2['DEBF'], bs_2['TOPASCOR']], axis=0), 3)\n",
    "\n",
    "bs_2['AMMTOT'] = np.round(np.nansum(\n",
    "    [bs_2['AMMIMMAT'], bs_2['AMMIMIMM']], axis=0), 3)\n",
    "\n",
    "bs_2['COSTPROD'] = np.round(np.nansum(\n",
    "    [bs_2['MATPRICO'], -bs_2['ACQCONS'], bs_2['SER'], bs_2['CL1']], axis=0), 3)\n",
    "\n",
    "bs_2['CAPCIRCOP'] = np.round(np.nansum(\n",
    "    [bs_2['MAGA'], bs_2['CRCOMBR'], bs_2['CRALBR'], -bs_2['DECOBR'], -bs_2['DEDIVBR']], axis=0), 3)\n",
    "\n",
    "bs_2['SGF'] = np.round(np.nansum([bs_2['PFN'], -bs_2['OF']], axis=0), 3)\n",
    "\n",
    "bs_2['TOT_COST_OP'] = np.round(np.nansum([bs_2['MATPRICO'], -bs_2['ACQCONS'], bs_2['SER'],\n",
    "                                  bs_2['CL1'], bs_2['AMMIMMAT'], bs_2['SVALCRED'], bs_2['ACCRISON']], axis=0), 3)\n",
    "\n",
    "bs_2['VALAGGCOM'] = np.round(np.nansum([bs_2['VALAGGOP'], bs_2['SALRIOND'], bs_2['ALSVALIM'],\n",
    "                                bs_2['PFN'], bs_2['PLMINRE'], bs_2['ONPROSTR'], bs_2['RIPVASVA']], axis=0), 3)\n",
    "\n",
    "bs_2['VL1'] = np.round(np.nansum([bs_2['IMIMMAT'], bs_2['IMMATBR'],\n",
    "                          bs_2['CREFI'], bs_2['MAGA'], bs_2['CRCOMBR'], bs_2['CRALBR']], axis=0), 3)\n",
    "\n",
    "bs_2['CAPCIRCOP_FUN'] = np.round(np.nansum(\n",
    "    [bs_2['CAPCIRCOP'], -bs_2['DECOALML'], bs_2['DISTDELI']], axis=0), 3)\n",
    "\n",
    "bs_2['CAP_INV_OPE_NET'] = np.round(np.nansum(\n",
    "    [bs_2['IMMNE'], bs_2['CRCODIML'], bs_2['CAPCIRCOP_FUN'], -bs_2['ALFO'], -bs_2['TFPR']], axis=0), 3)\n",
    "\n",
    "bs_2['POS_FIN_NETTA'] = np.round(np.nansum(\n",
    "    [bs_2['ATTLIQ'], bs_2['CRFINBR'], -bs_2['DEFIBR'], bs_2['DEBF'], -bs_2['DECOALML'], bs_2['TFPR']], axis=0), 3)\n",
    "\n",
    "bs_2['INDEB_FIN_NETTO'] = np.round(np.nansum(\n",
    "    [bs_2['DEFIBAML'], bs_2['DEFIALML'], bs_2['DEFIBR'], -bs_2['ATTLIQ']], axis=0), 3)\n",
    "\n",
    "# CORRECTION OF VARIABLES WITH NEGATIVE ENTRIES\n",
    "\n",
    "list_clip = ['IMIMMAT', 'IMMATLO', 'FONAMMSV', 'IMMATBR', 'IMMATCOR', 'IMFIP', 'CREFI', 'CRCODIML', 'ATFINIMM', 'TOTATIMM', 'ACCAFORN',\n",
    "             'MATPRIM', 'MAGA', 'CRCOMBR', 'CRFINBR', 'CRALBR', 'CREDI', 'ATTLIQ', 'LIQUIDIT', 'TOTATCOR', 'TOTATT', 'ALFO',\n",
    "             'TFPR', 'FONDIACC', 'OBBLIML', 'DEFISOML', 'DEFIBAML', 'DEFIALML', 'DECOALML', 'DEBF', 'TOTCAPPE', 'DEBABR', 'DEFIALBR',\n",
    "             'DEFIBR', 'DEFORNBR', 'ACCOBR', 'DECOBR', 'DEDIVBR', 'TOPASCOR', 'TOPASPNE', 'RICNET', 'AMMIMMAT',\n",
    "             'AMMIMIMM', 'ATREAL', 'DEBTMDL', 'CAPTERZ', 'DBTOT', 'AMMTOT']\n",
    "\n",
    "bs_2[list_clip] = bs_2[list_clip].clip(lower=0)\n",
    "\n",
    "db_new = bs_2\n",
    "db_new['I_1'] = db_new['RISNERET']/db_new['TOTATT'].where(db_new['TOTATT'] > 0)\n",
    "db_new['I_2'] = (db_new['MON']+db_new['RISEXESE']+db_new['SALRIOND'] -\n",
    "                 db_new['AMMIMIMM'])/db_new['TOTATT'].where(db_new['TOTATT'] > 0)\n",
    "db_new['I_2bis'] = (db_new['MON']+db_new['RISEXESE2']+db_new['SALRIOND'] -\n",
    "                    db_new['AMMIMIMM'])/db_new['TOTATT'].where(db_new['TOTATT'] > 0)\n",
    "db_new['I_3'] = db_new['RISNERET']/db_new['CAPNP'].where(db_new['CAPNP'] > 0)\n",
    "db_new['ROE'] = db_new['RISNERET'] / \\\n",
    "    (db_new['CAPNP']+db_new['DISTDELI']\n",
    "     ).where((db_new['CAPNP']+db_new['DISTDELI']) > 0)\n",
    "db_new['I_4'] = db_new['RISNERET']/db_new['RICNET'].where(db_new['RICNET'] > 0)\n",
    "db_new['I_5'] = db_new['MON']/db_new['TOTATT'].where(db_new['TOTATT'] > 0)\n",
    "db_new['I_6'] = db_new['MON']/(db_new['TOTATT']+db_new['FONAMMSV']\n",
    "                               ).where((db_new['TOTATT']+db_new['FONAMMSV']) > 0)\n",
    "db_new['I_7'] = db_new['MON']/db_new['RICNET'].where(db_new['RICNET'] > 0)\n",
    "db_new['I_8'] = db_new['RISRETAI']/db_new['MON'].where(db_new['MON'] > 0)\n",
    "db_new['I_9'] = db_new['RISRETAI'] / \\\n",
    "    (db_new['OF']+db_new['RISRETAI']\n",
    "     ).where((db_new['OF']+db_new['RISRETAI']) > 0)\n",
    "db_new['I_10'] = db_new['MON']/db_new['OF'].where(db_new['OF'] > 0)\n",
    "db_new['I_11'] = db_new['CASHFLOW']/db_new['OF'].where(db_new['OF'] > 0)\n",
    "db_new['I_11bis'] = db_new['CASHFLOW2']/db_new['OF'].where(db_new['OF'] > 0)\n",
    "db_new['I_12'] = db_new['CASHFLOW'] / \\\n",
    "    db_new['RICNET'].where(db_new['RICNET'] > 0)\n",
    "db_new['I_12bis'] = db_new['CASHFLOW2'] / \\\n",
    "    db_new['RICNET'].where(db_new['RICNET'] > 0)\n",
    "db_new['I_13'] = db_new['CASHFLOW'] / \\\n",
    "    db_new['TOTATT'].where(db_new['TOTATT'] > 0)\n",
    "db_new['I_13bis'] = db_new['CASHFLOW2'] / \\\n",
    "    db_new['TOTATT'].where(db_new['TOTATT'] > 0)\n",
    "db_new['I_14'] = db_new['CASHFLOW'] / \\\n",
    "    (db_new['TOTATT']+db_new['FONAMMSV']\n",
    "     ).where((db_new['TOTATT']+db_new['FONAMMSV']) > 0)\n",
    "db_new['I_15'] = db_new['CASHFLOW'] / \\\n",
    "    (db_new['DEBF']+db_new['TOPASCOR']\n",
    "     ).where((db_new['DEBF']+db_new['TOPASCOR']) > 0)\n",
    "db_new['I_15bis'] = db_new['CASHFLOW2'] / \\\n",
    "    (db_new['DEBF']+db_new['TOPASCOR']\n",
    "     ).where((db_new['DEBF']+db_new['TOPASCOR']) > 0)\n",
    "db_new['I_16'] = db_new['CASHFLOW'] / \\\n",
    "    db_new['TOPASCOR'].where(db_new['TOPASCOR'] > 0)\n",
    "db_new['I_16bis'] = db_new['CASHFLOW2'] / \\\n",
    "    db_new['TOPASCOR'].where(db_new['TOPASCOR'] > 0)\n",
    "db_new['I_17'] = db_new['VALPROD']/db_new['TOTATT'].where(db_new['TOTATT'] > 0)\n",
    "db_new['I_18'] = db_new['VALAGGOP'] / \\\n",
    "    db_new['TOTATT'].where(db_new['TOTATT'] > 0)\n",
    "db_new['I_19'] = db_new['MOL']/db_new['RICNET'].where(db_new['RICNET'] > 0)\n",
    "db_new['I_20'] = db_new['MOL']/db_new['TOTATT'].where(db_new['TOTATT'] > 0)\n",
    "db_new['I_21'] = db_new['MOL'] / \\\n",
    "    (db_new['TOTATT']+db_new['FONAMMSV']\n",
    "     ).where((db_new['TOTATT']+db_new['FONAMMSV']) > 0)\n",
    "db_new['I_22'] = db_new['MOL']/db_new['OF'].where(db_new['OF'] > 0)\n",
    "db_new['I_23'] = db_new['VALPROD'] / \\\n",
    "    db_new['IMMATLO'].where(db_new['IMMATLO'] > 0)\n",
    "db_new['I_24'] = (db_new['RISNERET']+db_new['AMMIMMAT']) / \\\n",
    "    db_new['TOTATT'].where(db_new['TOTATT'] > 0)\n",
    "db_new['I_25'] = db_new['MON']/db_new['MOL'].where(db_new['MOL'] > 0)\n",
    "db_new['I_26'] = db_new['RICNET']/db_new['TOTATT'].where(db_new['TOTATT'] > 0)\n",
    "db_new['I_28'] = db_new['CAPNP']/db_new['RICNET'].where(db_new['RICNET'] > 0)\n",
    "db_new['I_29'] = db_new['IMMATBR']/db_new['RICNET'].where(db_new['RICNET'] > 0)\n",
    "db_new['I_30'] = db_new['IMMATLO']/db_new['RICNET'].where(db_new['RICNET'] > 0)\n",
    "db_new['I_31'] = db_new['RICNET'] / \\\n",
    "    db_new['TOTATCOR'].where(db_new['TOTATCOR'] > 0)\n",
    "db_new['I_33'] = db_new['LIQUIDIT'] / \\\n",
    "    db_new['RICNET'].where(db_new['RICNET'] > 0)\n",
    "db_new['I_36'] = (db_new['LIQUIDIT']+db_new['CREDBR']) / \\\n",
    "    db_new['RICNET'].where(db_new['RICNET'] > 0)\n",
    "db_new['I_38'] = (db_new['TOTATCOR']-db_new['TOPASCOR']) / \\\n",
    "    db_new['RICNET'].where(db_new['RICNET'] > 0)\n",
    "db_new['I_39'] = (db_new['TOTATCOR']-db_new['DECOBR']) / \\\n",
    "    db_new['RICNET'].where(db_new['RICNET'] > 0)\n",
    "db_new['I_40'] = (db_new['TOTATCOR']-db_new['TOPASCOR'])/(db_new['TOTATT'] -\n",
    "                                                          db_new['CAPNP']).where((db_new['TOTATT']-db_new['CAPNP']) > 0)\n",
    "db_new['I_41'] = (db_new['TOTATCOR']-db_new['TOPASCOR']) / \\\n",
    "    db_new['TOTCAPPE'].where(db_new['TOTCAPPE'] > 0)\n",
    "db_new['I_42'] = (db_new['TOTATCOR']-db_new['TOPASCOR'])/(db_new['RICNET'] +\n",
    "                                                          db_new['SCFIN']).where((db_new['RICNET']+db_new['SCFIN']) > 0)\n",
    "db_new['I_43'] = db_new['RICNET']/db_new['MAGA'].where(db_new['MAGA'] > 0)\n",
    "db_new['I_44'] = (db_new['RICNET']+db_new['SCFIN']) / \\\n",
    "    db_new['MAGA'].where(db_new['MAGA'] > 0)\n",
    "db_new['I_46'] = db_new['DEBFORN'] / \\\n",
    "    db_new['MATPRICO'].where(db_new['MATPRICO'] > 0)\n",
    "db_new['I_47'] = (db_new['TOPASCOR']+db_new['DEBF']+db_new['FONDIACC']\n",
    "                  )/db_new['MATPRICO'].where(db_new['MATPRICO'] > 0)\n",
    "db_new['I_48'] = db_new['TOPASCOR'] / \\\n",
    "    db_new['RICNET'].where(db_new['RICNET'] > 0)\n",
    "db_new['I_49'] = db_new['DEBABR']/db_new['RICNET'].where(db_new['RICNET'] > 0)\n",
    "db_new['I_50'] = db_new['CL1']/db_new['VALPROD'].where(db_new['VALPROD'] > 0)\n",
    "db_new['I_51'] = db_new['FONAMMSV'] / \\\n",
    "    db_new['IMMATLO'].where(db_new['IMMATLO'] > 0)\n",
    "db_new['I_52'] = db_new['AMMIMMAT'] / \\\n",
    "    db_new['IMMATLO'].where(db_new['IMMATLO'] > 0)\n",
    "db_new['I_53'] = db_new['CAPNP']/(db_new['TOPASCOR']+db_new['DEBF']+db_new['FONDIACC']).where(\n",
    "    (db_new['TOPASCOR']+db_new['DEBF']+db_new['FONDIACC']) > 0)\n",
    "db_new['I_55'] = db_new['CAPNP'] / \\\n",
    "    db_new['TOPASCOR'].where(db_new['TOPASCOR'] > 0)\n",
    "db_new['I_56'] = db_new['CAPNP'] / \\\n",
    "    (db_new['DEBF']+db_new['DEBABR']\n",
    "     ).where((db_new['DEBF']+db_new['DEBABR']) > 0)\n",
    "db_new['I_57'] = db_new['CAPNP']/db_new['DEBF'].where(db_new['DEBF'] > 0)\n",
    "db_new['I_58'] = db_new['CRCOMBR']/db_new['MAGA'].where(db_new['MAGA'] > 0)\n",
    "db_new['I_59'] = (db_new['LIQUIDIT']-db_new['DEBABR'] -\n",
    "                  db_new['DEFIALBR'])/db_new['TOTATT'].where(db_new['TOTATT'] > 0)\n",
    "db_new['I_60'] = (db_new['TOPASCOR']+db_new['DEBF'] +\n",
    "                  db_new['FONDIACC'])/db_new['RICNET'].where(db_new['RICNET'] > 0)\n",
    "db_new['I_61'] = db_new['TOTATCOR'] / \\\n",
    "    db_new['TOPASCOR'].where(db_new['TOPASCOR'] > 0)\n",
    "db_new['I_62'] = (db_new['CREDBR']+db_new['LIQUIDIT']) / \\\n",
    "    db_new['TOPASCOR'].where(db_new['TOPASCOR'] > 0)\n",
    "db_new['I_63'] = db_new['LIQUIDIT'] / \\\n",
    "    db_new['TOPASCOR'].where(db_new['TOPASCOR'] > 0)\n",
    "db_new['I_64'] = db_new['LIQUIDIT'] / \\\n",
    "    db_new['TOTATT'].where(db_new['TOTATT'] > 0)\n",
    "db_new['I_65'] = db_new['TOPASCOR'] / \\\n",
    "    db_new['TOTATT'].where(db_new['TOTATT'] > 0)\n",
    "db_new['I_66'] = (db_new['DEFIBAML']+db_new['DEBABR']) / \\\n",
    "    db_new['TOTATT'].where(db_new['TOTATT'] > 0)\n",
    "db_new['I_67'] = db_new['TOTATCOR'] / \\\n",
    "    db_new['TOTATT'].where(db_new['TOTATT'] > 0)\n",
    "db_new['I_68'] = (db_new['LIQUIDIT']+db_new['CREDBR']) / \\\n",
    "    db_new['TOTATT'].where(db_new['TOTATT'] > 0)\n",
    "db_new['I_69'] = (db_new['TOTATCOR']-db_new['TOPASCOR']) / \\\n",
    "    db_new['TOTATT'].where(db_new['TOTATT'] > 0)\n",
    "db_new['I_70'] = db_new['TOTCAPPE'] / \\\n",
    "    db_new['TOTATT'].where(db_new['TOTATT'] > 0)\n",
    "db_new['I_71'] = db_new['TOTCAPPE'] / \\\n",
    "    db_new['TOTATIMM'].where(db_new['TOTATIMM'] > 0)\n",
    "db_new['I_72'] = db_new['IMMATBR']/db_new['TOTATT'].where(db_new['TOTATT'] > 0)\n",
    "db_new['I_73'] = db_new['IMMATLO']/db_new['TOTATT'].where(db_new['TOTATT'] > 0)\n",
    "db_new['I_75'] = (db_new['TOTATT']-db_new['CAPNP']) / \\\n",
    "    db_new['TOTATCOR'].where(db_new['TOPASCOR'] > 0)\n",
    "db_new['I_76'] = db_new['DEBF'] / \\\n",
    "    db_new['TOPASCOR'].where(db_new['TOPASCOR'] > 0)\n",
    "db_new['I_77'] = (db_new['CAPNP']+db_new['FONAMMSV']) / \\\n",
    "    db_new['IMMATLO'].where(db_new['IMMATLO'] > 0)\n",
    "db_new['I_78'] = db_new['CAPNP']/db_new['IMMATBR'].where(db_new['IMMATBR'] > 0)\n",
    "db_new['I_79'] = db_new['TOTCAPPE'] / \\\n",
    "    db_new['IMMATBR'].where(db_new['IMMATBR'] > 0)\n",
    "db_new['I_80'] = db_new['OF']/db_new['RICNET'].where(db_new['RICNET'] > 0)\n",
    "db_new['I_81'] = db_new['RISERVE']/db_new['TOTATT'].where(db_new['TOTATT'] > 0)\n",
    "db_new['I_82'] = (db_new['TOTATCOR']-db_new['DECOBR']) / \\\n",
    "    db_new['DEBABR'].where(db_new['DEBABR'] > 0)\n",
    "db_new['I_83'] = db_new['RISRETAI'] / \\\n",
    "    db_new['TOTATT'].where(db_new['TOTATT'] > 0)\n",
    "db_new['I_84'] = db_new['MON']/(db_new['DEBF']+db_new['DEBABR']+db_new['DEFIALBR']).where(\n",
    "    (db_new['DEBF']+db_new['DEBABR']+db_new['DEFIALBR']) > 0)\n",
    "db_new['I_85'] = db_new['RISRETAI']/db_new['CAPNP'].where(db_new['CAPNP'] > 0)\n",
    "db_new['I_86'] = db_new['VALAGGOP'] / \\\n",
    "    db_new['RICNET'].where(db_new['RICNET'] > 0)\n",
    "db_new['I_87'] = db_new['AMMIMMAT'] / \\\n",
    "    db_new['IMMATBR'].where(db_new['IMMATBR'] > 0)\n",
    "db_new['I_88'] = db_new['MAGA'] / \\\n",
    "    (db_new['MATPRICO']+db_new['ACQCONS']\n",
    "     ).where((db_new['MATPRICO']+db_new['ACQCONS']) > 0)\n",
    "db_new['I_89'] = db_new['DEBF']/db_new['TOTATT'].where(db_new['TOTATT'] > 0)\n",
    "db_new['I_90'] = db_new['OF'] / \\\n",
    "    (db_new['DEBF']+db_new['TOPASCOR']\n",
    "     ).where((db_new['DEBF']+db_new['TOPASCOR']) > 0)\n",
    "db_new['I_91'] = db_new['OF'] / \\\n",
    "    (db_new['DEBF']+db_new['DEFIBR']\n",
    "     ).where((db_new['DEBF']+db_new['DEFIBR']) > 0)\n",
    "db_new['I_92'] = (db_new['MON']/db_new['TOTATT'].where(db_new['TOTATT'] > 0))-(db_new['OF']/(db_new['DEBF']+db_new['DEBABR']+db_new['DEFIALBR']).where(\n",
    "    (db_new['DEBF']+db_new['DEBABR']+db_new['DEFIALBR']) > 0))*((db_new['DEBF']+db_new['DEBABR']+db_new['DEFIALBR'])/db_new['CAPNP'].where(db_new['CAPNP'] > 0))\n",
    "db_new['I_93'] = db_new['MOL']/(db_new['OF']*0.25*(db_new['DEBF']+db_new['DEFIBR'])).where(\n",
    "    (db_new['OF']*0.25*(db_new['DEBF']+db_new['DEFIBR'])) > 0)\n",
    "db_new['I_94'] = (db_new['LIQUIDIT']+db_new['CAPNP']-db_new['TOTATIMM'] -\n",
    "                  db_new['TOPASCOR'])/(2*db_new['TOTATT']).where((2*db_new['TOTATT']) > 0)\n",
    "db_new['I_95'] = db_new['AMMIMMAT'] / \\\n",
    "    db_new['RICNET'].where(db_new['RICNET'] > 0)\n",
    "db_new['I_96'] = pd.Series(\n",
    "    np.log(db_new['TOTATT'].where(db_new['TOTATT'] > 0)))\n",
    "db_new['I_99'] = db_new['CASHFLOW'] / \\\n",
    "    db_new['VALAGGOP'].where(db_new['VALAGGOP'] > 0)\n",
    "db_new['I_99bis'] = db_new['CASHFLOW2'] / \\\n",
    "    db_new['VALAGGOP'].where(db_new['VALAGGOP'] > 0)\n",
    "db_new['I_101bis'] = db_new['SOPF']/db_new['MOL'].where(db_new['MOL'] > 0)\n",
    "db_new['SOPF_RIC'] = db_new['SOPF'] / \\\n",
    "    db_new['RICNET'].where(db_new['RICNET'] > 0)\n",
    "db_new['a'] = db_new['MOL']/db_new['RICNET'].where(db_new['RICNET'] > 0)\n",
    "\n",
    "db_sorted = db_new.sort_values(by=['GROUP', 'INSTITUTE', 'CIC', 'BS_DATE'])\n",
    "\n",
    "db_sorted['LRISNERET'] = db_sorted['RISNERET'].shift(1)\n",
    "db_sorted['LTOPASCOR'] = db_sorted['TOPASCOR'].shift(1)\n",
    "db_sorted['LMOL'] = db_sorted['MOL'].shift(1)\n",
    "db_sorted['LCAPNP'] = db_sorted['CAPNP'].shift(1)\n",
    "db_sorted['LVALAGGOP'] = db_sorted['VALAGGOP'].shift(1)\n",
    "db_sorted['LRICNET'] = db_sorted['RICNET'].shift(1)\n",
    "db_sorted['LTOTATT'] = db_sorted['TOTATT'].shift(1)\n",
    "db_sorted['La'] = db_sorted['a'].shift(1)\n",
    "\n",
    "db_sorted['YEAR_LAG'] = pd.to_datetime(\n",
    "    db_sorted['BS_DATE']).dt.year - pd.to_datetime(db_sorted['BS_DATE']).shift(1).dt.year\n",
    "\n",
    "db_filt = db_sorted.drop(['CAP', 'VERSAZIO', 'RISSOVRP',\n",
    "                          'AZIOPROP', 'RISNETTE', 'FONAMMSV',\n",
    "                          'ATFINIMM', 'MATPRIM', 'CREDI', 'CRVSSOC',\n",
    "                          'CAPVERS', 'RISRIVAL', 'ALRIS', 'UTIESERI',\n",
    "                          'ALFO', 'TFPR', 'OBBLIML', 'DEFIALBR',\n",
    "                          'IMPREDD', 'SOPF', 'DEDIVBR', 'SCFIN',\n",
    "                          'ALSVALIM', 'PFN', 'PLMINRE', 'RIPVASVA',\n",
    "                          'ONPROSTR', 'RISEXESE', 'RISEXESE2',\n",
    "                          'CREDBR', 'RISERVE', 'DEBTMDL',\n",
    "                          'INDEB_FIN_NETTO'], axis=1)\n",
    "\n",
    "db_filt.loc[(db_filt['YEAR_LAG'] == 1) & (db_filt['LRISNERET'] > 0), 'I_27'] = (\n",
    "    db_filt['RISNERET']-db_filt['LRISNERET'])/db_filt['LRISNERET']\n",
    "db_filt.loc[(db_filt['YEAR_LAG'] == 1) & (db_filt['LTOPASCOR'] > 0), 'I_32'] = (\n",
    "    db_filt['TOPASCOR']-db_filt['LTOPASCOR'])/db_filt['LTOPASCOR']\n",
    "db_filt.loc[(db_filt['YEAR_LAG'] == 1) & (db_filt['LMOL'] > 0), 'I_34'] = (\n",
    "    db_filt['MOL']-db_filt['LMOL'])/db_filt['LMOL']\n",
    "db_filt.loc[(db_filt['YEAR_LAG'] == 1) & (db_filt['LCAPNP'] > 0), 'I_35'] = (\n",
    "    db_filt['CAPNP']-db_filt['LCAPNP'])/db_filt['LCAPNP']\n",
    "db_filt.loc[(db_filt['YEAR_LAG'] == 1) & (db_filt['LVALAGGOP'] > 0), 'I_37'] = (\n",
    "    db_filt['VALAGGOP']-db_filt['LVALAGGOP'])/db_filt['LVALAGGOP']\n",
    "db_filt.loc[(db_filt['YEAR_LAG'] == 1) & (db_filt['LRICNET'] > 0), 'I_97'] = (\n",
    "    db_filt['RICNET']-db_filt['LRICNET'])/db_filt['LRICNET']\n",
    "db_filt.loc[(db_filt['YEAR_LAG'] == 1) & (db_filt['LTOTATT'] > 0), 'I_98'] = (\n",
    "    db_filt['TOTATT']-db_filt['LTOTATT'])/db_filt['LTOTATT']\n",
    "db_filt.loc[(db_filt['YEAR_LAG'] == 1) & (db_filt['La'] > 0),\n",
    "            'mol_fat'] = (db_filt['a']-db_filt['La'])/db_filt['La']\n",
    "\n",
    "db_filt_sorted = db_filt.sort_values(\n",
    "    by=['GROUP', 'INSTITUTE', 'CIC', 'BS_DATE'])\n",
    "first = db_filt_sorted.reset_index().groupby(\n",
    "    ['GROUP', 'INSTITUTE', 'CIC']).first()\n",
    "db_filt.loc[first['index'], ['I_27', 'I_32', 'I_34',\n",
    "                             'I_35', 'I_37', 'I_97', 'I_98', 'mol_fat']] = np.nan\n",
    "\n",
    "db = db_filt"
   ]
  },
  {
   "cell_type": "code",
   "execution_count": 12,
   "id": "2fff2436-9af3-442f-8c61-7fad830b54e6",
   "metadata": {},
   "outputs": [],
   "source": [
    "# Conditional variables for intermediate construction"
   ]
  },
  {
   "cell_type": "code",
   "execution_count": 13,
   "id": "f7048da1-0e82-4cd9-b012-03a4afab4ea7",
   "metadata": {
    "tags": []
   },
   "outputs": [
    {
     "name": "stderr",
     "output_type": "stream",
     "text": [
      "/tmp/ipykernel_81/1100485222.py:308: PerformanceWarning: DataFrame is highly fragmented.  This is usually the result of calling `frame.insert` many times, which has poor performance.  Consider joining all columns at once using pd.concat(axis=1) instead. To get a de-fragmented frame, use `newframe = frame.copy()`\n",
      "  db.loc[db['DIPENDENTI_MEDI'] > 0, 'IND_33'] = db['RICNET']/db['DIPENDENTI_MEDI']\n",
      "/tmp/ipykernel_81/1100485222.py:309: PerformanceWarning: DataFrame is highly fragmented.  This is usually the result of calling `frame.insert` many times, which has poor performance.  Consider joining all columns at once using pd.concat(axis=1) instead. To get a de-fragmented frame, use `newframe = frame.copy()`\n",
      "  db.loc[db['DIPENDENTI_MEDI'] > 0,\n",
      "/tmp/ipykernel_81/1100485222.py:311: PerformanceWarning: DataFrame is highly fragmented.  This is usually the result of calling `frame.insert` many times, which has poor performance.  Consider joining all columns at once using pd.concat(axis=1) instead. To get a de-fragmented frame, use `newframe = frame.copy()`\n",
      "  db.loc[db['DIPENDENTI_MEDI'] > 0, 'IND_35'] = db['CL1']/db['DIPENDENTI_MEDI']\n",
      "/tmp/ipykernel_81/1100485222.py:312: PerformanceWarning: DataFrame is highly fragmented.  This is usually the result of calling `frame.insert` many times, which has poor performance.  Consider joining all columns at once using pd.concat(axis=1) instead. To get a de-fragmented frame, use `newframe = frame.copy()`\n",
      "  db.loc[db['DIPENDENTI_MEDI'] > 0, 'IND_36'] = db['IMMATLO']/db['DIPENDENTI_MEDI']\n",
      "/tmp/ipykernel_81/1100485222.py:314: PerformanceWarning: DataFrame is highly fragmented.  This is usually the result of calling `frame.insert` many times, which has poor performance.  Consider joining all columns at once using pd.concat(axis=1) instead. To get a de-fragmented frame, use `newframe = frame.copy()`\n",
      "  db.loc[db['VALAGGOP'] > 0, 'IND_37'] = db['INV_IMMOB_MAT']/db['VALAGGOP']\n",
      "/tmp/ipykernel_81/1100485222.py:315: PerformanceWarning: DataFrame is highly fragmented.  This is usually the result of calling `frame.insert` many times, which has poor performance.  Consider joining all columns at once using pd.concat(axis=1) instead. To get a de-fragmented frame, use `newframe = frame.copy()`\n",
      "  db.loc[db['IMMATLO'] > 0, 'IND_42'] = db['VALAGGOP']/db['IMMATLO']\n",
      "/tmp/ipykernel_81/1100485222.py:316: PerformanceWarning: DataFrame is highly fragmented.  This is usually the result of calling `frame.insert` many times, which has poor performance.  Consider joining all columns at once using pd.concat(axis=1) instead. To get a de-fragmented frame, use `newframe = frame.copy()`\n",
      "  db.loc[(db['TOPASCOR']-db['ACCOBR']) > 0, 'IND_44'] = (db['TOTATCOR'] -\n",
      "/tmp/ipykernel_81/1100485222.py:318: PerformanceWarning: DataFrame is highly fragmented.  This is usually the result of calling `frame.insert` many times, which has poor performance.  Consider joining all columns at once using pd.concat(axis=1) instead. To get a de-fragmented frame, use `newframe = frame.copy()`\n",
      "  db.loc[db['CAPCIRCOP'] > 0, 'IND_46'] = db['DEBABR']/db['CAPCIRCOP']\n",
      "/tmp/ipykernel_81/1100485222.py:319: PerformanceWarning: DataFrame is highly fragmented.  This is usually the result of calling `frame.insert` many times, which has poor performance.  Consider joining all columns at once using pd.concat(axis=1) instead. To get a de-fragmented frame, use `newframe = frame.copy()`\n",
      "  db.loc[db['CAPCIRCOP'] > 0, 'IND_47'] = db['CAPCIRC']/db['CAPCIRCOP']\n",
      "/tmp/ipykernel_81/1100485222.py:320: PerformanceWarning: DataFrame is highly fragmented.  This is usually the result of calling `frame.insert` many times, which has poor performance.  Consider joining all columns at once using pd.concat(axis=1) instead. To get a de-fragmented frame, use `newframe = frame.copy()`\n",
      "  db.loc[(db['RICNET']*360) > 0, 'IND_48'] = (db['MAGA'] -\n",
      "/tmp/ipykernel_81/1100485222.py:322: PerformanceWarning: DataFrame is highly fragmented.  This is usually the result of calling `frame.insert` many times, which has poor performance.  Consider joining all columns at once using pd.concat(axis=1) instead. To get a de-fragmented frame, use `newframe = frame.copy()`\n",
      "  db.loc[db['RICNET'] > 0, 'IND_49'] = db['CRCOMBR']/db['RICNET']\n",
      "/tmp/ipykernel_81/1100485222.py:323: PerformanceWarning: DataFrame is highly fragmented.  This is usually the result of calling `frame.insert` many times, which has poor performance.  Consider joining all columns at once using pd.concat(axis=1) instead. To get a de-fragmented frame, use `newframe = frame.copy()`\n",
      "  db.loc[(db['MATPRICO']+db['SER']) > 0, 'IND_50'] = db['DEFORNBR'] / \\\n",
      "/tmp/ipykernel_81/1100485222.py:326: PerformanceWarning: DataFrame is highly fragmented.  This is usually the result of calling `frame.insert` many times, which has poor performance.  Consider joining all columns at once using pd.concat(axis=1) instead. To get a de-fragmented frame, use `newframe = frame.copy()`\n",
      "  db.loc[:, 'IND_51'] = db['IND_48']+db['IND_49']+db['IND_50']\n",
      "/tmp/ipykernel_81/1100485222.py:327: PerformanceWarning: DataFrame is highly fragmented.  This is usually the result of calling `frame.insert` many times, which has poor performance.  Consider joining all columns at once using pd.concat(axis=1) instead. To get a de-fragmented frame, use `newframe = frame.copy()`\n",
      "  db.loc[db['RICNET'] > 0, 'IND_52'] = db['CAPCIRCOP_FUN']/db['RICNET']\n",
      "/tmp/ipykernel_81/1100485222.py:328: PerformanceWarning: DataFrame is highly fragmented.  This is usually the result of calling `frame.insert` many times, which has poor performance.  Consider joining all columns at once using pd.concat(axis=1) instead. To get a de-fragmented frame, use `newframe = frame.copy()`\n",
      "  db.loc[(db['RICNET']-db['CAPNP']-db['FONDIACC']-db['LIQUIDIT']) > 0, 'IND_53'] = (\n",
      "/tmp/ipykernel_81/1100485222.py:330: PerformanceWarning: DataFrame is highly fragmented.  This is usually the result of calling `frame.insert` many times, which has poor performance.  Consider joining all columns at once using pd.concat(axis=1) instead. To get a de-fragmented frame, use `newframe = frame.copy()`\n",
      "  db.loc[(db['DEBF']-db['DECOALML']+db['DEFIBR']) > 0,\n",
      "/tmp/ipykernel_81/1100485222.py:332: PerformanceWarning: DataFrame is highly fragmented.  This is usually the result of calling `frame.insert` many times, which has poor performance.  Consider joining all columns at once using pd.concat(axis=1) instead. To get a de-fragmented frame, use `newframe = frame.copy()`\n",
      "  db.loc[(db['DEBF']-db['DECOALML']+db['DEFIBR']-db['LIQUIDIT']) > 0, 'IND_55'] = (\n",
      "/tmp/ipykernel_81/1100485222.py:334: PerformanceWarning: DataFrame is highly fragmented.  This is usually the result of calling `frame.insert` many times, which has poor performance.  Consider joining all columns at once using pd.concat(axis=1) instead. To get a de-fragmented frame, use `newframe = frame.copy()`\n",
      "  db.loc[(db['DEBF']-db['DECOALML']+db['DEFIBR']-db['LIQUIDIT']-db['DEFISOML']) > 0, 'IND_56'] = (db['CAPNP'] -\n",
      "/tmp/ipykernel_81/1100485222.py:336: PerformanceWarning: DataFrame is highly fragmented.  This is usually the result of calling `frame.insert` many times, which has poor performance.  Consider joining all columns at once using pd.concat(axis=1) instead. To get a de-fragmented frame, use `newframe = frame.copy()`\n",
      "  db.loc[(db['DEBF']-db['DECOALML']+db['DEFIBR']) > 0, 'IND_57'] = (db['DEFIBAML'] +\n",
      "/tmp/ipykernel_81/1100485222.py:338: PerformanceWarning: DataFrame is highly fragmented.  This is usually the result of calling `frame.insert` many times, which has poor performance.  Consider joining all columns at once using pd.concat(axis=1) instead. To get a de-fragmented frame, use `newframe = frame.copy()`\n",
      "  db.loc[db['VALAGGCOM'] > 0, 'IND_59'] = (\n",
      "/tmp/ipykernel_81/1100485222.py:340: PerformanceWarning: DataFrame is highly fragmented.  This is usually the result of calling `frame.insert` many times, which has poor performance.  Consider joining all columns at once using pd.concat(axis=1) instead. To get a de-fragmented frame, use `newframe = frame.copy()`\n",
      "  db.loc[(db['DEBF']-db['DECOALML']+db['DEFIBR']) > 0,\n",
      "/tmp/ipykernel_81/1100485222.py:342: PerformanceWarning: DataFrame is highly fragmented.  This is usually the result of calling `frame.insert` many times, which has poor performance.  Consider joining all columns at once using pd.concat(axis=1) instead. To get a de-fragmented frame, use `newframe = frame.copy()`\n",
      "  db.loc[db['MOL'] > 0, 'IND_61'] = db['OF']/db['MOL']\n",
      "/tmp/ipykernel_81/1100485222.py:343: PerformanceWarning: DataFrame is highly fragmented.  This is usually the result of calling `frame.insert` many times, which has poor performance.  Consider joining all columns at once using pd.concat(axis=1) instead. To get a de-fragmented frame, use `newframe = frame.copy()`\n",
      "  db.loc[(db['DEBF']-db['DECOALML']+db['DEFIBR']) > 0,\n",
      "/tmp/ipykernel_81/1100485222.py:345: PerformanceWarning: DataFrame is highly fragmented.  This is usually the result of calling `frame.insert` many times, which has poor performance.  Consider joining all columns at once using pd.concat(axis=1) instead. To get a de-fragmented frame, use `newframe = frame.copy()`\n",
      "  db.loc[db['TOTATIMM'] > 0, 'IND_64'] = db['CAPNP']/db['TOTATIMM']\n",
      "/tmp/ipykernel_81/1100485222.py:346: PerformanceWarning: DataFrame is highly fragmented.  This is usually the result of calling `frame.insert` many times, which has poor performance.  Consider joining all columns at once using pd.concat(axis=1) instead. To get a de-fragmented frame, use `newframe = frame.copy()`\n",
      "  db.loc[db['TOTATIMM'] > 0, 'IND_65'] = db['TOTCAPPE']/db['TOTATIMM']\n"
     ]
    }
   ],
   "source": [
    "db.loc[db['TOTATT'] == 0, 'CP_INV'] = 0\n",
    "db.loc[db['TOTATT'] > 0, 'CP_INV'] = db['CAPNP']/db['TOTATT']\n",
    "\n",
    "db.loc[(db[\"TOTATIMM\"] == 0) & (db[\"CAPNP\"] > 0), 'CP_IMNET'] = 10\n",
    "db.loc[(db['TOTATIMM'] == 0) & (db['CAPNP'] <= 0), 'CP_IMNET'] = 0\n",
    "db.loc[db[\"TOTATIMM\"] > 0, 'CP_IMNET'] = db['CAPNP']/db['TOTATIMM']\n",
    "\n",
    "db.loc[(db[\"CAPCIRC\"] <= 0) & (db[\"TOPASCOR\"] > 0), 'DBR_CIRC'] = 10\n",
    "db.loc[(db['CAPCIRC'] <= 0) & (db['TOPASCOR'] == 0), 'DBR_CIRC'] = 0\n",
    "db.loc[db[\"CAPCIRC\"] > 0, 'DBR_CIRC'] = db['TOPASCOR']/db['CAPCIRC']\n",
    "\n",
    "db.loc[(db[\"CAPNP\"] <= 0) & (db[\"CAPTERZ\"] > 0), 'CTER_CP'] = 10\n",
    "db.loc[(db['CAPNP'] <= 0) & (db['CAPTERZ'] == 0), 'CTER_CP'] = 0\n",
    "db.loc[db[\"CAPNP\"] > 0, 'CTER_CP'] = db['CAPTERZ']/db['CAPNP']\n",
    "\n",
    "db.loc[(db['RICNET'] == 0) & (db['TOPASCOR'] > 0), 'DBR_FAT'] = 10\n",
    "db.loc[(db['RICNET'] == 0) & (db['TOPASCOR'] == 0), 'DBR_FAT'] = 0\n",
    "db.loc[db['RICNET'] > 0, 'DBR_FAT'] = db['TOPASCOR']/db['RICNET']\n",
    "\n",
    "db.loc[db[\"SGF\"] > 0, 'SGF_FAT'] = 10\n",
    "db.loc[(db['RICNET'] == 0) & (db['SGF'] == 0), 'SGF_FAT'] = 0\n",
    "db.loc[(db['RICNET'] == 0) & (db['SGF'] < 0), 'SGF_FAT'] = -10\n",
    "db.loc[(db['RICNET'] != 0) & (db['SGF'] <= 0),\n",
    "       'SGF_FAT'] = db['SGF']/db['RICNET']\n",
    "\n",
    "db.loc[db[\"SGF\"] > 0, 'SGF_ROP'] = 10\n",
    "db.loc[(db['MON'] <= 0) & (db['SGF'] == 0), 'SGF_ROP'] = 0\n",
    "db.loc[(db['MON'] <= 0) & (db['SGF'] < 0), 'SGF_ROP'] = -10\n",
    "db.loc[(db['MON'] > 0) & (db['SGF'] <= 0), 'SGF_ROP'] = db['SGF']/db['MON']\n",
    "\n",
    "db.loc[(db['RICNET'] == 0) & ((db['TOPASCOR']-db['CAPCIRC']) <= 0), 'DBN_FAT'] = 0\n",
    "db.loc[(db['RICNET'] == 0) & ((db['TOPASCOR']-db['CAPCIRC']) > 0), 'DBN_FAT'] = 10\n",
    "db.loc[db['RICNET'] > 0, 'DBN_FAT'] = (\n",
    "    db['TOPASCOR']-db['CAPCIRC'])/db['RICNET']\n",
    "\n",
    "db.loc[(db['RICNET'] == 0) & (db['TOTATT'] == 0), 'INV_FAT'] = 0\n",
    "db.loc[(db['RICNET'] == 0) & (db['TOTATT'] > 0), 'INV_FAT'] = 10\n",
    "db.loc[db['RICNET'] > 0, 'INV_FAT'] = db['TOTATT']/db['RICNET']\n",
    "\n",
    "db.loc[(db['RICNET'] == 0) & (db['CASHFLOW'] == 0), 'CF_FAT'] = 0\n",
    "db.loc[(db['RICNET'] == 0) & (db['CASHFLOW'] > 0), 'CF_FAT'] = 10\n",
    "db.loc[(db['RICNET'] == 0) & (db['CASHFLOW'] < 0), 'CF_FAT'] = -10\n",
    "db.loc[db['RICNET'] > 0, 'CF_FAT'] = db['CASHFLOW']/db['RICNET']\n",
    "\n",
    "db.loc[(db['RICNET'] == 0) & (db['CASHFLOW2'] == 0), 'CF_FAT2'] = 0\n",
    "db.loc[(db['RICNET'] == 0) & (db['CASHFLOW2'] > 0), 'CF_FAT2'] = 10\n",
    "db.loc[(db['RICNET'] == 0) & (db['CASHFLOW2'] < 0), 'CF_FAT2'] = -10\n",
    "db.loc[db['RICNET'] > 0, 'CF_FAT2'] = db['CASHFLOW2']/db['RICNET']\n",
    "\n",
    "db.loc[(db['TOPASCOR'] == 0) & (db['ATREAL'] == 0), 'CRED_DBT'] = 0\n",
    "db.loc[(db['TOPASCOR'] == 0) & (db['ATREAL'] > 0), 'CRED_DBT'] = 10\n",
    "db.loc[db['TOPASCOR'] > 0, 'CRED_DBT'] = db['ATREAL']/db['TOPASCOR']\n",
    "\n",
    "db.loc[(db['VALAGGOP'] <= 0) & (db['MON'] <= 0), 'RISOP_VA'] = -10\n",
    "db.loc[(db['VALAGGOP'] > 0) & (db['MON'] < 0), 'RISOP_VA'] = 0\n",
    "db.loc[(db['VALAGGOP'] > 0) & (db['MON'] >= 0),\n",
    "       'RISOP_VA'] = db['MON']/db['VALAGGOP']\n",
    "\n",
    "db.loc[(db['MON'] <= 0) & (db['RISNERET'] <= 0), 'UT_RISOP'] = 0\n",
    "db.loc[(db['MON'] <= 0) & (db['RISNERET'] > 0), 'UT_RISOP'] = 10\n",
    "db.loc[(db['MON'] > 0) & (db['RISNERET'] < 0), 'UT_RISOP'] = 0\n",
    "db.loc[(db['MON'] > 0) & (db['RISNERET'] >= 0),\n",
    "       'UT_RISOP'] = db['RISNERET']/db['MON']\n",
    "\n",
    "db.loc[(db['RICNET'] == 0) & (db['AMMTOT'] == 0), 'AMM_FAT'] = 0\n",
    "db.loc[(db['RICNET'] == 0) & (db['AMMTOT'] > 0), 'AMM_FAT'] = 10\n",
    "db.loc[db['RICNET'] > 0, 'AMM_FAT'] = db['AMMTOT']/db['RICNET']\n",
    "\n",
    "db.loc[(db['RICNET'] == 0) & (db['MAGA'] == 0), 'RIMA_FAT'] = 0\n",
    "db.loc[(db['RICNET'] == 0) & (db['MAGA'] > 0), 'RIMA_FAT'] = 10\n",
    "db.loc[db['RICNET'] > 0, 'RIMA_FAT'] = db['MAGA']/db['RICNET']\n",
    "\n",
    "db.loc[(db['CAPTERZ'] == 0) & (db['RICNET'] == 0), 'FAT_CTR'] = 0\n",
    "db.loc[(db['CAPTERZ'] == 0) & (db['RICNET'] > 0), 'FAT_CTR'] = 10\n",
    "db.loc[db['CAPTERZ'] > 0, 'FAT_CTR'] = db['RICNET']/db['CAPTERZ']\n",
    "\n",
    "db.loc[(db['TOTATIMM'] == 0) & (db['TOTCAPPE'] == 0), 'RSF_ATIM'] = 0\n",
    "db.loc[(db['TOTATIMM'] == 0) & (db['TOTCAPPE'] > 0), 'RSF_ATIM'] = 10\n",
    "db.loc[(db['TOTATIMM'] == 0) & (db['TOTCAPPE'] < 0), 'RSF_ATIM'] = -10\n",
    "db.loc[db['TOTATIMM'] > 0, 'RSF_ATIM'] = db['TOTCAPPE']/db['TOTATIMM']\n",
    "\n",
    "db.loc[(db['CAPNP'] <= 0) & (\n",
    "    db[['DEFIBAML', 'DEBABR']].sum(axis=1) == 0), 'DBK_CPR'] = 0\n",
    "db.loc[(db['CAPNP'] <= 0) & (\n",
    "    db[['DEFIBAML', 'DEBABR']].sum(axis=1) > 0), 'DBK_CPR'] = 10\n",
    "db.loc[db['CAPNP'] > 0, 'DBK_CPR'] = db[[\n",
    "    'DEFIBAML', 'DEBABR']].sum(axis=1)/db['CAPNP']\n",
    "\n",
    "db.loc[(db['CASHFLOW'] > 0) & (db['SGF'] >= 0), 'SGF_CFL'] = 10\n",
    "db.loc[(db['CASHFLOW'] == 0) & (db['SGF'] >= 0), 'SGF_CFL'] = 0\n",
    "db.loc[(db['CASHFLOW'] <= 0) & (db['SGF'] < 0), 'SGF_CFL'] = -10\n",
    "db.loc[(db['CASHFLOW'] < 0) & (db['SGF'] >= 0) & (\n",
    "    db[['CASHFLOW', 'SGF']].sum(axis=1) > 0), 'SGF_CFL'] = 0\n",
    "db.loc[(db['CASHFLOW'] > 0) & (db['SGF'] < 0),\n",
    "       'SGF_CFL'] = db['SGF']/db['CASHFLOW']\n",
    "db.loc[db['SGF_CFL'] < -10, 'SGF_CFL'] = -10\n",
    "\n",
    "db.loc[(db['CASHFLOW2'] > 0) & (db['SGF'] >= 0), 'SGF_CFL2'] = 10\n",
    "db.loc[(db['CASHFLOW2'] == 0) & (db['SGF'] >= 0), 'SGF_CFL2'] = 0\n",
    "db.loc[(db['CASHFLOW2'] <= 0) & (db['SGF'] < 0), 'SGF_CFL2'] = -10\n",
    "db.loc[(db['CASHFLOW2'] < 0) & (db['SGF'] >= 0) & (\n",
    "    db[['CASHFLOW2', 'SGF']].sum(axis=1) > 0), 'SGF_CFL2'] = 0\n",
    "db.loc[(db['CASHFLOW2'] > 0) & (db['SGF'] < 0),\n",
    "       'SGF_CFL2'] = db['SGF']/db['CASHFLOW2']\n",
    "db.loc[db['SGF_CFL2'] < -10, 'SGF_CFL2'] = -10\n",
    "\n",
    "db.loc[(db['CASHFLOW'] <= 0) & (db['DBTOT'] == 0), 'CFL_DBT'] = 0\n",
    "db.loc[(db['CASHFLOW'] > 0) & (db['DBTOT'] == 0), 'CFL_DBT'] = 10\n",
    "db.loc[db['DBTOT'] > 0, 'CFL_DBT'] = db['CASHFLOW']/db['DBTOT']\n",
    "db.loc[db['CFL_DBT'] > 10, 'CFL_DBT'] = 10\n",
    "db.loc[db['CFL_DBT'] < -10, 'CFL_DBT'] = -10\n",
    "\n",
    "db.loc[(db['CASHFLOW2'] <= 0) & (db['DBTOT'] == 0), 'CFL_DBT2'] = 0\n",
    "db.loc[(db['CASHFLOW2'] > 0) & (db['DBTOT'] == 0), 'CFL_DBT2'] = 10\n",
    "db.loc[db['DBTOT'] > 0, 'CFL_DBT2'] = db['CASHFLOW2']/db['DBTOT']\n",
    "db.loc[db['CFL_DBT2'] > 10, 'CFL_DBT2'] = 10\n",
    "db.loc[db['CFL_DBT2'] < -10, 'CFL_DBT2'] = -10\n",
    "\n",
    "db.loc[(db['CASHFLOW'] <= 0) & (db['CAPTERZ'] == 0), 'CFL_CTR'] = 0\n",
    "db.loc[(db['CASHFLOW'] > 0) & (db['CAPTERZ'] == 0), 'CFL_CTR'] = 10\n",
    "db.loc[db['CAPTERZ'] > 0, 'CFL_CTR'] = db['CASHFLOW']/db['CAPTERZ']\n",
    "db.loc[db['CFL_CTR'] > 10, 'CFL_CTR'] = 10\n",
    "db.loc[db['CFL_CTR'] < -10, 'CFL_CTR'] = -10\n",
    "\n",
    "db.loc[(db['CASHFLOW2'] <= 0) & (db['CAPTERZ'] == 0), 'CFL_CTR2'] = 0\n",
    "db.loc[(db['CASHFLOW2'] > 0) & (db['CAPTERZ'] == 0), 'CFL_CTR2'] = 10\n",
    "db.loc[db['CAPTERZ'] > 0, 'CFL_CTR2'] = db['CASHFLOW2']/db['CAPTERZ']\n",
    "db.loc[db['CFL_CTR2'] > 10, 'CFL_CTR2'] = 10\n",
    "db.loc[db['CFL_CTR2'] < -10, 'CFL_CTR2'] = -10\n",
    "\n",
    "db.loc[(db['CASHFLOW'] <= 0) & (db['TOTATT'] == 0), 'CFL_CINV'] = 0\n",
    "db.loc[(db['CASHFLOW'] > 0) & (db['TOTATT'] == 0), 'CFL_CINV'] = 10\n",
    "db.loc[db['TOTATT'] > 0, 'CFL_CINV'] = db['CASHFLOW']/db['TOTATT']\n",
    "db.loc[db['CFL_CINV'] > 10, 'CFL_CINV'] = 10\n",
    "db.loc[db['CFL_CINV'] < -10, 'CFL_CINV'] = -10\n",
    "\n",
    "db.loc[(db['CASHFLOW2'] <= 0) & (db['TOTATT'] == 0), 'CFL_CINV2'] = 0\n",
    "db.loc[(db['CASHFLOW2'] > 0) & (db['TOTATT'] == 0), 'CFL_CINV2'] = 10\n",
    "db.loc[db['TOTATT'] > 0, 'CFL_CINV2'] = db['CASHFLOW2']/db['TOTATT']\n",
    "db.loc[db['CFL_CINV2'] > 10, 'CFL_CINV2'] = 10\n",
    "db.loc[db['CFL_CINV2'] < -10, 'CFL_CINV2'] = -10\n",
    "\n",
    "db.loc[(db['MOL'] > 0) & (db['SGF'] >= 0), 'SGF_MOL'] = 10\n",
    "db.loc[(db['MOL'] == 0) & (db['SGF'] >= 0), 'SGF_MOL'] = 0\n",
    "db.loc[(db['MOL'] == 0) & (db['SGF'] < 0), 'SGF_MOL'] = -10\n",
    "db.loc[(db['MOL'] < 0) & (db['SGF'] <= 0), 'SGF_MOL'] = -10\n",
    "db.loc[(db['MOL'] < 0) & (db['SGF'] > 0) & (\n",
    "    db[['MOL', 'SGF']].sum(axis=1) > 0), 'SGF_MOL'] = 0\n",
    "db.loc[(db['MOL'] > 0) & (db['SGF'] < 0), 'SGF_MOL'] = db['SGF']/db['MOL']\n",
    "db.loc[db['SGF_MOL'] < -10, 'SGF_MOL'] = -10\n",
    "\n",
    "db.loc[db['TOTATT'] > 0, 'NET_INDEBT'] = (\n",
    "    db['CAPTERZ']-db['ATTLIQ'])/db['TOTATT']\n",
    "db.loc[db['TOTATT'] > 0, 'PL_ASSET'] = (\n",
    "    db['VALPROD']-db['COSTPROD']+db['SGF'])/db['TOTATT']\n",
    "db.loc[db['OF'] > 0, 'DEBT_SER_COV'] = (\n",
    "    db['VALPROD']-db['COSTPROD']+db['SGF'])/db['OF']\n",
    "db.loc[db['CAPTERZ'] > 0, 'NPLDEP_TDEB'] = (\n",
    "    db['RISNERET']+db['AMMTOT'])/db['CAPTERZ']\n",
    "db.loc[db['CAPCIRC'] > 0, 'ASS_STRUC'] = db['ATTLIQ']/db['CAPCIRC']\n",
    "\n",
    "db.loc[db['TOTATT'] > 0, 'ROA'] = (\n",
    "    db['RISES']-db['RISRETAI']+db['UTILCORR'])/db['TOTATT']\n",
    "db.loc[db['TOTATT'] > 0, 'O2'] = (db['TOTATT']-db['CAPNP'])/db['TOTATT']\n",
    "db.loc[db['TOTATT'] > 0, 'O4'] = (\n",
    "    db['TOPASPNE']-db['CAPNP']-db['LIQUIDIT'])/db['TOTATT']\n",
    "db.loc[db['RICNET'] > 0, 'OA4'] = db['TOTATIMM']/db['RICNET']\n",
    "\n",
    "db.loc[db['CAPINVTAN'] > 0, 'IC_134'] = db['DEBF']/db['CAPINVTAN']\n",
    "db.loc[(db['IMIMMAT']+db['IMMATBR']+db['IMMATCOR']) > 0,\n",
    "       'IC_145'] = (db['CAPNP']+db['DEBF'])/(db['IMIMMAT']+db['IMMATBR']+db['IMMATCOR'])\n",
    "db.loc[db['CAPINVTAN'] > 0, 'IC_150'] = (\n",
    "    db['TOTATCOR']-db['TOPASCOR'])/db['CAPINVTAN']\n",
    "db.loc[db['TOPASCOR'] > 0, 'IC_151'] = (\n",
    "    db['TOTATCOR']-db['TOPASCOR'])/db['TOPASCOR']\n",
    "db.loc[db['CAPINVTAN'] > 0, 'IC_158'] = db['IMMNE']/db['CAPINVTAN']\n",
    "db.loc[db['VALPROD'] > 0, 'IC_166'] = db['OF']/db['VALPROD']\n",
    "db.loc[db['VALPROD'] > 0, 'IC_179'] = db['MOL']/db['VALPROD']\n",
    "db.loc[db['VALPROD'] > 0, 'IC_202'] = db['CASHFLOW']/db['VALPROD']\n",
    "db.loc[db['VALPROD'] > 0, 'IC_202BIS'] = db['CASHFLOW2']/db['VALPROD']\n",
    "\n",
    "db.loc[db['DBTOT'] > 0, 'IC_100'] = db['MON']/db['DBTOT']\n",
    "db.loc[(db['TOTATT']-db['IMIMMAT']) > 0, 'LEVERAGE'] = (db['CAPNP'] -\n",
    "                                                        db['IMIMMAT'])/(db['TOTATT']-db['IMIMMAT'])\n",
    "db.loc[(db['CAPNP']-db['DISTDELI']) > 0,\n",
    "       'LEVERAGE_BIS'] = db['TOTATT']/(db['CAPNP']-db['DISTDELI'])\n",
    "db.loc[db['ATTLIQ'] > 0, 'IC_107'] = db['RICNET']/db['ATTLIQ']\n",
    "db.loc[db['RICNET'] > 0, 'IC_117'] = (\n",
    "    db['CRCOMBR']+db['CRCODIML'])/db['RICNET']\n",
    "db.loc[db['TOTATT'] > 0, 'IC_120'] = (\n",
    "    db['RISES']+db['AMMIMIMM']+db['AMMIMMAT'])/db['TOTATT']\n",
    "db.loc[(db['TOTATCOR']-db['TOPASCOR']) > 0, 'IC_122'] = db['VALPROD'] / \\\n",
    "    (db['TOTATCOR']-db['TOPASCOR'])\n",
    "db.loc[db['TOTATT'] > 0, 'IC_127'] = (db['CAPNP']+db['DEBF'])/db['TOTATT']\n",
    "db.loc[db['DBTOT'] > 0, 'IC_129'] = db['CAPNP']/db['DBTOT']\n",
    "db.loc[db['TOTATT'] > 0, 'IC_135'] = db['DBTOT']/db['TOTATT']\n",
    "db.loc[db['TOTATIMM'] > 0, 'IC_144'] = (db['CAPNP']+db['DEBF'])/db['TOTATIMM']\n",
    "db.loc[db['TOPASCOR'] > 0, 'IC_146'] = (\n",
    "    db['ATTLIQ']+db['CRCOMBR']+db['CRFINBR']+db['CRALBR'])/db['TOPASCOR']\n",
    "db.loc[(db['IMMATBR']-db['IMMATCOR']) > 0, 'IC_149'] = db['CAPNP'] / \\\n",
    "    (db['IMMATBR']-db['IMMATCOR'])\n",
    "db.loc[db['MAGA'] > 0, 'IC_155'] = (db['CRCOMBR']+db['CRCODIML'])/db['MAGA']\n",
    "db.loc[db['TOTATCOR'] > 0, 'IC_156'] = db['DBTOT']/db['TOTATCOR']\n",
    "db.loc[db['TOPASCOR'] > 0, 'IC_163'] = (\n",
    "    db['ATTLIQ']+db['CRCOMBR']+db['CRCODIML'])/db['TOPASCOR']\n",
    "db.loc[:, 'IC_165'] = db['CAPNP']-db['IMIMMAT']\n",
    "db.loc[(db['CAPNP']+db['DEFISOML']+db['DEFIBAML']+db['DEFIALML']+db['DEFIBR']) > 0,\n",
    "       'IC_170'] = db['CAPNP']/(db['CAPNP']+db['DEFISOML']+db['DEFIBAML']+db['DEFIALML']+db['DEFIBR'])\n",
    "db.loc[db['TOTCAPPE'] > 0, 'IC_172'] = (\n",
    "    db['IMIMMAT']+db['IMMATBR']+db['IMMATCOR']+db['IMFIP']+db['CREFI']+db['CRCODIML'])/db['TOTCAPPE']\n",
    "db.loc[db['ATTLIQ'] > 0, 'IC_173'] = db['TOPASCOR']/db['ATTLIQ']\n",
    "db.loc[db['TOTATT'] > 0, 'IC_176'] = db['UTCORAOF']/db['TOTATT']\n",
    "db.loc[db['RICNET'] > 0, 'IC_180'] = (\n",
    "    db['AMMIMMAT']+db['AMMIMIMM']+db['SVALCRED']+db['ACCRISON'])/db['RICNET']\n",
    "db.loc[db['TOTATT'] > 0, 'IC_183'] = (\n",
    "    db['TOTATT']-db['IMIMMAT']-db['IMMATBR']-db['IMMATCOR']-db['IMFIP']-db['CREFI'])/db['TOTATT']\n",
    "db.loc[(db['RICNET']+db['SALRIOND']) > 0, 'IC_188'] = db['SGF'] / \\\n",
    "    (db['RICNET']+db['SALRIOND'])\n",
    "db.loc[(db['VALAGGOP']+db['SALRIOND']) > 0, 'IC_189'] = db['CL1'] / \\\n",
    "    (db['VALAGGOP']+db['SALRIOND'])\n",
    "db.loc[(db['DEBF']+db['TOPASCOR']) > 0, 'IC_190'] = db['UTILCORR'] / \\\n",
    "    (db['DEBF']+db['TOPASCOR'])\n",
    "db.loc[(db['DEFISOML']+db['DEFIBAML']+db['DEFIALML']+db['DEFIBR']) > 0, 'IC_191'] = (\n",
    "    db['DECOBR']+db['DECOALML'])/(db['DEFISOML']+db['DEFIBAML']+db['DEFIALML']+db['DEFIBR'])\n",
    "\n",
    "db['LDEBFIN'] = db['DEBF'].shift(1)+db['DEFIBR'].shift(1)\n",
    "db['LI_3'] = db['I_3'].shift(1)\n",
    "db['LCAPCIRC'] = db['CAPCIRC'].shift(1)\n",
    "db['LDEBFALM'] = db['DEBF'].shift(1)-db['DECOALML'].shift(1)\n",
    "db['LDEFIBR'] = db['DEFIBR'].shift(1)\n",
    "db['LVALPROD'] = db['VALPROD'].shift(1)\n",
    "db['LUTILCORR'] = db['UTILCORR'].shift(1)\n",
    "db['LCAP_INV_OPE_NET'] = db['CAP_INV_OPE_NET'].shift(1)\n",
    "db['LDIPENDENTI_MEDI'] = db['DIPENDENTI_MEDI'].shift(1)\n",
    "db['LVALAGGCOM'] = db['VALAGGCOM'].shift(1)\n",
    "db['LINV_IMMOB_MAT'] = db['INV_IMMOB_MAT'].shift(1)\n",
    "\n",
    "\n",
    "db.loc[(db['DEBF']+db['DEFIBR']+db['LDEBFIN']) > 0,\n",
    "       'IC_198'] = db['OF']/(db['DEBF'] + db['DEFIBR'] + db['LDEBFIN'])\n",
    "db.loc[(db['YEAR_LAG'] == 1) & (db['LI_3'] != 0),\n",
    "       'P9'] = (db['I_3']-db['LI_3'])/db['LI_3']\n",
    "db.loc[(db['YEAR_LAG'] == 1) & (db['LCAPCIRC'] != 0), 'IND_11'] = (\n",
    "    db['CAPCIRC']-db['LCAPCIRC'])/db['LCAPCIRC']\n",
    "db.loc[(db['YEAR_LAG'] == 1) & (db['LDEBFALM'] != 0), 'IND_13'] = (\n",
    "    db['DEBF']-db['DECOALML']-db['LDEBFALM'])/db['LDEBFALM']\n",
    "db.loc[(db['YEAR_LAG'] == 1) & (db['LDEFIBR'] != 0), 'IND_14'] = (\n",
    "    db['DEFIBR']-db['LDEFIBR'])/db['LDEFIBR']\n",
    "db.loc[(db['YEAR_LAG'] == 1) & (db['LVALPROD'] != 0), 'IND_3'] = (\n",
    "    db['VALPROD']-db['LVALPROD'])/db['LVALPROD']\n",
    "db.loc[(db['YEAR_LAG'] == 1) & (db['LINV_IMMOB_MAT'] != 0), 'IND_38'] = (\n",
    "    db['INV_IMMOB_MAT']-db['LINV_IMMOB_MAT'])/db['LINV_IMMOB_MAT']\n",
    "db.loc[(db['YEAR_LAG'] == 1) & (db['LUTILCORR'] != 0), 'IND_8'] = (\n",
    "    db['UTILCORR']-db['LUTILCORR'])/db['LUTILCORR']\n",
    "db.loc[(db['YEAR_LAG'] == 1) & (db['LCAP_INV_OPE_NET'] != 0), 'IND_10'] = (\n",
    "    db['CAP_INV_OPE_NET']-db['LCAP_INV_OPE_NET'])/db['LCAP_INV_OPE_NET']\n",
    "db.loc[(db['YEAR_LAG'] == 1) & (db['LDIPENDENTI_MEDI'] != 0), 'IND_4'] = (\n",
    "    db['DIPENDENTI_MEDI']-db['LDIPENDENTI_MEDI'])/db['LDIPENDENTI_MEDI']\n",
    "db.loc[(db['YEAR_LAG'] == 1) & (db['LVALAGGCOM'] != 0), 'IND_6'] = (\n",
    "    db['VALAGGCOM']-db['LVALAGGCOM'])/db['LVALAGGCOM']\n",
    "\n",
    "df_sorted = db.sort_values(by=['GROUP', 'INSTITUTE', 'CIC', 'BS_DATE'])\n",
    "first = df_sorted.reset_index().groupby(['GROUP', 'INSTITUTE', 'CIC']).first()\n",
    "db.loc[first['index'], ['IC_198', 'P9', 'IND_11', 'IND_13', 'IND_14',\n",
    "                        'IND_3', 'IND_38', 'IND_8', 'IND_10', 'IND_4', 'IND_6']] = np.nan\n",
    "\n",
    "db.loc[db['RICNET'] > 0, 'IC_203'] = (db['DEFIBAML']-db['DEBABR'])/db['RICNET']\n",
    "db.loc[(db['IMIMMAT'] + db['IMMATBR'] + db['IMMATCOR'] - db['DEBABR']) > 0, 'IC_204'] = (\n",
    "    db['ATTLIQ']-db['CAPNP'])/(db['IMIMMAT'] + db['IMMATBR'] + db['IMMATCOR'] - db['DEBABR'])\n",
    "\n",
    "db.loc[db['MOL'] > 0, 'E1'] = db['RISNERET']/db['MOL']\n",
    "db.loc[db['TOTATT'] > 0, 'E2'] = (db['CAPCIRC']-db['MAGA'])/db['TOTATT']\n",
    "db.loc[db['TOTATIMM'] > 0, 'E3'] = db['DEBF']/db['TOTATIMM']\n",
    "db.loc[db['DBTOT'] > 0, 'E4'] = db['TOPASCOR']/db['DBTOT']\n",
    "db.loc[db['TOTATIMM'] > 0, 'E5'] = db['IMIMMAT']/db['TOTATIMM']\n",
    "db.loc[db['TOTATIMM'] > 0, 'E6'] = (\n",
    "    db['IMMATBR']+db['IMMATCOR'])/db['TOTATIMM']\n",
    "db.loc[db['RICNET'] > 0, 'E7'] = (\n",
    "    db['ATTLIQ'] + db['CRCOMBR'] + db['CRFINBR'] - db['CRALBR'])/db['RICNET']\n",
    "db.loc[(db['RICNET'] - db['MON']) > 0, 'E8'] = (db['DECOBR']*365) / \\\n",
    "    (db['RICNET'] - db['MON'])\n",
    "\n",
    "db.loc[db['CAPTERZ'] > 0, 'P1'] = db['OF']/db['CAPTERZ']\n",
    "db.loc[db['UTILCORR'] > 0, 'P2'] = db['RISNERET']/db['UTILCORR']\n",
    "db.loc[db['CAPTERZ'] > 0, 'P3'] = db['I_2']-db['OF']/db['CAPTERZ']\n",
    "db.loc[db['DBTOT'] > 0, 'P3BIS'] = db['I_2bis']-db['OF']/db['CAPTERZ']\n",
    "db.loc[:, 'P4'] = db['CAPNP']-db['TOTATIMM']\n",
    "db.loc[:, 'P5'] = db['TOTATCOR']-db['TOPASCOR']-db['MAGA']\n",
    "db.loc[db['CRCOMBR'] > 0, 'P6'] = db['RICNET']/db['CRCOMBR']\n",
    "db.loc[db['TOTATT'] > 0, 'P7'] = db['OF']/db['TOTATT']\n",
    "db.loc[(db['TOTATIMM']+db['MAGA']) > 0, 'P8'] = (db['CAPNP'] +\n",
    "                                                 db['DEBF'])/(db['TOTATIMM']+db['MAGA'])\n",
    "db.loc[db['CAPNP'] > 0, 'P10'] = (\n",
    "    db['DEFIBR']+db['DEFISOML']+db['DEFIBAML']+db['DEFIALML'])/db['CAPNP']\n",
    "db.loc[db['TOTATT'] > 0, 'P11'] = (\n",
    "    db['DEFIBR']+db['DEFISOML']+db['DEFIBAML']+db['DEFIALML'])/db['TOTATT']\n",
    "\n",
    "db.loc[db['RICNET'] > 0, 'IND_22'] = db['UTCORAGF']/db['RICNET']\n",
    "db.loc[db['CAP_INV_OPE_NET'] > 0, 'IND_23'] = db['RICNET']/db['CAP_INV_OPE_NET']\n",
    "db.loc[db['VL1'] > 0, 'IND_24'] = db['UTCORAGF']/db['VL1']\n",
    "db.loc[db['VL1'] > 0, 'IND_25'] = db['RICNET']/db['VL1']\n",
    "db.loc[db['VALPROD'] > 0, 'IND_26'] = db['VALAGGOP']/db['VALPROD']\n",
    "db.loc[db['CAP_INV_OPE_NET'] > 0, 'IND_27'] = db['TOT_COST_OP']/db['VALPROD']\n",
    "db.loc[db['VALAGGOP'] > 0, 'IND_29'] = db['MOL']/db['VALAGGOP']\n",
    "db.loc[(db['CAP_INV_OPE_NET']+db['ACC_AMM_ANTI']) > 0,\n",
    "       'IND_30'] = db['MOL']/(db['CAP_INV_OPE_NET']+db['ACC_AMM_ANTI'])\n",
    "db.loc[db['UTILESER'] > 0, 'IND_32'] = db['DISTDELI']/db['UTILESER']\n",
    "db.loc[db['DIPENDENTI_MEDI'] > 0, 'IND_33'] = db['RICNET']/db['DIPENDENTI_MEDI']\n",
    "db.loc[db['DIPENDENTI_MEDI'] > 0,\n",
    "       'IND_34'] = db['VALAGGOP']/db['DIPENDENTI_MEDI']\n",
    "db.loc[db['DIPENDENTI_MEDI'] > 0, 'IND_35'] = db['CL1']/db['DIPENDENTI_MEDI']\n",
    "db.loc[db['DIPENDENTI_MEDI'] > 0, 'IND_36'] = db['IMMATLO']/db['DIPENDENTI_MEDI']\n",
    "\n",
    "db.loc[db['VALAGGOP'] > 0, 'IND_37'] = db['INV_IMMOB_MAT']/db['VALAGGOP']\n",
    "db.loc[db['IMMATLO'] > 0, 'IND_42'] = db['VALAGGOP']/db['IMMATLO']\n",
    "db.loc[(db['TOPASCOR']-db['ACCOBR']) > 0, 'IND_44'] = (db['TOTATCOR'] -\n",
    "                                                       db['MAGA'])/(db['TOTATCOR']-db['ACCOBR'])\n",
    "db.loc[db['CAPCIRCOP'] > 0, 'IND_46'] = db['DEBABR']/db['CAPCIRCOP']\n",
    "db.loc[db['CAPCIRCOP'] > 0, 'IND_47'] = db['CAPCIRC']/db['CAPCIRCOP']\n",
    "db.loc[(db['RICNET']*360) > 0, 'IND_48'] = (db['MAGA'] -\n",
    "                                            db['ACCAFORN'])/(db['RICNET']*360)\n",
    "db.loc[db['RICNET'] > 0, 'IND_49'] = db['CRCOMBR']/db['RICNET']\n",
    "db.loc[(db['MATPRICO']+db['SER']) > 0, 'IND_50'] = db['DEFORNBR'] / \\\n",
    "    (db['MATPRICO']+db['SER'])\n",
    "\n",
    "db.loc[:, 'IND_51'] = db['IND_48']+db['IND_49']+db['IND_50']\n",
    "db.loc[db['RICNET'] > 0, 'IND_52'] = db['CAPCIRCOP_FUN']/db['RICNET']\n",
    "db.loc[(db['RICNET']-db['CAPNP']-db['FONDIACC']-db['LIQUIDIT']) > 0, 'IND_53'] = (\n",
    "    db['CAPNP']-db['IMIMMAT'])/(db['RICNET']-db['CAPNP']-db['FONDIACC']-db['LIQUIDIT'])\n",
    "db.loc[(db['DEBF']-db['DECOALML']+db['DEFIBR']) > 0,\n",
    "       'IND_54'] = db['CAPNP']/(db['DEBF']-db['DECOALML']+db['DEFIBR'])\n",
    "db.loc[(db['DEBF']-db['DECOALML']+db['DEFIBR']-db['LIQUIDIT']) > 0, 'IND_55'] = (\n",
    "    db['CAPNP']-db['IMIMMAT'])/(db['DEBF']-db['DECOALML']+db['DEFIBR']-db['LIQUIDIT'])\n",
    "db.loc[(db['DEBF']-db['DECOALML']+db['DEFIBR']-db['LIQUIDIT']-db['DEFISOML']) > 0, 'IND_56'] = (db['CAPNP'] -\n",
    "                                                                                                db['IMIMMAT']+db['DEFISOML'])/(db['DEBF']-db['DECOALML']+db['DEFIBR']-db['LIQUIDIT']-db['DEFISOML'])\n",
    "db.loc[(db['DEBF']-db['DECOALML']+db['DEFIBR']) > 0, 'IND_57'] = (db['DEFIBAML'] +\n",
    "                                                                  db['DEBABR'])/(db['DEBF']-db['DECOALML']+db['DEFIBR'])\n",
    "db.loc[db['VALAGGCOM'] > 0, 'IND_59'] = (\n",
    "    db['DEBF']-db['DECOALML']+db['DEFIBR']-db['LIQUIDIT'])/db['VALAGGCOM']\n",
    "db.loc[(db['DEBF']-db['DECOALML']+db['DEFIBR']) > 0,\n",
    "       'IND_60'] = db['DEFIBR']/(db['DEBF']-db['DECOALML']+db['DEFIBR'])\n",
    "db.loc[db['MOL'] > 0, 'IND_61'] = db['OF']/db['MOL']\n",
    "db.loc[(db['DEBF']-db['DECOALML']+db['DEFIBR']) > 0,\n",
    "       'IND_63'] = db['OF']/(db['DEBF']-db['DECOALML']+db['DEFIBR'])\n",
    "db.loc[db['TOTATIMM'] > 0, 'IND_64'] = db['CAPNP']/db['TOTATIMM']\n",
    "db.loc[db['TOTATIMM'] > 0, 'IND_65'] = db['TOTCAPPE']/db['TOTATIMM']\n",
    "\n",
    "db.loc[db[['CAPNP', 'DISTDELI']].sum(axis=1) > 0, 'IND_70'] = (pd.concat([db[['RISES', 'VARIAZ_PAT_NETTO']].sum(\n",
    "    axis=1), -db['DISTDELI']], axis=1).sum(axis=1))/(db[['CAPNP', 'LIQUIDIT']].sum(axis=1))\n",
    "db.loc[db[['CAPNP', 'DISTDELI']].sum(\n",
    "    axis=1) > 0, 'IND_16'] = db['RISRETAI']/(db[['CAPNP', 'DISTDELI']].sum(axis=1))\n",
    "db.loc[(pd.concat([db[['DEBF', 'DEFIBR', 'CAPNP', 'DISTDELI']].sum(axis=1), -db['DECOALML']], axis=1).sum(axis=1)) > 0, 'IND_17'] = (db[['OF',\n",
    "                                                                                                                                             'RISNERET']].sum(axis=1))/(pd.concat([db[['DEBF', 'DEFIBR', 'CAPNP', 'DISTDELI']].sum(axis=1), -db['DECOALML']], axis=1).sum(axis=1))\n",
    "db.loc[(pd.concat([db[['DEBF', 'DEFIBR', 'CAPNP', 'DISTDELI']].sum(axis=1), -db['DECOALML']], axis=1).sum(axis=1)) > 0, 'IND_18'] = (db[['OF',\n",
    "                                                                                                                                             'RISRETAI']].sum(axis=1))/(pd.concat([db[['DEBF', 'DEFIBR', 'CAPNP', 'DISTDELI']].sum(axis=1), -db['DECOALML']], axis=1).sum(axis=1))\n",
    "db.loc[(pd.concat([db[['DEBF', 'DEFIBR', 'CAPNP', 'DISTDELI']].sum(axis=1), -db['DECOALML']], axis=1).sum(axis=1)) > 0, 'IND_19'] = (db[['OF',\n",
    "                                                                                                                                             'UTILCORR']].sum(axis=1))/(pd.concat([db[['DEBF', 'DEFIBR', 'CAPNP', 'DISTDELI']].sum(axis=1), -db['DECOALML']], axis=1).sum(axis=1))\n",
    "db.loc[db['CAP_INV_OPE_NET'] > 0,\n",
    "       'IND_21'] = db['UTCORAGF']/db['CAP_INV_OPE_NET']\n",
    "db.loc[db['TOTATT'] > 0, 'IND_43'] = db['VALAGGCOM']/db['TOTATT']\n"
   ]
  },
  {
   "cell_type": "code",
   "execution_count": 14,
   "id": "80f17bef-9dad-49d2-b675-9c9d4f653b4e",
   "metadata": {},
   "outputs": [],
   "source": [
    "# Final Indicators instructions"
   ]
  },
  {
   "cell_type": "code",
   "execution_count": 15,
   "id": "b1736b34-306a-42e2-918a-3dbefbe5b2bc",
   "metadata": {
    "tags": []
   },
   "outputs": [],
   "source": [
    "db.loc[db['DIPENDENTI_MEDI'] > 0,\n",
    "       'VAL_PROC_1'] = db['VALPROD']/db['DIPENDENTI_MEDI']\n",
    "db.loc[db['DIPENDENTI_MEDI'] > 0,\n",
    "       'IMMOB_PROC_1'] = db['IMMATBR']/db['DIPENDENTI_MEDI']\n",
    "db.loc[db['CAPTERZ'] > 0, 'PASS_ONER_CAPTERZ_1'] = (\n",
    "    db['DEBF']+db['DEFIBR']-db['DECOALML'])/db['CAPTERZ']\n",
    "db.loc[db['CAPNP'] > 0, 'CAPNP_TANG_CAPNP_1'] = (\n",
    "    db['CAPNP']-db['IMIMMAT'])/db['CAPNP']\n",
    "db.loc[db['CAPTERZ'] > 0, 'PASS_CORR_CAPTERZ_1'] = db['TOPASCOR']/db['CAPTERZ']\n",
    "db.loc[db['VALAGGOP'] > 0, 'AMM_VAL_AGG_1'] = db['AMMIMMAT']/db['VALAGGOP']\n",
    "db.loc[db['IMMATBR'] > 0, 'RICNET_IMMATBR_1'] = db['RICNET']/db['IMMATBR']\n",
    "\n",
    "db.loc[db['MOL'] > 0, 'B1'] = (\n",
    "    db['DEFIALML']+db['DEFIBAML']+db['DEFIBR']-db['ATTLIQ'])/db['MOL']\n",
    "db.loc[(db['CAPNP']-db['RISES']) > 0, 'B2'] = (db['RISES'] +\n",
    "                                               db['COMP_AMM']+db['OF_OBBLIG'])/(db['CAPNP']-db['RISES'])\n",
    "db.loc[(db['DEBF']+db['DEFIBR']) > 0, 'B3'] = db['CASHFLOW_OPE'] / \\\n",
    "    (db[['DEBF', 'DEFIBR']].sum(axis=1))\n",
    "db.loc[db['OF'] > 0, 'B4'] = db['CASHFLOW_OPE']/db['OF']\n",
    "db.loc[db['RICNET'] > 0, 'B5'] = db['CASHFLOW_OPE']/db['RICNET']\n",
    "db.loc[db['MOL'] > 0, 'B6'] = db['POS_FIN_NETTA']/db['MOL']\n",
    "db.loc[db['CAPNP'] > 0, 'B7'] = db['POS_FIN_NETTA']/db['CAPNP']\n",
    "db.loc[db['CAP_INV_OPE_NET'] > 0, 'B8'] = db['CAPCIRCOP']/db['CAP_INV_OPE_NET']\n",
    "db.loc[db['TOTATT'] > 0, 'B9'] = (db['TOTATCOR']-db['MAGA'])/db['TOTATT']\n",
    "db.loc[db['TOTATT_NETTO'] > 0, 'B10'] = (\n",
    "    db['MON']+db['SALRIOND'])/db['TOTATT_NETTO']\n",
    "\n",
    "db.loc[(db['CASHFLOW2'] > 0) & (db['SGF'] >= 0), 'SGF_CFL2_2'] = 1\n",
    "db.loc[(db['CASHFLOW2'] == 0) & (db['SGF'] >= 0), 'SGF_CFL2_2'] = np.nan\n",
    "db.loc[(db['CASHFLOW2'] <= 0) & (db['SGF'] < 0), 'SGF_CFL2_2'] = 1\n",
    "db.loc[(db['CASHFLOW2'] < 0) & (db['SGF'] >= 0) & (\n",
    "    db[['CASHFLOW2', 'SGF']].sum(axis=1) > 0), 'SGF_CFL2_2'] = np.nan\n",
    "db.loc[(db['CASHFLOW2'] > 0) & (db['SGF'] < 0),\n",
    "       'SGF_CFL2_2'] = db['SGF']/db['CASHFLOW2']\n",
    "\n",
    "db = db.drop(['IMIMMAT', 'IMMATLO', 'IMMATBR',\n",
    "              'IMMATCOR', 'IMFIP', 'CREFI', 'CRCODIML',\n",
    "              'TOTATIMM', 'ACCAFORN', 'MAGA', 'CRCOMBR',\n",
    "              'CRFINBR', 'CRALBR', 'ATTLIQ', 'LIQUIDIT',\n",
    "              'TOTATCOR', 'TOTATT', 'UTILESER',\n",
    "              'DISTDELI', 'CAPNP', 'FONDIACC', 'DEFISOML',\n",
    "              'DEFIBAML', 'DEFIALML', 'DECOALML',\n",
    "              'DEBF', 'TOTCAPPE', 'DEBABR', 'DEFIBR',\n",
    "              'DEFORNBR', 'ACCOBR', 'DECOBR',\n",
    "              'TOPASCOR', 'TOPASPNE', 'CAPIT',\n",
    "              'MATPRICO', 'ACQCONS', 'SER', 'VALAGGOP',\n",
    "              'CL1', 'MOL', 'AMMIMMAT', 'SVALCRED',\n",
    "              'ACCRISON', 'MON', 'SALRIOND', 'AMMIMIMM',\n",
    "              'UTCORAGF', 'UTCORAOF', 'OF', 'UTILCORR',\n",
    "              'RISRETAI', 'RISNERET', 'VARIAZ_PAT_NETTO',\n",
    "              'RISES', 'CASHFLOW', 'CASHFLOW2',\n",
    "              'DEBFORN', 'CAPCIRC', 'CAPCIRCOP',\n",
    "              'ATREAL', 'SGF', 'CAPTERZ', 'CAPINVTAN',\n",
    "              'DBTOT', 'COSTPROD', 'IMMNE', 'AMMTOT',\n",
    "              'LRISNERET', 'LTOPASCOR', 'LMOL',\n",
    "              'LCAPNP', 'LVALAGGOP', 'LRICNET',\n",
    "              'LTOTATT', 'LDEBFIN', 'LI_3', 'a',\n",
    "              'La', 'LCAPCIRC', 'LDEBFALM', 'LDEFIBR',\n",
    "              'LVALPROD', 'POS_FIN_NETTA', 'LUTILCORR',\n",
    "              'LCAP_INV_OPE_NET', 'LDIPENDENTI_MEDI',\n",
    "              'LVALAGGCOM', 'LINV_IMMOB_MAT', 'UTILCORR',\n",
    "              'CAP_INV_OPE_NET', 'DIPENDENTI_MEDI',\n",
    "              'VALAGGCOM', 'INV_IMMOB_MAT'], axis=1)\n",
    "\n",
    "db['BIC2'] = db['GROUP'].replace(\n",
    "    \" \", \"\")+\"_\"+db['INSTITUTE'].astype('int32').astype(\"str\").replace(\" \", \"\")\n"
   ]
  },
  {
   "cell_type": "code",
   "execution_count": 16,
   "id": "4d6b0976-4c0f-4e20-801a-4e61b10ef164",
   "metadata": {},
   "outputs": [],
   "source": [
    "db = db.rename(columns={'DBR_FAT': 'C_LIAB_REV', 'CIC': 'CIC2'})"
   ]
  },
  {
   "cell_type": "code",
   "execution_count": 17,
   "id": "15dfec42-1246-4a77-af78-0ca8dde3f6b2",
   "metadata": {},
   "outputs": [],
   "source": [
    "## output step 1"
   ]
  },
  {
   "cell_type": "code",
   "execution_count": 18,
   "id": "78570653-26de-448e-aebd-42ad01a65211",
   "metadata": {},
   "outputs": [],
   "source": [
    "DEV_01_00_BALANCE_SHEET_FEATURES = db.copy()"
   ]
  },
  {
   "cell_type": "markdown",
   "id": "57d7fc16-0187-4b30-89d9-8f856a0bf2e9",
   "metadata": {
    "tags": []
   },
   "source": [
    "## Step 2: Join Information <a name=\"join_tabs\"></a>"
   ]
  },
  {
   "cell_type": "markdown",
   "id": "cddd550d-da5f-40c1-b102-ce41e769bafe",
   "metadata": {},
   "source": [
    "- Inputs"
   ]
  },
  {
   "cell_type": "code",
   "execution_count": 19,
   "id": "4e63a754-3214-432b-bafd-54c684f55837",
   "metadata": {},
   "outputs": [],
   "source": [
    "bs = DEV_01_00_BALANCE_SHEET_FEATURES.copy()\n",
    "cs = ds_cs\n",
    "gi = ds_gi"
   ]
  },
  {
   "cell_type": "markdown",
   "id": "52c2fe25-2a46-4ac9-b0d3-18abc6d9ebc4",
   "metadata": {},
   "source": [
    "- query"
   ]
  },
  {
   "cell_type": "code",
   "execution_count": 20,
   "id": "b2d4ad5f-fd3f-4666-9300-e7978d60044c",
   "metadata": {},
   "outputs": [
    {
     "name": "stderr",
     "output_type": "stream",
     "text": [
      "/tmp/ipykernel_81/642621744.py:6: FutureWarning: Passing 'suffixes' which cause duplicate columns {'index_y'} in the result is deprecated and will raise a MergeError in a future version.\n",
      "  df = pd.merge(cs, df_1, on=['BIC', 'CIC'], how='left', suffixes=('', '_y'))\n"
     ]
    }
   ],
   "source": [
    "# join 3 tables\n",
    "df_1 = pd.merge(bs, gi, on=['CIC2', 'BIC2'], how='left', suffixes=('', '_y'))\n",
    "df_1['BIC'] = np.where(df_1['BIC1'].isnull(), df_1['BIC2'], df_1['BIC1'])\n",
    "df_1['CIC'] = np.where(df_1['CIC1'].isnull(), df_1['CIC2'], df_1['CIC1'])\n",
    "\n",
    "df = pd.merge(cs, df_1, on=['BIC', 'CIC'], how='left', suffixes=('', '_y'))"
   ]
  },
  {
   "cell_type": "code",
   "execution_count": 21,
   "id": "ad40f815-4acd-44cb-be49-30591880991d",
   "metadata": {},
   "outputs": [],
   "source": [
    "# drop columns\n",
    "df = df.drop(['DRAWN_AMT',\n",
    "              'AGREED_AMT',\n",
    "              'TURNOVER',\n",
    "              'CIC2',\n",
    "              'BIC2',\n",
    "              'GROUP',\n",
    "              'INSTITUTE',\n",
    "              'OF_OBBLIG',\n",
    "              'LEGAL_STATUS',\n",
    "              'BIC1',\n",
    "              'CIC1'], axis=1)"
   ]
  },
  {
   "cell_type": "code",
   "execution_count": 22,
   "id": "ee79f59b-1300-41d1-8cf9-4f8f2d267230",
   "metadata": {},
   "outputs": [],
   "source": [
    "# monthly basis dates\n",
    "\n",
    "df['BS_DATE_month'] = pd.PeriodIndex(df['BS_DATE'], freq='M')\n",
    "df['EST_DATE_month'] = pd.PeriodIndex(df['EST_DATE'], freq='M')"
   ]
  },
  {
   "cell_type": "code",
   "execution_count": 23,
   "id": "eb905550-c41e-4c30-8c4b-2ba3d46d504b",
   "metadata": {},
   "outputs": [],
   "source": [
    "# Filter information\n",
    "df = df.loc[(df['BS_DATE_month'] >= (df['EST_DATE_month']-18)) &\n",
    "            (df['BS_DATE_month'] <= (df['EST_DATE_month']-8)), :]\n",
    "\n",
    "df = df.drop(['BS_DATE_month', 'EST_DATE_month'], axis=1)"
   ]
  },
  {
   "cell_type": "code",
   "execution_count": 24,
   "id": "5709e2c9-842c-4fd7-86b6-9535023110fc",
   "metadata": {},
   "outputs": [],
   "source": [
    "index_cols = [c for c in df.columns if 'index' in c]\n",
    "df = df.drop(columns=index_cols)"
   ]
  },
  {
   "cell_type": "code",
   "execution_count": 25,
   "id": "67e195b4-feeb-44a9-ac19-0dda3c7c5d7b",
   "metadata": {},
   "outputs": [],
   "source": [
    "DEV_02_00_BASE_TABLE = df.copy()"
   ]
  },
  {
   "cell_type": "markdown",
   "id": "c1f21e6a-d845-4391-b1d8-b4877be30d39",
   "metadata": {
    "tags": []
   },
   "source": [
    "## Step 3: Manage Outliers <a name=\"outliers\"></a>"
   ]
  },
  {
   "cell_type": "markdown",
   "id": "a4f46774-6ce7-4de7-8a59-b9137bed9994",
   "metadata": {
    "tags": []
   },
   "source": [
    "### S3_1: Outliers Fitting Parameters <a name=\"outliers_fit\"></a>"
   ]
  },
  {
   "cell_type": "code",
   "execution_count": 26,
   "id": "586eca3d-5100-4614-93fd-0efb5a857bb0",
   "metadata": {},
   "outputs": [],
   "source": [
    "# This step is only for estimation part\n",
    "#>> if Application ignore"
   ]
  },
  {
   "cell_type": "markdown",
   "id": "e4207ec7-0c6a-4dfd-81a0-de34ed52a9e6",
   "metadata": {},
   "source": [
    "- Inputs"
   ]
  },
  {
   "cell_type": "code",
   "execution_count": 27,
   "id": "a608106d-0067-4ebb-a090-71c986b4513a",
   "metadata": {},
   "outputs": [],
   "source": [
    "if not Application:\n",
    "    db = DEV_02_00_BASE_TABLE.copy()\n",
    "    \n",
    "    # params\n",
    "    vars_path_pkl = path_configs + '/LongList_Variables_tab.pkl'\n",
    "    longlist_vars = pd.read_pickle(vars_path_pkl)\n",
    "    FEATURES = longlist_vars.IND_LABEL.to_list()"
   ]
  },
  {
   "cell_type": "markdown",
   "id": "c5fc82b4-bc6c-4392-95ef-5089e0a2bf07",
   "metadata": {},
   "source": [
    "- query"
   ]
  },
  {
   "cell_type": "code",
   "execution_count": 28,
   "id": "d398304c-b20b-4919-80d5-58b165c1844b",
   "metadata": {},
   "outputs": [],
   "source": [
    "if not Application:\n",
    "    \n",
    "    db = db.loc[db['IN_SAMPLE'] == 1, :]\n",
    "\n",
    "    perc = pd.DataFrame({'Value': []})\n",
    "\n",
    "    for i in FEATURES:\n",
    "        perc.loc[i+'_'+'98'] = db[i].quantile(0.98)\n",
    "        perc.loc[i+'_'+'02'] = db[i].quantile(0.02)\n",
    "\n",
    "    perc.index.name = 'label'\n",
    "    perc = perc.reset_index().sort_values(by='label').reset_index(drop=True)"
   ]
  },
  {
   "cell_type": "code",
   "execution_count": 29,
   "id": "43570240-85a1-4c91-b570-aae4f1c3c923",
   "metadata": {},
   "outputs": [],
   "source": [
    "if not Application:\n",
    "    DEV_03_00_PERCENTILE_PARAMS = perc.copy()"
   ]
  },
  {
   "cell_type": "code",
   "execution_count": 30,
   "id": "a31ea288-1680-434d-b485-be84620124c0",
   "metadata": {},
   "outputs": [],
   "source": [
    "if not Application:\n",
    "    DEV_03_00_PERCENTILE_PARAMS"
   ]
  },
  {
   "cell_type": "markdown",
   "id": "ed79c51a-87c1-40c4-bbd5-c9af34fe3b69",
   "metadata": {},
   "source": [
    "#### <mark>PARAMS SAVE</mark> write result"
   ]
  },
  {
   "cell_type": "code",
   "execution_count": 31,
   "id": "54b85542-edd5-4b83-8f21-631547f05756",
   "metadata": {},
   "outputs": [],
   "source": [
    "if not Application:\n",
    "    ## save config in pickle file\n",
    "    save_path = path_configs + '/params_outlier_perc_tab.pkl'\n",
    "    DEV_03_00_PERCENTILE_PARAMS.to_pickle(save_path)"
   ]
  },
  {
   "cell_type": "markdown",
   "id": "90bf5455-c3e7-49ef-9aee-34d422dce4a3",
   "metadata": {
    "tags": []
   },
   "source": [
    "### S3_2: Outliers replacement <a name=\"outliers_replace\"></a>"
   ]
  },
  {
   "cell_type": "markdown",
   "id": "c7ce3f40-65cb-46b0-a4b9-72292b2d52c8",
   "metadata": {},
   "source": [
    "- Inputs"
   ]
  },
  {
   "cell_type": "code",
   "execution_count": 32,
   "id": "2ff211c5-3eaa-4f93-abb4-4db8d6e4b56e",
   "metadata": {},
   "outputs": [],
   "source": [
    "#input\n",
    "bt = DEV_02_00_BASE_TABLE.copy()\n",
    "\n",
    "#params\n",
    "\n",
    "##outlier perc\n",
    "params_path = path_configs + '/params_outlier_perc_tab.pkl'\n",
    "perc = pd.read_pickle(params_path)\n",
    "\n",
    "##list vars\n",
    "##xls\n",
    "vars_path = path_configs + '/LongList_Variables.xlsx'\n",
    "vars_xls = pd.read_excel(vars_path)\n",
    "##pickle\n",
    "vars_path_pkl = path_configs + '/LongList_Variables_tab.pkl'\n",
    "longlist_vars = pd.read_pickle(vars_path_pkl)"
   ]
  },
  {
   "cell_type": "code",
   "execution_count": 33,
   "id": "0d0376b0-a224-4198-9824-46932b676cae",
   "metadata": {},
   "outputs": [],
   "source": [
    "FEATURES = longlist_vars.IND_LABEL.to_list()\n",
    "perc_dict = perc[['label', 'Value']].set_index('label')['Value'].to_dict()"
   ]
  },
  {
   "cell_type": "markdown",
   "id": "334409ba-3399-4467-ab9c-2b72106c770c",
   "metadata": {},
   "source": [
    "- query"
   ]
  },
  {
   "cell_type": "code",
   "execution_count": 34,
   "id": "75478b9c-5bf7-413d-adf8-cf5de3e61341",
   "metadata": {},
   "outputs": [],
   "source": [
    "bt_new = bt\n",
    "\n",
    "for i in FEATURES:\n",
    "    perc_98 = perc_dict[i+'_98']\n",
    "    perc_2 = perc_dict[i+'_02']\n",
    "    bt_new.loc[bt[i] > perc_98, i] = perc_98\n",
    "    bt_new.loc[bt[i] < perc_2, i] = perc_2\n",
    "\n",
    "np.random.seed(345)\n",
    "\n",
    "bt_new['I_100'] = 0.6*bt_new['I_19'] - \\\n",
    "    np.random.normal(loc=0.0, scale=0.20, size=len(\n",
    "        bt_new)) + 0.3*bt_new['FLAG_DEF']\n"
   ]
  },
  {
   "cell_type": "code",
   "execution_count": 35,
   "id": "4642189c-0b02-45a0-8b89-995c91e94f28",
   "metadata": {},
   "outputs": [],
   "source": [
    "DEV_04_00_BASE_TABLE_OUTLIERS = bt_new.copy()"
   ]
  },
  {
   "cell_type": "code",
   "execution_count": 36,
   "id": "093f2eac-d936-4816-b3d5-d5d5e590d5b5",
   "metadata": {},
   "outputs": [
    {
     "data": {
      "text/html": [
       "<div>\n",
       "<style scoped>\n",
       "    .dataframe tbody tr th:only-of-type {\n",
       "        vertical-align: middle;\n",
       "    }\n",
       "\n",
       "    .dataframe tbody tr th {\n",
       "        vertical-align: top;\n",
       "    }\n",
       "\n",
       "    .dataframe thead th {\n",
       "        text-align: right;\n",
       "    }\n",
       "</style>\n",
       "<table border=\"1\" class=\"dataframe\">\n",
       "  <thead>\n",
       "    <tr style=\"text-align: right;\">\n",
       "      <th></th>\n",
       "      <th>BIC</th>\n",
       "      <th>BUSINESS_AREA</th>\n",
       "      <th>CIC</th>\n",
       "      <th>CITY</th>\n",
       "      <th>DEF_DATE</th>\n",
       "      <th>DEF_MONTH</th>\n",
       "      <th>EST_DATE</th>\n",
       "      <th>FIRST_DEF</th>\n",
       "      <th>FLAG_DEF</th>\n",
       "      <th>IN_SAMPLE</th>\n",
       "      <th>...</th>\n",
       "      <th>B6</th>\n",
       "      <th>B7</th>\n",
       "      <th>B8</th>\n",
       "      <th>B9</th>\n",
       "      <th>B10</th>\n",
       "      <th>SGF_CFL2_2</th>\n",
       "      <th>GROUP_y</th>\n",
       "      <th>INSTITUTE1</th>\n",
       "      <th>INSTITUTE2</th>\n",
       "      <th>I_100</th>\n",
       "    </tr>\n",
       "  </thead>\n",
       "  <tbody>\n",
       "    <tr>\n",
       "      <th>21</th>\n",
       "      <td>A_8</td>\n",
       "      <td>430</td>\n",
       "      <td>644472</td>\n",
       "      <td>FE</td>\n",
       "      <td>NaN</td>\n",
       "      <td>0</td>\n",
       "      <td>2015-08-31</td>\n",
       "      <td>NaN</td>\n",
       "      <td>0</td>\n",
       "      <td>0</td>\n",
       "      <td>...</td>\n",
       "      <td>0.695652</td>\n",
       "      <td>1.167883</td>\n",
       "      <td>0.054441</td>\n",
       "      <td>0.790371</td>\n",
       "      <td>0.059679</td>\n",
       "      <td>-0.709677</td>\n",
       "      <td>A</td>\n",
       "      <td>8.0</td>\n",
       "      <td>47.0</td>\n",
       "      <td>-0.262901</td>\n",
       "    </tr>\n",
       "    <tr>\n",
       "      <th>26</th>\n",
       "      <td>A_8</td>\n",
       "      <td>430</td>\n",
       "      <td>644472</td>\n",
       "      <td>FE</td>\n",
       "      <td>NaN</td>\n",
       "      <td>0</td>\n",
       "      <td>2016-08-31</td>\n",
       "      <td>NaN</td>\n",
       "      <td>0</td>\n",
       "      <td>0</td>\n",
       "      <td>...</td>\n",
       "      <td>9.206349</td>\n",
       "      <td>4.833333</td>\n",
       "      <td>NaN</td>\n",
       "      <td>0.801462</td>\n",
       "      <td>0.071873</td>\n",
       "      <td>-1.000000</td>\n",
       "      <td>A</td>\n",
       "      <td>8.0</td>\n",
       "      <td>47.0</td>\n",
       "      <td>0.238382</td>\n",
       "    </tr>\n",
       "    <tr>\n",
       "      <th>28</th>\n",
       "      <td>A_8</td>\n",
       "      <td>430</td>\n",
       "      <td>644472</td>\n",
       "      <td>FE</td>\n",
       "      <td>NaN</td>\n",
       "      <td>0</td>\n",
       "      <td>2014-08-31</td>\n",
       "      <td>NaN</td>\n",
       "      <td>0</td>\n",
       "      <td>1</td>\n",
       "      <td>...</td>\n",
       "      <td>0.789028</td>\n",
       "      <td>0.977389</td>\n",
       "      <td>-0.114491</td>\n",
       "      <td>0.800035</td>\n",
       "      <td>0.045431</td>\n",
       "      <td>-0.533237</td>\n",
       "      <td>A</td>\n",
       "      <td>8.0</td>\n",
       "      <td>47.0</td>\n",
       "      <td>-0.471711</td>\n",
       "    </tr>\n",
       "    <tr>\n",
       "      <th>71</th>\n",
       "      <td>A_8</td>\n",
       "      <td>482</td>\n",
       "      <td>1439497</td>\n",
       "      <td>FE</td>\n",
       "      <td>NaN</td>\n",
       "      <td>0</td>\n",
       "      <td>2014-05-31</td>\n",
       "      <td>NaN</td>\n",
       "      <td>0</td>\n",
       "      <td>0</td>\n",
       "      <td>...</td>\n",
       "      <td>0.993567</td>\n",
       "      <td>NaN</td>\n",
       "      <td>1.672045</td>\n",
       "      <td>0.376874</td>\n",
       "      <td>0.095131</td>\n",
       "      <td>-0.119854</td>\n",
       "      <td>A</td>\n",
       "      <td>8.0</td>\n",
       "      <td>47.0</td>\n",
       "      <td>0.085040</td>\n",
       "    </tr>\n",
       "    <tr>\n",
       "      <th>77</th>\n",
       "      <td>A_8</td>\n",
       "      <td>482</td>\n",
       "      <td>1439497</td>\n",
       "      <td>FE</td>\n",
       "      <td>NaN</td>\n",
       "      <td>0</td>\n",
       "      <td>2015-05-31</td>\n",
       "      <td>NaN</td>\n",
       "      <td>0</td>\n",
       "      <td>0</td>\n",
       "      <td>...</td>\n",
       "      <td>-0.078597</td>\n",
       "      <td>-1.487252</td>\n",
       "      <td>1.563205</td>\n",
       "      <td>0.539194</td>\n",
       "      <td>0.202840</td>\n",
       "      <td>-0.111466</td>\n",
       "      <td>A</td>\n",
       "      <td>8.0</td>\n",
       "      <td>47.0</td>\n",
       "      <td>0.125226</td>\n",
       "    </tr>\n",
       "    <tr>\n",
       "      <th>...</th>\n",
       "      <td>...</td>\n",
       "      <td>...</td>\n",
       "      <td>...</td>\n",
       "      <td>...</td>\n",
       "      <td>...</td>\n",
       "      <td>...</td>\n",
       "      <td>...</td>\n",
       "      <td>...</td>\n",
       "      <td>...</td>\n",
       "      <td>...</td>\n",
       "      <td>...</td>\n",
       "      <td>...</td>\n",
       "      <td>...</td>\n",
       "      <td>...</td>\n",
       "      <td>...</td>\n",
       "      <td>...</td>\n",
       "      <td>...</td>\n",
       "      <td>...</td>\n",
       "      <td>...</td>\n",
       "      <td>...</td>\n",
       "      <td>...</td>\n",
       "    </tr>\n",
       "    <tr>\n",
       "      <th>230128</th>\n",
       "      <td>B_57</td>\n",
       "      <td>482</td>\n",
       "      <td>15202183</td>\n",
       "      <td>AP</td>\n",
       "      <td>NaN</td>\n",
       "      <td>0</td>\n",
       "      <td>2017-02-28</td>\n",
       "      <td>NaN</td>\n",
       "      <td>0</td>\n",
       "      <td>1</td>\n",
       "      <td>...</td>\n",
       "      <td>0.338235</td>\n",
       "      <td>1.210526</td>\n",
       "      <td>0.876823</td>\n",
       "      <td>0.654388</td>\n",
       "      <td>0.069339</td>\n",
       "      <td>-0.837500</td>\n",
       "      <td>B</td>\n",
       "      <td>57.0</td>\n",
       "      <td>96.0</td>\n",
       "      <td>0.001517</td>\n",
       "    </tr>\n",
       "    <tr>\n",
       "      <th>230132</th>\n",
       "      <td>B_57</td>\n",
       "      <td>430</td>\n",
       "      <td>15203100</td>\n",
       "      <td>PG</td>\n",
       "      <td>NaN</td>\n",
       "      <td>0</td>\n",
       "      <td>2016-08-31</td>\n",
       "      <td>NaN</td>\n",
       "      <td>0</td>\n",
       "      <td>1</td>\n",
       "      <td>...</td>\n",
       "      <td>2.547009</td>\n",
       "      <td>4.054422</td>\n",
       "      <td>0.030345</td>\n",
       "      <td>0.045618</td>\n",
       "      <td>0.054022</td>\n",
       "      <td>-0.382022</td>\n",
       "      <td>B</td>\n",
       "      <td>57.0</td>\n",
       "      <td>96.0</td>\n",
       "      <td>0.370278</td>\n",
       "    </tr>\n",
       "    <tr>\n",
       "      <th>230139</th>\n",
       "      <td>B_57</td>\n",
       "      <td>430</td>\n",
       "      <td>15204120</td>\n",
       "      <td>PU</td>\n",
       "      <td>2018-02-07</td>\n",
       "      <td>11</td>\n",
       "      <td>2017-02-28</td>\n",
       "      <td>02 - INCAGLIO</td>\n",
       "      <td>1</td>\n",
       "      <td>1</td>\n",
       "      <td>...</td>\n",
       "      <td>-1.176471</td>\n",
       "      <td>NaN</td>\n",
       "      <td>NaN</td>\n",
       "      <td>0.833333</td>\n",
       "      <td>NaN</td>\n",
       "      <td>-0.333333</td>\n",
       "      <td>B</td>\n",
       "      <td>57.0</td>\n",
       "      <td>96.0</td>\n",
       "      <td>0.428051</td>\n",
       "    </tr>\n",
       "    <tr>\n",
       "      <th>230144</th>\n",
       "      <td>B_57</td>\n",
       "      <td>482</td>\n",
       "      <td>15205044</td>\n",
       "      <td>AN</td>\n",
       "      <td>NaN</td>\n",
       "      <td>0</td>\n",
       "      <td>2016-08-31</td>\n",
       "      <td>NaN</td>\n",
       "      <td>0</td>\n",
       "      <td>1</td>\n",
       "      <td>...</td>\n",
       "      <td>-1.709091</td>\n",
       "      <td>-19.188562</td>\n",
       "      <td>0.901786</td>\n",
       "      <td>0.858696</td>\n",
       "      <td>0.048913</td>\n",
       "      <td>-0.481481</td>\n",
       "      <td>B</td>\n",
       "      <td>57.0</td>\n",
       "      <td>96.0</td>\n",
       "      <td>-0.141673</td>\n",
       "    </tr>\n",
       "    <tr>\n",
       "      <th>230147</th>\n",
       "      <td>B_57</td>\n",
       "      <td>430</td>\n",
       "      <td>15205328</td>\n",
       "      <td>RM</td>\n",
       "      <td>NaN</td>\n",
       "      <td>0</td>\n",
       "      <td>2016-11-30</td>\n",
       "      <td>NaN</td>\n",
       "      <td>0</td>\n",
       "      <td>0</td>\n",
       "      <td>...</td>\n",
       "      <td>-0.463087</td>\n",
       "      <td>-3.631579</td>\n",
       "      <td>-1.306122</td>\n",
       "      <td>NaN</td>\n",
       "      <td>0.172260</td>\n",
       "      <td>-0.250000</td>\n",
       "      <td>B</td>\n",
       "      <td>57.0</td>\n",
       "      <td>96.0</td>\n",
       "      <td>0.012623</td>\n",
       "    </tr>\n",
       "  </tbody>\n",
       "</table>\n",
       "<p>28106 rows × 309 columns</p>\n",
       "</div>"
      ],
      "text/plain": [
       "         BIC  BUSINESS_AREA       CIC CITY    DEF_DATE  DEF_MONTH    EST_DATE  \\\n",
       "21       A_8            430    644472   FE         NaN          0  2015-08-31   \n",
       "26       A_8            430    644472   FE         NaN          0  2016-08-31   \n",
       "28       A_8            430    644472   FE         NaN          0  2014-08-31   \n",
       "71       A_8            482   1439497   FE         NaN          0  2014-05-31   \n",
       "77       A_8            482   1439497   FE         NaN          0  2015-05-31   \n",
       "...      ...            ...       ...  ...         ...        ...         ...   \n",
       "230128  B_57            482  15202183   AP         NaN          0  2017-02-28   \n",
       "230132  B_57            430  15203100   PG         NaN          0  2016-08-31   \n",
       "230139  B_57            430  15204120   PU  2018-02-07         11  2017-02-28   \n",
       "230144  B_57            482  15205044   AN         NaN          0  2016-08-31   \n",
       "230147  B_57            430  15205328   RM         NaN          0  2016-11-30   \n",
       "\n",
       "            FIRST_DEF  FLAG_DEF  IN_SAMPLE  ...        B6         B7  \\\n",
       "21                NaN         0          0  ...  0.695652   1.167883   \n",
       "26                NaN         0          0  ...  9.206349   4.833333   \n",
       "28                NaN         0          1  ...  0.789028   0.977389   \n",
       "71                NaN         0          0  ...  0.993567        NaN   \n",
       "77                NaN         0          0  ... -0.078597  -1.487252   \n",
       "...               ...       ...        ...  ...       ...        ...   \n",
       "230128            NaN         0          1  ...  0.338235   1.210526   \n",
       "230132            NaN         0          1  ...  2.547009   4.054422   \n",
       "230139  02 - INCAGLIO         1          1  ... -1.176471        NaN   \n",
       "230144            NaN         0          1  ... -1.709091 -19.188562   \n",
       "230147            NaN         0          0  ... -0.463087  -3.631579   \n",
       "\n",
       "              B8        B9       B10  SGF_CFL2_2  GROUP_y  INSTITUTE1  \\\n",
       "21      0.054441  0.790371  0.059679   -0.709677        A         8.0   \n",
       "26           NaN  0.801462  0.071873   -1.000000        A         8.0   \n",
       "28     -0.114491  0.800035  0.045431   -0.533237        A         8.0   \n",
       "71      1.672045  0.376874  0.095131   -0.119854        A         8.0   \n",
       "77      1.563205  0.539194  0.202840   -0.111466        A         8.0   \n",
       "...          ...       ...       ...         ...      ...         ...   \n",
       "230128  0.876823  0.654388  0.069339   -0.837500        B        57.0   \n",
       "230132  0.030345  0.045618  0.054022   -0.382022        B        57.0   \n",
       "230139       NaN  0.833333       NaN   -0.333333        B        57.0   \n",
       "230144  0.901786  0.858696  0.048913   -0.481481        B        57.0   \n",
       "230147 -1.306122       NaN  0.172260   -0.250000        B        57.0   \n",
       "\n",
       "        INSTITUTE2     I_100  \n",
       "21            47.0 -0.262901  \n",
       "26            47.0  0.238382  \n",
       "28            47.0 -0.471711  \n",
       "71            47.0  0.085040  \n",
       "77            47.0  0.125226  \n",
       "...            ...       ...  \n",
       "230128        96.0  0.001517  \n",
       "230132        96.0  0.370278  \n",
       "230139        96.0  0.428051  \n",
       "230144        96.0 -0.141673  \n",
       "230147        96.0  0.012623  \n",
       "\n",
       "[28106 rows x 309 columns]"
      ]
     },
     "execution_count": 36,
     "metadata": {},
     "output_type": "execute_result"
    }
   ],
   "source": [
    "DEV_04_00_BASE_TABLE_OUTLIERS"
   ]
  },
  {
   "cell_type": "markdown",
   "id": "86636cf0-beed-48b4-81ab-ed41570b9592",
   "metadata": {
    "tags": []
   },
   "source": [
    "## Step 4: Binning <a name=\"binning_fit\"></a>"
   ]
  },
  {
   "cell_type": "code",
   "execution_count": 38,
   "id": "10c659cb-ceb8-4fbe-897f-30b3f77a9244",
   "metadata": {},
   "outputs": [],
   "source": [
    "# This step is only for estimation part\n",
    "#>> if Application ignore"
   ]
  },
  {
   "cell_type": "markdown",
   "id": "aef69914-8fdb-4460-83b0-2ab04593eea7",
   "metadata": {},
   "source": [
    "- Inputs"
   ]
  },
  {
   "cell_type": "code",
   "execution_count": 37,
   "id": "2ceed6d7-ef0c-456b-8bb1-ea06101431af",
   "metadata": {},
   "outputs": [],
   "source": [
    "if not Application:\n",
    "    bt_new = DEV_04_00_BASE_TABLE_OUTLIERS"
   ]
  },
  {
   "cell_type": "markdown",
   "id": "85dc8403-caeb-472f-804b-6977c92bb13e",
   "metadata": {},
   "source": [
    "- query"
   ]
  },
  {
   "cell_type": "code",
   "execution_count": 38,
   "id": "9d326912-8b47-4717-a5ab-e3be04d4d782",
   "metadata": {},
   "outputs": [],
   "source": [
    "if not Application:\n",
    "    binning_subset = binning_subset_list\n",
    "\n",
    "    results = binning(\n",
    "        bt_new,\n",
    "        n_bins=4,\n",
    "        subset=binning_subset,\n",
    "        plot=False,\n",
    "        norm_test=True,\n",
    "    )"
   ]
  },
  {
   "cell_type": "markdown",
   "id": "45c7d5a4-d6c1-4eb9-8813-3d04bfda49b4",
   "metadata": {},
   "source": [
    "#### <mark>PARAMS SAVE</mark> write result"
   ]
  },
  {
   "cell_type": "code",
   "execution_count": 41,
   "id": "c989e01c-3c50-423d-ade0-8dada17b2571",
   "metadata": {},
   "outputs": [],
   "source": [
    "if not Application:\n",
    "    ## save config in pickle file\n",
    "    save_path = path_configs + '/params_binning_raw.pkl'\n",
    "    with open(save_path, 'wb') as file:\n",
    "        pickle.dump(results, file)"
   ]
  },
  {
   "cell_type": "code",
   "execution_count": null,
   "id": "fc806271-0be0-44a3-93ce-6990dc7291bf",
   "metadata": {},
   "outputs": [],
   "source": []
  },
  {
   "cell_type": "markdown",
   "id": "cad6a744-9086-487f-90f6-668ef798c93a",
   "metadata": {
    "tags": []
   },
   "source": [
    "## Step 5: Calculate Default Curve <a name=\"def_curve\"></a>"
   ]
  },
  {
   "cell_type": "markdown",
   "id": "0e51dfe4-3472-4894-acc3-0405cef7c38a",
   "metadata": {},
   "source": [
    "- Inputs"
   ]
  },
  {
   "cell_type": "code",
   "execution_count": 39,
   "id": "f48a3e9e-1ed7-469d-8650-f6e231594cb6",
   "metadata": {},
   "outputs": [],
   "source": [
    "bt = DEV_04_00_BASE_TABLE_OUTLIERS.copy()"
   ]
  },
  {
   "cell_type": "markdown",
   "id": "4836812b-3fc2-4403-83df-90ea3c9e1523",
   "metadata": {},
   "source": [
    "- query"
   ]
  },
  {
   "cell_type": "code",
   "execution_count": 40,
   "id": "7ce5ea06-0971-4ef6-891e-3dd790a1d238",
   "metadata": {},
   "outputs": [
    {
     "data": {
      "text/plain": [
       "<Figure size 640x480 with 0 Axes>"
      ]
     },
     "metadata": {},
     "output_type": "display_data"
    },
    {
     "data": {
      "image/png": "[encoded data removed]",
      "text/plain": [
       "<Figure size 640x480 with 1 Axes>"
      ]
     },
     "metadata": {},
     "output_type": "display_data"
    },
    {
     "data": {
      "image/png": "[encoded data removed]",
      "text/plain": [
       "<Figure size 640x480 with 1 Axes>"
      ]
     },
     "metadata": {},
     "output_type": "display_data"
    },
    {
     "data": {
      "image/png": "[encoded data removed]",
      "text/plain": [
       "<Figure size 640x480 with 1 Axes>"
      ]
     },
     "metadata": {},
     "output_type": "display_data"
    }
   ],
   "source": [
    "FEATURES_SUBSET = def_curve_feat_list\n",
    "\n",
    "bt_sample = bt.loc[bt['IN_SAMPLE'] == 1, :]\n",
    "\n",
    "output = tdef(\n",
    "    bt_sample,\n",
    "    n_bins=20,\n",
    "    ind_bad='FLAG_DEF',\n",
    "    subset=FEATURES_SUBSET,\n",
    "    plot = True\n",
    ")"
   ]
  },
  {
   "cell_type": "code",
   "execution_count": 41,
   "id": "9ad2d9b9-2cb6-4536-9811-6e13b2e49480",
   "metadata": {},
   "outputs": [],
   "source": [
    "#Adjustments"
   ]
  },
  {
   "cell_type": "code",
   "execution_count": 42,
   "id": "30ef7243-f79d-4a20-a181-a40f5425b375",
   "metadata": {},
   "outputs": [],
   "source": [
    "db = bt.copy()\n",
    "\n",
    "db.loc[:, 'I_97_2'] = (db['I_97']-0.0711573386).where((db['I_97'] -\n",
    "                                                       0.0711573386) >= 0, (db['I_97'] - 0.0711573386)*(-1))\n",
    "db.loc[:, 'I_37_2'] = (db['I_37']-0.083011583).where((db['I_37'] -\n",
    "                                                      0.083011583) >= 0, (db['I_37'] - 0.083011583)*(-1))\n",
    "db.loc[:, 'I_27_2'] = (db['I_27']-(-0.051724138)).where((db['I_27'] -\n",
    "                                                         (-0.051724138)) >= 0, (db['I_27'] - (-0.051724138))*(-1))\n",
    "db.loc[:, 'I_32_2'] = (db['I_32']-0.0722722947).where((db['I_32'] -\n",
    "                                                       0.0722722947) >= 0, (db['I_32'] - 0.0722722947)*(-1))\n",
    "db.loc[:, 'I_34_2'] = (db['I_34']-(-0.018090011)).where((db['I_34'] -\n",
    "                                                         (-0.018090011)) >= 0, (db['I_34'] - (-0.018090011))*(-1))\n",
    "db.loc[:, 'mol_fat_2'] = (db['mol_fat']-(-0.127421533)).where(\n",
    "    (db['mol_fat'] - (-0.127421533)) >= 0, (db['mol_fat'] - (-0.127421533))*(-1))\n",
    "db.loc[:, 'P9_2'] = (db['P9']-0.7044479063).where((db['P9'] -\n",
    "                                                   0.7044479063) >= 0, (db['P9'] - 0.7044479063)*(-1))\n",
    "db.loc[:, 'IND_11_2'] = (db['IND_11']-0.2282051282).where(\n",
    "    (db['IND_11'] - 0.2282051282) >= 0, (db['IND_11'] - 0.2282051282)*(-1))\n",
    "db.loc[:, 'IND_3_2'] = (db['IND_3']-0.0711261643).where((db['IND_3'] -\n",
    "                                                         0.0711261643) >= 0, (db['IND_3'] - 0.0711261643)*(-1))\n",
    "db.loc[:, 'IND_8_2'] = (db['IND_8']-0.4222413422).where((db['IND_8'] -\n",
    "                                                         0.4222413422) >= 0, (db['IND_8'] - 0.4222413422)*(-1))\n",
    "db.loc[:, 'IND_10_2'] = (db['IND_10']-(- 0.059725453)).where(\n",
    "    (db['IND_10'] - (- 0.059725453)) >= 0, (db['IND_10'] - (- 0.059725453))*(-1))\n",
    "db.loc[:, 'IND_6_2'] = (db['IND_6']-0.0252849148).where((db['IND_6'] -\n",
    "                                                         0.0252849148) >= 0, (db['IND_6'] - 0.0252849148)*(-1))\n",
    "\n",
    "db = db.drop(['I_97', 'I_37', 'I_27', 'I_32', 'I_34', 'mol_fat',\n",
    "             'P9', 'IND_11', 'IND_3', 'IND_8', 'IND_10', 'IND_6'], axis=1)"
   ]
  },
  {
   "cell_type": "code",
   "execution_count": 43,
   "id": "5e8efca1-89c1-49b2-89f3-94b1b67e231c",
   "metadata": {},
   "outputs": [],
   "source": [
    "if not Application:\n",
    "    vars_to_add = ['I_97_2','I_37_2','I_27_2','I_32_2','I_34_2','mol_fat_2',\n",
    "                   'P9_2','IND_11_2','IND_3_2','IND_8_2','IND_10_2','IND_6_2','I_100']\n",
    "    \n",
    "    vars_to_drop = ['I_97', 'I_37', 'I_27', 'I_32', 'I_34', 'mol_fat',\n",
    "             'P9', 'IND_11', 'IND_3', 'IND_8', 'IND_10', 'IND_6']"
   ]
  },
  {
   "cell_type": "code",
   "execution_count": 47,
   "id": "798881ff-a104-465b-bc6a-eef410d3cf31",
   "metadata": {},
   "outputs": [],
   "source": [
    "if not Application:\n",
    "    # long list variable\n",
    "    vars_path_pkl = path_configs + '/LongList_Variables_tab.pkl'\n",
    "    longlist_vars = pd.read_pickle(vars_path_pkl)\n",
    "    \n",
    "    if 'APP_OUTLIER' not in longlist_vars.columns: longlist_vars['APP_OUTLIER'] = 1\n",
    "    \n",
    "    last_ind = longlist_vars.IND_ID.iloc[-1][3:]\n",
    "    new_ids = [f'PD_{str(id)}' for id in range(int(last_ind)+1,int(last_ind)+len(vars_to_add)+1)]\n",
    "    \n",
    "    ind_desc = ['TBD']*len(vars_to_add)\n",
    "    app_outlier = [0]*len(vars_to_add)\n",
    "    \n",
    "    df_add = pd.DataFrame(list(zip(new_ids, vars_to_add, ind_desc, app_outlier)),\n",
    "               columns =longlist_vars.columns.to_list())\n",
    "    longlist_vars_new = pd.concat([longlist_vars,df_add])\n",
    "    \n",
    "    longlist_vars_new['APP_PERC_MISS'] = np.where(longlist_vars_new.IND_LABEL.isin(vars_to_drop), 0, 1)\n",
    "    \n",
    "    ## save config in pickle file\n",
    "    save_path = path_configs + '/LongList_Variables_tab_full.pkl'\n",
    "    longlist_vars_new.to_pickle(save_path)"
   ]
  },
  {
   "cell_type": "code",
   "execution_count": 44,
   "id": "91df2e6b-8abb-4e03-b600-3a32b9198fa3",
   "metadata": {},
   "outputs": [],
   "source": [
    "DEV_05_00_DEFAULT_CURVE = db.copy()"
   ]
  },
  {
   "cell_type": "markdown",
   "id": "fdaf4a86-a530-4a73-a9b3-62b3b2bb71a6",
   "metadata": {
    "tags": []
   },
   "source": [
    "## Step 6: Calculate Percentage Missing <a name=\"perc_missing\"></a>"
   ]
  },
  {
   "cell_type": "markdown",
   "id": "42d6f05c-b5a1-4df0-b873-0a6d044c3a4c",
   "metadata": {},
   "source": [
    "- Inputs"
   ]
  },
  {
   "cell_type": "code",
   "execution_count": 46,
   "id": "8120b1d1-ff48-4db3-9c7b-9cb3f1ee47fd",
   "metadata": {},
   "outputs": [],
   "source": [
    "db = DEV_05_00_DEFAULT_CURVE.copy()\n",
    "\n",
    "#params\n",
    "vars_path_pkl = path_configs + '/LongList_Variables_tab_full.pkl'\n",
    "longlist_vars_full = pd.read_pickle(vars_path_pkl)\n",
    "longlist_vars_filt = longlist_vars_full.loc[longlist_vars_full['APP_PERC_MISS']==1]"
   ]
  },
  {
   "cell_type": "markdown",
   "id": "f8280ab6-dd47-4bd4-a92a-8d7ab7dbfe51",
   "metadata": {},
   "source": [
    "- query"
   ]
  },
  {
   "cell_type": "code",
   "execution_count": 47,
   "id": "676eb565-b66b-475f-9f42-89a5e571a88a",
   "metadata": {},
   "outputs": [],
   "source": [
    "FEATURES = longlist_vars_filt.IND_LABEL.to_list()\n",
    "SUBSET = list(set(db.columns).intersection(set(['FLAG_DEF'] + FEATURES)))\n",
    "\n",
    "in_sample = db[db['IN_SAMPLE'] == 1][SUBSET]\n",
    "perf = in_sample[in_sample['FLAG_DEF'] == 1]\n",
    "non_perf = in_sample[in_sample['FLAG_DEF'] == 0]\n",
    "\n",
    "to_drop_good = perf.loc[:, perf.isnull().mean() > 0.15].columns\n",
    "to_drop_bad = non_perf.loc[:, non_perf.isnull().mean() > 0.15].columns\n",
    "\n",
    "to_drop = list(set(list(to_drop_good) + list(to_drop_bad)))\n",
    "\n",
    "output = db.drop(to_drop, axis=1)"
   ]
  },
  {
   "cell_type": "code",
   "execution_count": 48,
   "id": "3d60437d-5c94-486e-9a1d-40aecbb80b48",
   "metadata": {},
   "outputs": [],
   "source": [
    "DEV_06_00_PERCENTAGE_MISSING = output.copy()"
   ]
  },
  {
   "cell_type": "markdown",
   "id": "cdbcde4c-83da-4ce4-825f-c6935abd6347",
   "metadata": {
    "tags": []
   },
   "source": [
    "## Step 7: Calculate Accuracy Ratio FIT <a name=\"s7_ar_calc\"></a>"
   ]
  },
  {
   "cell_type": "markdown",
   "id": "e23f2f0f-a4a9-4a5e-94f1-5a0ebdcc1851",
   "metadata": {},
   "source": [
    "- Inputs"
   ]
  },
  {
   "cell_type": "code",
   "execution_count": 50,
   "id": "beba054d-f99a-4995-bdd6-5d8c4f5f452a",
   "metadata": {},
   "outputs": [],
   "source": [
    "db = DEV_06_00_PERCENTAGE_MISSING.copy()\n",
    "\n",
    "#params\n",
    "vars_path_pkl = path_configs + '/LongList_Variables_tab_full.pkl'\n",
    "longlist_vars_full = pd.read_pickle(vars_path_pkl)"
   ]
  },
  {
   "cell_type": "code",
   "execution_count": 51,
   "id": "5690be0a-c26d-4e1f-8779-0aafbc35e860",
   "metadata": {},
   "outputs": [],
   "source": [
    "FEATURES = longlist_vars_full.IND_LABEL.to_list()"
   ]
  },
  {
   "cell_type": "markdown",
   "id": "76fc61d1-2986-4f81-a299-045242102e68",
   "metadata": {},
   "source": [
    "- query"
   ]
  },
  {
   "cell_type": "code",
   "execution_count": 52,
   "id": "d6cbe12f-d1d5-43c4-abab-156c28024ad0",
   "metadata": {},
   "outputs": [],
   "source": [
    "db_sample = db.loc[db['IN_SAMPLE'] == 1, :]\n",
    "\n",
    "new_cols = list(db_sample.columns)\n",
    "IND_post_miss = list(set(new_cols).intersection(set(FEATURES)))\n",
    "results = lorenz(\n",
    "    db_sample,\n",
    "    50,\n",
    "    ind_bad='FLAG_DEF',\n",
    "    subset=IND_post_miss\n",
    ")"
   ]
  },
  {
   "cell_type": "code",
   "execution_count": 53,
   "id": "f1ca2f17-dece-44a1-997b-256b1eecb404",
   "metadata": {},
   "outputs": [
    {
     "data": {
      "text/html": [
       "<div>\n",
       "<style scoped>\n",
       "    .dataframe tbody tr th:only-of-type {\n",
       "        vertical-align: middle;\n",
       "    }\n",
       "\n",
       "    .dataframe tbody tr th {\n",
       "        vertical-align: top;\n",
       "    }\n",
       "\n",
       "    .dataframe thead th {\n",
       "        text-align: right;\n",
       "    }\n",
       "</style>\n",
       "<table border=\"1\" class=\"dataframe\">\n",
       "  <thead>\n",
       "    <tr style=\"text-align: right;\">\n",
       "      <th></th>\n",
       "      <th>variable</th>\n",
       "      <th>Ar</th>\n",
       "      <th>auc</th>\n",
       "    </tr>\n",
       "  </thead>\n",
       "  <tbody>\n",
       "    <tr>\n",
       "      <th>27</th>\n",
       "      <td>I_100</td>\n",
       "      <td>-0.636825</td>\n",
       "      <td>0.803342</td>\n",
       "    </tr>\n",
       "    <tr>\n",
       "      <th>105</th>\n",
       "      <td>C_LIAB_REV</td>\n",
       "      <td>-0.346085</td>\n",
       "      <td>0.664807</td>\n",
       "    </tr>\n",
       "    <tr>\n",
       "      <th>2</th>\n",
       "      <td>I_48</td>\n",
       "      <td>-0.34586</td>\n",
       "      <td>0.664706</td>\n",
       "    </tr>\n",
       "    <tr>\n",
       "      <th>66</th>\n",
       "      <td>DEBT_SER_COV</td>\n",
       "      <td>0.31194</td>\n",
       "      <td>0.648502</td>\n",
       "    </tr>\n",
       "    <tr>\n",
       "      <th>142</th>\n",
       "      <td>I_22</td>\n",
       "      <td>0.308232</td>\n",
       "      <td>0.646771</td>\n",
       "    </tr>\n",
       "    <tr>\n",
       "      <th>...</th>\n",
       "      <td>...</td>\n",
       "      <td>...</td>\n",
       "      <td>...</td>\n",
       "    </tr>\n",
       "    <tr>\n",
       "      <th>111</th>\n",
       "      <td>RICNET_IMMATBR_1</td>\n",
       "      <td>-0.004681</td>\n",
       "      <td>0.502231</td>\n",
       "    </tr>\n",
       "    <tr>\n",
       "      <th>46</th>\n",
       "      <td>E4</td>\n",
       "      <td>0.002653</td>\n",
       "      <td>0.501263</td>\n",
       "    </tr>\n",
       "    <tr>\n",
       "      <th>108</th>\n",
       "      <td>IND_37</td>\n",
       "      <td>-0.002241</td>\n",
       "      <td>0.50107</td>\n",
       "    </tr>\n",
       "    <tr>\n",
       "      <th>96</th>\n",
       "      <td>I_29</td>\n",
       "      <td>-0.001255</td>\n",
       "      <td>0.500599</td>\n",
       "    </tr>\n",
       "    <tr>\n",
       "      <th>26</th>\n",
       "      <td>B8</td>\n",
       "      <td>0.000241</td>\n",
       "      <td>0.500115</td>\n",
       "    </tr>\n",
       "  </tbody>\n",
       "</table>\n",
       "<p>150 rows × 3 columns</p>\n",
       "</div>"
      ],
      "text/plain": [
       "             variable        Ar       auc\n",
       "27              I_100 -0.636825  0.803342\n",
       "105        C_LIAB_REV -0.346085  0.664807\n",
       "2                I_48  -0.34586  0.664706\n",
       "66       DEBT_SER_COV   0.31194  0.648502\n",
       "142              I_22  0.308232  0.646771\n",
       "..                ...       ...       ...\n",
       "111  RICNET_IMMATBR_1 -0.004681  0.502231\n",
       "46                 E4  0.002653  0.501263\n",
       "108            IND_37 -0.002241   0.50107\n",
       "96               I_29 -0.001255  0.500599\n",
       "26                 B8  0.000241  0.500115\n",
       "\n",
       "[150 rows x 3 columns]"
      ]
     },
     "execution_count": 53,
     "metadata": {},
     "output_type": "execute_result"
    }
   ],
   "source": [
    "results.sort_values('auc', ascending=False)"
   ]
  },
  {
   "cell_type": "markdown",
   "id": "8038ff52-7e6b-40bb-8297-a0d3147ed794",
   "metadata": {},
   "source": [
    "#### <mark>PARAMS SAVE</mark> write result"
   ]
  },
  {
   "cell_type": "code",
   "execution_count": 54,
   "id": "70e02676-eecd-4459-b2bc-b18284dd52a1",
   "metadata": {},
   "outputs": [],
   "source": [
    "if not Application:\n",
    "    ## save config in pickle file\n",
    "    save_path = path_configs + '/report_univariate_AR_tab.pkl'\n",
    "    results.to_pickle(save_path)"
   ]
  },
  {
   "cell_type": "markdown",
   "id": "6eea53c2-a2f1-4c97-9ed1-81afbdf128e0",
   "metadata": {},
   "source": [
    "### drop low performance inds"
   ]
  },
  {
   "cell_type": "markdown",
   "id": "071cfb71-a994-4d4a-9bdd-501604454ad6",
   "metadata": {},
   "source": [
    "- query"
   ]
  },
  {
   "cell_type": "code",
   "execution_count": 55,
   "id": "e72b62ae-85ae-4e7c-8fdf-845d95a9534e",
   "metadata": {},
   "outputs": [
    {
     "name": "stderr",
     "output_type": "stream",
     "text": [
      "/tmp/ipykernel_81/949360964.py:6: FutureWarning: The frame.append method is deprecated and will be removed from pandas in a future version. Use pandas.concat instead.\n",
      "  output = output.append(results.rename(columns={\"Ar\": \"value\"}))\n"
     ]
    }
   ],
   "source": [
    "if not Application:\n",
    "    results = results.filter(['variable', 'Ar'], axis=1)\n",
    "    vars_to_drop = list(results.loc[abs(results['Ar']) < 0.10, 'variable'])\n",
    "    output = pd.DataFrame({'variable': ['vars_to_drop'],\n",
    "                              'value': [vars_to_drop]})\n",
    "    output = output.append(results.rename(columns={\"Ar\": \"value\"}))\n",
    "    cols = ['variable', 'value']\n",
    "    output = output[cols].reset_index(drop=True)\n",
    "    \n",
    "    DEV_07_00_ACCURACY_RATIO_STEP1 = output.copy()"
   ]
  },
  {
   "cell_type": "markdown",
   "id": "d85099f8-8dae-4425-8e11-436ab269b165",
   "metadata": {},
   "source": [
    "#### <mark>PARAMS SAVE</mark> write result"
   ]
  },
  {
   "cell_type": "code",
   "execution_count": 58,
   "id": "8b0a8731-4fd5-49ac-9ccd-bbf776bc8fc8",
   "metadata": {},
   "outputs": [],
   "source": [
    "if not Application:\n",
    "    ## save config in pickle file\n",
    "    save_path = path_configs + '/params_AR_tab.pkl'\n",
    "    DEV_07_00_ACCURACY_RATIO_STEP1.to_pickle(save_path)"
   ]
  },
  {
   "cell_type": "markdown",
   "id": "82202fb6-d908-452c-b1c6-40caf2158b64",
   "metadata": {
    "tags": []
   },
   "source": [
    "## Step 8: Calculate Accuracy Ratio Replace <a name=\"s7_ar_repl\"></a>"
   ]
  },
  {
   "cell_type": "markdown",
   "id": "fd2d93bf-09f6-49df-aaec-53656d7c97a7",
   "metadata": {},
   "source": [
    "- Inputs"
   ]
  },
  {
   "cell_type": "code",
   "execution_count": 56,
   "id": "6a5d6096-4938-40a2-9996-c9e29dcca084",
   "metadata": {},
   "outputs": [],
   "source": [
    "db = DEV_06_00_PERCENTAGE_MISSING.copy()\n",
    "\n",
    "#params\n",
    "path = path_configs + '/params_AR_tab.pkl'\n",
    "params = pd.read_pickle(path)"
   ]
  },
  {
   "cell_type": "markdown",
   "id": "30c7e3e0-002c-4e13-b9d2-c6d0233e22cd",
   "metadata": {},
   "source": [
    "- query"
   ]
  },
  {
   "cell_type": "code",
   "execution_count": 57,
   "id": "f9d9a16f-5832-48d4-9191-e0766d4f03c4",
   "metadata": {},
   "outputs": [],
   "source": [
    "params_dict = params[['variable', 'value']].set_index('variable')[\n",
    "    'value'].to_dict()\n",
    "\n",
    "\n",
    "to_drop = params_dict['vars_to_drop']\n",
    "db_filtered = db.drop(to_drop, axis=1)"
   ]
  },
  {
   "cell_type": "code",
   "execution_count": 58,
   "id": "f4bc4e6c-217e-4454-a676-2b9876dfd405",
   "metadata": {},
   "outputs": [],
   "source": [
    "DEV_08_00_ACCURACY_RATIO_STEP2 = db_filtered.copy()"
   ]
  },
  {
   "cell_type": "markdown",
   "id": "ce83bbd8-94bb-40c2-b7c4-419dd4e8235e",
   "metadata": {
    "tags": []
   },
   "source": [
    "## Step 8b: Calculate Correct Classification Rate <a name=\"calc_tcorr\"></a>"
   ]
  },
  {
   "cell_type": "markdown",
   "id": "bc1de6dc-94d6-4c4b-8178-7655e5daee24",
   "metadata": {},
   "source": [
    "- Inputs"
   ]
  },
  {
   "cell_type": "code",
   "execution_count": 59,
   "id": "803c113d-8c42-4d7c-bcbf-3930191e8a02",
   "metadata": {},
   "outputs": [],
   "source": [
    "db = DEV_08_00_ACCURACY_RATIO_STEP2.copy()\n",
    "\n",
    "#params\n",
    "vars_path_pkl = path_configs + '/LongList_Variables_tab_full.pkl'\n",
    "longlist_vars_full = pd.read_pickle(vars_path_pkl)"
   ]
  },
  {
   "cell_type": "code",
   "execution_count": 60,
   "id": "0f4b1e93-6392-4af3-b05c-90dfaa5e89ba",
   "metadata": {},
   "outputs": [],
   "source": [
    "FEATURES = longlist_vars_full.IND_LABEL.to_list()"
   ]
  },
  {
   "cell_type": "markdown",
   "id": "348d41aa-17b7-4115-8edd-7a66d8980a26",
   "metadata": {},
   "source": [
    "- query"
   ]
  },
  {
   "cell_type": "code",
   "execution_count": 61,
   "id": "f5768d72-9936-41c4-b012-4fcc249a70e2",
   "metadata": {},
   "outputs": [],
   "source": [
    "db_sample = db.loc[db['IN_SAMPLE'] == 1, :]\n",
    "\n",
    "new_cols = list(db_sample.columns)\n",
    "IND_post_ar = list(set(new_cols).intersection(set(FEATURES)))\n",
    "\n",
    "results = tcorr(db_sample, bad_col='FLAG_DEF', subset=IND_post_ar)"
   ]
  },
  {
   "cell_type": "code",
   "execution_count": 62,
   "id": "7a742005-ce0e-4160-b83f-e5f9eaeb8d5c",
   "metadata": {},
   "outputs": [
    {
     "data": {
      "text/html": [
       "<div>\n",
       "<style scoped>\n",
       "    .dataframe tbody tr th:only-of-type {\n",
       "        vertical-align: middle;\n",
       "    }\n",
       "\n",
       "    .dataframe tbody tr th {\n",
       "        vertical-align: top;\n",
       "    }\n",
       "\n",
       "    .dataframe thead th {\n",
       "        text-align: right;\n",
       "    }\n",
       "</style>\n",
       "<table border=\"1\" class=\"dataframe\">\n",
       "  <thead>\n",
       "    <tr style=\"text-align: right;\">\n",
       "      <th></th>\n",
       "      <th>VAR</th>\n",
       "      <th>COUNT</th>\n",
       "      <th>MISSING</th>\n",
       "      <th>PERF</th>\n",
       "      <th>MISS_PERF</th>\n",
       "      <th>PERC_MISS_PERF</th>\n",
       "      <th>TP</th>\n",
       "      <th>FP</th>\n",
       "      <th>ERROR_II</th>\n",
       "      <th>NPERF</th>\n",
       "      <th>...</th>\n",
       "      <th>FN</th>\n",
       "      <th>TF</th>\n",
       "      <th>ERROR_I</th>\n",
       "      <th>CORCL_RATE</th>\n",
       "      <th>AVG_PD</th>\n",
       "      <th>AVG_PD_PERF</th>\n",
       "      <th>AVG_PD_NPERF</th>\n",
       "      <th>AVG_PERF</th>\n",
       "      <th>AVG_NPERF</th>\n",
       "      <th>HALF_SUM</th>\n",
       "    </tr>\n",
       "  </thead>\n",
       "  <tbody>\n",
       "    <tr>\n",
       "      <th>0</th>\n",
       "      <td>CAPNP_TANG_CAPNP</td>\n",
       "      <td>19674</td>\n",
       "      <td>83</td>\n",
       "      <td>18736.0</td>\n",
       "      <td>0</td>\n",
       "      <td>0.000000</td>\n",
       "      <td>13744.0</td>\n",
       "      <td>4909.0</td>\n",
       "      <td>0.263175</td>\n",
       "      <td>938.0</td>\n",
       "      <td>...</td>\n",
       "      <td>587.0</td>\n",
       "      <td>351.0</td>\n",
       "      <td>0.625800</td>\n",
       "      <td>0.555513</td>\n",
       "      <td>0.047879</td>\n",
       "      <td>0.047766</td>\n",
       "      <td>0.050136</td>\n",
       "      <td>48.423882</td>\n",
       "      <td>24.504599</td>\n",
       "      <td>36.464241</td>\n",
       "    </tr>\n",
       "    <tr>\n",
       "      <th>1</th>\n",
       "      <td>PASS_CORR_CAPTERZ</td>\n",
       "      <td>19674</td>\n",
       "      <td>133</td>\n",
       "      <td>18736.0</td>\n",
       "      <td>127</td>\n",
       "      <td>0.006778</td>\n",
       "      <td>7892.0</td>\n",
       "      <td>10717.0</td>\n",
       "      <td>0.575904</td>\n",
       "      <td>938.0</td>\n",
       "      <td>...</td>\n",
       "      <td>336.0</td>\n",
       "      <td>596.0</td>\n",
       "      <td>0.360515</td>\n",
       "      <td>0.531790</td>\n",
       "      <td>0.047695</td>\n",
       "      <td>0.047651</td>\n",
       "      <td>0.048557</td>\n",
       "      <td>75.294143</td>\n",
       "      <td>78.319626</td>\n",
       "      <td>76.806885</td>\n",
       "    </tr>\n",
       "    <tr>\n",
       "      <th>2</th>\n",
       "      <td>DUR_DEBFORN</td>\n",
       "      <td>19674</td>\n",
       "      <td>1912</td>\n",
       "      <td>18736.0</td>\n",
       "      <td>1785</td>\n",
       "      <td>0.095271</td>\n",
       "      <td>12326.0</td>\n",
       "      <td>4625.0</td>\n",
       "      <td>0.272845</td>\n",
       "      <td>938.0</td>\n",
       "      <td>...</td>\n",
       "      <td>466.0</td>\n",
       "      <td>345.0</td>\n",
       "      <td>0.574599</td>\n",
       "      <td>0.576278</td>\n",
       "      <td>0.045659</td>\n",
       "      <td>0.045460</td>\n",
       "      <td>0.049824</td>\n",
       "      <td>138.501522</td>\n",
       "      <td>174.887385</td>\n",
       "      <td>156.694453</td>\n",
       "    </tr>\n",
       "    <tr>\n",
       "      <th>3</th>\n",
       "      <td>DUR_CICLO</td>\n",
       "      <td>19674</td>\n",
       "      <td>1247</td>\n",
       "      <td>18736.0</td>\n",
       "      <td>1167</td>\n",
       "      <td>0.062287</td>\n",
       "      <td>11403.0</td>\n",
       "      <td>6166.0</td>\n",
       "      <td>0.350959</td>\n",
       "      <td>938.0</td>\n",
       "      <td>...</td>\n",
       "      <td>437.0</td>\n",
       "      <td>421.0</td>\n",
       "      <td>0.509324</td>\n",
       "      <td>0.569858</td>\n",
       "      <td>0.046562</td>\n",
       "      <td>0.046338</td>\n",
       "      <td>0.051161</td>\n",
       "      <td>164.821280</td>\n",
       "      <td>206.516393</td>\n",
       "      <td>185.668837</td>\n",
       "    </tr>\n",
       "    <tr>\n",
       "      <th>4</th>\n",
       "      <td>I_1</td>\n",
       "      <td>19674</td>\n",
       "      <td>410</td>\n",
       "      <td>18736.0</td>\n",
       "      <td>392</td>\n",
       "      <td>0.020922</td>\n",
       "      <td>7033.0</td>\n",
       "      <td>11311.0</td>\n",
       "      <td>0.616605</td>\n",
       "      <td>938.0</td>\n",
       "      <td>...</td>\n",
       "      <td>212.0</td>\n",
       "      <td>708.0</td>\n",
       "      <td>0.230435</td>\n",
       "      <td>0.576480</td>\n",
       "      <td>0.047757</td>\n",
       "      <td>0.047563</td>\n",
       "      <td>0.051629</td>\n",
       "      <td>0.039196</td>\n",
       "      <td>0.010085</td>\n",
       "      <td>0.024640</td>\n",
       "    </tr>\n",
       "    <tr>\n",
       "      <th>...</th>\n",
       "      <td>...</td>\n",
       "      <td>...</td>\n",
       "      <td>...</td>\n",
       "      <td>...</td>\n",
       "      <td>...</td>\n",
       "      <td>...</td>\n",
       "      <td>...</td>\n",
       "      <td>...</td>\n",
       "      <td>...</td>\n",
       "      <td>...</td>\n",
       "      <td>...</td>\n",
       "      <td>...</td>\n",
       "      <td>...</td>\n",
       "      <td>...</td>\n",
       "      <td>...</td>\n",
       "      <td>...</td>\n",
       "      <td>...</td>\n",
       "      <td>...</td>\n",
       "      <td>...</td>\n",
       "      <td>...</td>\n",
       "      <td>...</td>\n",
       "    </tr>\n",
       "    <tr>\n",
       "      <th>112</th>\n",
       "      <td>B4</td>\n",
       "      <td>19674</td>\n",
       "      <td>1124</td>\n",
       "      <td>18736.0</td>\n",
       "      <td>1074</td>\n",
       "      <td>0.057323</td>\n",
       "      <td>9068.0</td>\n",
       "      <td>8594.0</td>\n",
       "      <td>0.486581</td>\n",
       "      <td>938.0</td>\n",
       "      <td>...</td>\n",
       "      <td>362.0</td>\n",
       "      <td>526.0</td>\n",
       "      <td>0.407658</td>\n",
       "      <td>0.552880</td>\n",
       "      <td>0.047871</td>\n",
       "      <td>0.047791</td>\n",
       "      <td>0.049446</td>\n",
       "      <td>3.728474</td>\n",
       "      <td>-1.426779</td>\n",
       "      <td>1.150847</td>\n",
       "    </tr>\n",
       "    <tr>\n",
       "      <th>113</th>\n",
       "      <td>B5</td>\n",
       "      <td>19674</td>\n",
       "      <td>129</td>\n",
       "      <td>18736.0</td>\n",
       "      <td>123</td>\n",
       "      <td>0.006565</td>\n",
       "      <td>11639.0</td>\n",
       "      <td>6974.0</td>\n",
       "      <td>0.374684</td>\n",
       "      <td>938.0</td>\n",
       "      <td>...</td>\n",
       "      <td>484.0</td>\n",
       "      <td>448.0</td>\n",
       "      <td>0.519313</td>\n",
       "      <td>0.553001</td>\n",
       "      <td>0.047685</td>\n",
       "      <td>0.047635</td>\n",
       "      <td>0.048676</td>\n",
       "      <td>0.028169</td>\n",
       "      <td>-0.062613</td>\n",
       "      <td>-0.017222</td>\n",
       "    </tr>\n",
       "    <tr>\n",
       "      <th>114</th>\n",
       "      <td>B10</td>\n",
       "      <td>19674</td>\n",
       "      <td>1298</td>\n",
       "      <td>18736.0</td>\n",
       "      <td>1233</td>\n",
       "      <td>0.065809</td>\n",
       "      <td>7942.0</td>\n",
       "      <td>9561.0</td>\n",
       "      <td>0.546249</td>\n",
       "      <td>938.0</td>\n",
       "      <td>...</td>\n",
       "      <td>297.0</td>\n",
       "      <td>576.0</td>\n",
       "      <td>0.340206</td>\n",
       "      <td>0.556772</td>\n",
       "      <td>0.047508</td>\n",
       "      <td>0.047325</td>\n",
       "      <td>0.051179</td>\n",
       "      <td>0.087747</td>\n",
       "      <td>0.057567</td>\n",
       "      <td>0.072657</td>\n",
       "    </tr>\n",
       "    <tr>\n",
       "      <th>115</th>\n",
       "      <td>SGF_CFL2_2</td>\n",
       "      <td>19674</td>\n",
       "      <td>321</td>\n",
       "      <td>18736.0</td>\n",
       "      <td>300</td>\n",
       "      <td>0.016012</td>\n",
       "      <td>13278.0</td>\n",
       "      <td>5158.0</td>\n",
       "      <td>0.279779</td>\n",
       "      <td>938.0</td>\n",
       "      <td>...</td>\n",
       "      <td>526.0</td>\n",
       "      <td>391.0</td>\n",
       "      <td>0.573610</td>\n",
       "      <td>0.573306</td>\n",
       "      <td>0.047383</td>\n",
       "      <td>0.047269</td>\n",
       "      <td>0.049681</td>\n",
       "      <td>-0.609819</td>\n",
       "      <td>-0.946659</td>\n",
       "      <td>-0.778239</td>\n",
       "    </tr>\n",
       "    <tr>\n",
       "      <th>116</th>\n",
       "      <td>I_100</td>\n",
       "      <td>19674</td>\n",
       "      <td>151</td>\n",
       "      <td>18736.0</td>\n",
       "      <td>137</td>\n",
       "      <td>0.007312</td>\n",
       "      <td>13763.0</td>\n",
       "      <td>4836.0</td>\n",
       "      <td>0.260014</td>\n",
       "      <td>938.0</td>\n",
       "      <td>...</td>\n",
       "      <td>237.0</td>\n",
       "      <td>687.0</td>\n",
       "      <td>0.256494</td>\n",
       "      <td>0.741746</td>\n",
       "      <td>0.047329</td>\n",
       "      <td>0.042028</td>\n",
       "      <td>0.154037</td>\n",
       "      <td>0.062447</td>\n",
       "      <td>0.347934</td>\n",
       "      <td>0.205190</td>\n",
       "    </tr>\n",
       "  </tbody>\n",
       "</table>\n",
       "<p>117 rows × 22 columns</p>\n",
       "</div>"
      ],
      "text/plain": [
       "                   VAR  COUNT  MISSING     PERF  MISS_PERF  PERC_MISS_PERF  \\\n",
       "0     CAPNP_TANG_CAPNP  19674       83  18736.0          0        0.000000   \n",
       "1    PASS_CORR_CAPTERZ  19674      133  18736.0        127        0.006778   \n",
       "2          DUR_DEBFORN  19674     1912  18736.0       1785        0.095271   \n",
       "3            DUR_CICLO  19674     1247  18736.0       1167        0.062287   \n",
       "4                  I_1  19674      410  18736.0        392        0.020922   \n",
       "..                 ...    ...      ...      ...        ...             ...   \n",
       "112                 B4  19674     1124  18736.0       1074        0.057323   \n",
       "113                 B5  19674      129  18736.0        123        0.006565   \n",
       "114                B10  19674     1298  18736.0       1233        0.065809   \n",
       "115         SGF_CFL2_2  19674      321  18736.0        300        0.016012   \n",
       "116              I_100  19674      151  18736.0        137        0.007312   \n",
       "\n",
       "          TP       FP  ERROR_II  NPERF  ...     FN     TF   ERROR_I  \\\n",
       "0    13744.0   4909.0  0.263175  938.0  ...  587.0  351.0  0.625800   \n",
       "1     7892.0  10717.0  0.575904  938.0  ...  336.0  596.0  0.360515   \n",
       "2    12326.0   4625.0  0.272845  938.0  ...  466.0  345.0  0.574599   \n",
       "3    11403.0   6166.0  0.350959  938.0  ...  437.0  421.0  0.509324   \n",
       "4     7033.0  11311.0  0.616605  938.0  ...  212.0  708.0  0.230435   \n",
       "..       ...      ...       ...    ...  ...    ...    ...       ...   \n",
       "112   9068.0   8594.0  0.486581  938.0  ...  362.0  526.0  0.407658   \n",
       "113  11639.0   6974.0  0.374684  938.0  ...  484.0  448.0  0.519313   \n",
       "114   7942.0   9561.0  0.546249  938.0  ...  297.0  576.0  0.340206   \n",
       "115  13278.0   5158.0  0.279779  938.0  ...  526.0  391.0  0.573610   \n",
       "116  13763.0   4836.0  0.260014  938.0  ...  237.0  687.0  0.256494   \n",
       "\n",
       "     CORCL_RATE    AVG_PD  AVG_PD_PERF  AVG_PD_NPERF    AVG_PERF   AVG_NPERF  \\\n",
       "0      0.555513  0.047879     0.047766      0.050136   48.423882   24.504599   \n",
       "1      0.531790  0.047695     0.047651      0.048557   75.294143   78.319626   \n",
       "2      0.576278  0.045659     0.045460      0.049824  138.501522  174.887385   \n",
       "3      0.569858  0.046562     0.046338      0.051161  164.821280  206.516393   \n",
       "4      0.576480  0.047757     0.047563      0.051629    0.039196    0.010085   \n",
       "..          ...       ...          ...           ...         ...         ...   \n",
       "112    0.552880  0.047871     0.047791      0.049446    3.728474   -1.426779   \n",
       "113    0.553001  0.047685     0.047635      0.048676    0.028169   -0.062613   \n",
       "114    0.556772  0.047508     0.047325      0.051179    0.087747    0.057567   \n",
       "115    0.573306  0.047383     0.047269      0.049681   -0.609819   -0.946659   \n",
       "116    0.741746  0.047329     0.042028      0.154037    0.062447    0.347934   \n",
       "\n",
       "       HALF_SUM  \n",
       "0     36.464241  \n",
       "1     76.806885  \n",
       "2    156.694453  \n",
       "3    185.668837  \n",
       "4      0.024640  \n",
       "..          ...  \n",
       "112    1.150847  \n",
       "113   -0.017222  \n",
       "114    0.072657  \n",
       "115   -0.778239  \n",
       "116    0.205190  \n",
       "\n",
       "[117 rows x 22 columns]"
      ]
     },
     "execution_count": 62,
     "metadata": {},
     "output_type": "execute_result"
    }
   ],
   "source": [
    "results"
   ]
  },
  {
   "cell_type": "markdown",
   "id": "0de3ef72-f8eb-4428-9b24-595fbcd23ea9",
   "metadata": {},
   "source": [
    "#### <mark>PARAMS SAVE</mark> write result"
   ]
  },
  {
   "cell_type": "code",
   "execution_count": 66,
   "id": "12057b93-4876-49cc-a241-06cb9b014eaf",
   "metadata": {},
   "outputs": [],
   "source": [
    "if not Application:\n",
    "    ## save config in pickle file\n",
    "    save_path = path_configs + '/report_tcorr_pre_stepwise_tab.pkl'\n",
    "    results.to_pickle(save_path)\n",
    "    "
   ]
  },
  {
   "cell_type": "markdown",
   "id": "682f6736-39fe-41b0-b870-c5939676813f",
   "metadata": {
    "tags": []
   },
   "source": [
    "## Step 9: Missing Values Management Fit <a name=\"missing_fit\"></a>"
   ]
  },
  {
   "cell_type": "markdown",
   "id": "8634ebaf-dc15-4787-a2ba-fb0dd50ec50a",
   "metadata": {},
   "source": [
    "- Inputs"
   ]
  },
  {
   "cell_type": "code",
   "execution_count": 67,
   "id": "a80e674b-d4c5-46c5-b12f-d3185772e7be",
   "metadata": {},
   "outputs": [],
   "source": [
    "if not Application:\n",
    "    db = DEV_08_00_ACCURACY_RATIO_STEP2.copy()\n",
    "\n",
    "    #params\n",
    "    vars_path_pkl = path_configs + '/LongList_Variables_tab_full.pkl'\n",
    "    longlist_vars_full = pd.read_pickle(vars_path_pkl)\n",
    "    \n",
    "    FEATURES = longlist_vars_full.IND_LABEL.to_list()"
   ]
  },
  {
   "cell_type": "markdown",
   "id": "2157e21f-c4cd-4733-a7f7-7a08efad4ae0",
   "metadata": {},
   "source": [
    "- query"
   ]
  },
  {
   "cell_type": "code",
   "execution_count": 68,
   "id": "10f36019-76ba-4f82-b89c-e1555a5c85bc",
   "metadata": {},
   "outputs": [],
   "source": [
    "if not Application:\n",
    "    db = db.loc[db['IN_SAMPLE'] == 1, :]\n",
    "\n",
    "    new_cols = list(db.columns)\n",
    "    IND_post_ar = list(set(new_cols).intersection(set(FEATURES)))\n",
    "\n",
    "    half_sums = pd.DataFrame({'Value': []})\n",
    "\n",
    "    for i in IND_post_ar:\n",
    "        mean_good = db.loc[db['FLAG_DEF'] == 1, i].mean()\n",
    "        mean_bad = db.loc[db['FLAG_DEF'] == 0, i].mean()\n",
    "        half_sums.loc[i] = (mean_good+mean_bad)/2\n",
    "\n",
    "    half_sums.index.name = 'label'\n",
    "    half_sums = half_sums.reset_index().sort_values(\n",
    "        by='label').reset_index(drop=True)\n",
    "    list_cols = pd.DataFrame({'label': ['list_cols'],\n",
    "                                  'Value': [new_cols]})\n",
    "\n",
    "    half_sums = list_cols.append(half_sums).reset_index(drop=True)"
   ]
  },
  {
   "cell_type": "code",
   "execution_count": 69,
   "id": "07e88295-532f-435a-828e-b6d1ae97f2c3",
   "metadata": {},
   "outputs": [],
   "source": [
    "if not Application:\n",
    "    DEV_09_00_NEUTRAL_NUMBERS = half_sums[['label', 'Value']].copy()"
   ]
  },
  {
   "cell_type": "code",
   "execution_count": 70,
   "id": "16bba4ca-0320-406a-9e4e-74f2350f8380",
   "metadata": {},
   "outputs": [],
   "source": [
    "if not Application:\n",
    "    ## save config in pickle file\n",
    "    save_path = path_configs + '/params_missing_fit_tab.pkl'\n",
    "    DEV_09_00_NEUTRAL_NUMBERS.to_pickle(save_path)"
   ]
  },
  {
   "cell_type": "markdown",
   "id": "c376a523-85bf-417c-ae7f-a1b521f8e744",
   "metadata": {
    "tags": []
   },
   "source": [
    "## Step 10: Missing Values Management Replace <a name=\"missing_replace\"></a>"
   ]
  },
  {
   "cell_type": "markdown",
   "id": "07a26d73-3079-4011-95a5-4d1f2bcc867e",
   "metadata": {},
   "source": [
    "- Inputs"
   ]
  },
  {
   "cell_type": "code",
   "execution_count": 71,
   "id": "418725f8-9a77-4bc6-8b44-80d38f2e49b8",
   "metadata": {},
   "outputs": [],
   "source": [
    "db = DEV_05_00_DEFAULT_CURVE.copy()\n",
    "\n",
    "#params\n",
    "path = path_configs + '/params_missing_fit_tab.pkl'\n",
    "nn = pd.read_pickle(path)\n",
    "\n",
    "vars_path_pkl = path_configs + '/LongList_Variables_tab_full.pkl'\n",
    "longlist_vars_full = pd.read_pickle(vars_path_pkl)\n",
    "\n",
    "FEATURES = longlist_vars_full.IND_LABEL.to_list()"
   ]
  },
  {
   "cell_type": "markdown",
   "id": "84d39a9f-3c50-4ed4-9258-7e2a228bb363",
   "metadata": {},
   "source": [
    "- query"
   ]
  },
  {
   "cell_type": "code",
   "execution_count": 72,
   "id": "2a00c428-b2a2-4da6-9a68-b88c9bcf9391",
   "metadata": {},
   "outputs": [],
   "source": [
    "nn_dict = nn[['label', 'Value']].set_index('label')['Value'].to_dict()\n",
    "\n",
    "list_cols = nn_dict['list_cols']\n",
    "db = db.filter(list_cols, axis=1)\n",
    "\n",
    "IND_post_ar = list(set(FEATURES) & set(list_cols))\n",
    "\n",
    "for i in IND_post_ar:\n",
    "    db[i].fillna(nn_dict[i], inplace=True)"
   ]
  },
  {
   "cell_type": "code",
   "execution_count": 73,
   "id": "8ddd1ab1-9e7d-4392-b50c-7a4011b7b2e2",
   "metadata": {},
   "outputs": [],
   "source": [
    "DEV_10_00_MISSING_VALUE_MANAGEMENT_STEP2 = db.copy()"
   ]
  },
  {
   "cell_type": "markdown",
   "id": "20409ac8-3a84-4c07-b6bc-98b77f905f0b",
   "metadata": {
    "tags": []
   },
   "source": [
    "## Step 11: Calculate Correlation Fit <a name=\"biv_corr_fit\"></a>"
   ]
  },
  {
   "cell_type": "markdown",
   "id": "5b054836-1f6f-4fdc-97f6-ba452c46e2ca",
   "metadata": {},
   "source": [
    "- Inputs"
   ]
  },
  {
   "cell_type": "code",
   "execution_count": 74,
   "id": "fccf786b-a946-4aa1-a40d-771234b5d3ee",
   "metadata": {},
   "outputs": [],
   "source": [
    "if not Application:\n",
    "    db = DEV_10_00_MISSING_VALUE_MANAGEMENT_STEP2.copy()\n",
    "    \n",
    "    #params\n",
    "    path = path_configs + '/params_AR_tab.pkl'\n",
    "    params = pd.read_pickle(path)\n",
    "    \n",
    "    vars_path_pkl = path_configs + '/LongList_Variables_tab_full.pkl'\n",
    "    longlist_vars_full = pd.read_pickle(vars_path_pkl)\n",
    "    \n",
    "    FEATURES = longlist_vars_full.IND_LABEL.to_list()"
   ]
  },
  {
   "cell_type": "markdown",
   "id": "0ab43aff-9b27-4cd5-aee0-0c79e539dd4c",
   "metadata": {},
   "source": [
    "- query"
   ]
  },
  {
   "cell_type": "code",
   "execution_count": 75,
   "id": "408ff8af-d800-4470-9144-66661eecf651",
   "metadata": {},
   "outputs": [],
   "source": [
    "if not Application:\n",
    "    params_dict = params[['variable', 'value']].set_index('variable')['value'].to_dict()\n",
    "\n",
    "    in_sample = db.loc[db['IN_SAMPLE'] == 1, :]\n",
    "\n",
    "    new_cols = list(in_sample.columns)\n",
    "    IND_post_AR = list(set(new_cols).intersection(set(FEATURES)))"
   ]
  },
  {
   "cell_type": "code",
   "execution_count": 76,
   "id": "4f30776a-406c-41f8-bd82-89b0c0376ca3",
   "metadata": {},
   "outputs": [],
   "source": [
    "if not Application:\n",
    "    results = matrix_corr(\n",
    "        in_sample,\n",
    "        subset=IND_post_AR,\n",
    "        alt=True\n",
    "    )\n",
    "\n",
    "    results.loc[:, 'abs_ar1'] = results.apply(\n",
    "        lambda x: abs(params_dict[x['Var1']]), axis=1)\n",
    "    results.loc[:, 'abs_ar2'] = results.apply(\n",
    "        lambda x: abs(params_dict[x['Var2']]), axis=1)\n",
    "    results.loc[:, 'abs_corr'] = abs(results['Correlation'])\n"
   ]
  },
  {
   "cell_type": "markdown",
   "id": "3151290b-3de4-4295-9a4e-99764fd5f559",
   "metadata": {
    "tags": []
   },
   "source": [
    "#### <mark>PARAMS SAVE</mark> write result"
   ]
  },
  {
   "cell_type": "code",
   "execution_count": 77,
   "id": "8ea44461-caeb-4649-92f5-4d05ada4af9a",
   "metadata": {},
   "outputs": [],
   "source": [
    "if not Application:\n",
    "    ## save config in pickle file\n",
    "    save_path = path_configs + '/report_bivariate_corr_tab.pkl'\n",
    "    DEV_11_01_CORRELATION_Report = results\n",
    "    DEV_11_01_CORRELATION_Report.to_pickle(save_path)"
   ]
  },
  {
   "cell_type": "markdown",
   "id": "db184652-76e5-4fb1-be67-10c95bf1da4c",
   "metadata": {
    "tags": []
   },
   "source": [
    "## Step 11B: Calculate Correlation Replace <a name=\"biv_corr_replace\"></a>"
   ]
  },
  {
   "cell_type": "markdown",
   "id": "ea670105-bb43-4466-ae08-963b7860ec4b",
   "metadata": {},
   "source": [
    "- Inputs"
   ]
  },
  {
   "cell_type": "code",
   "execution_count": 78,
   "id": "02e367c1-0128-444d-b351-1ce3151d083b",
   "metadata": {},
   "outputs": [],
   "source": [
    "db = DEV_10_00_MISSING_VALUE_MANAGEMENT_STEP2.copy()\n",
    "    \n",
    "#params\n",
    "path = path_configs + '/report_bivariate_corr_tab.pkl'\n",
    "results = pd.read_pickle(path)\n",
    "    \n",
    "vars_path_pkl = path_configs + '/LongList_Variables_tab_full.pkl'\n",
    "longlist_vars_full = pd.read_pickle(vars_path_pkl)\n",
    "    \n",
    "FEATURES = longlist_vars_full.IND_LABEL.to_list()"
   ]
  },
  {
   "cell_type": "code",
   "execution_count": 79,
   "id": "25524d2c-d11a-4c9f-b0e6-43f0eb7b2cd9",
   "metadata": {
    "tags": []
   },
   "outputs": [],
   "source": [
    "results = results.loc[(results['abs_corr'] != 1) &\n",
    "                      (results['abs_corr'] > 0.5), :]\n",
    "results = results.sort_values(\n",
    "    by=['abs_ar1', 'abs_ar2'], ascending=False).reset_index(drop=True)\n",
    "\n",
    "to_drop = []\n",
    "results_new = results\n",
    "while not (results_new.empty):\n",
    "    new_var = str(np.where(results_new.loc[0, 'abs_ar1'] > results_new.loc[0,\n",
    "                  'abs_ar2'], results_new.loc[0, 'Var2'], results_new.loc[0, 'Var1']))\n",
    "    to_drop.append(new_var)\n",
    "    results_new = results_new.loc[(results_new['Var1'] != new_var) & (\n",
    "        results_new['Var2'] != new_var), :].reset_index(drop=True)\n",
    "\n",
    "db_final = db.drop(to_drop, axis=1).reset_index(drop=True)"
   ]
  },
  {
   "cell_type": "code",
   "execution_count": 80,
   "id": "22fa2ccb-2316-486a-b27a-13e34f738baa",
   "metadata": {},
   "outputs": [],
   "source": [
    "DEV_11_00_CORRELATION = db_final.copy()"
   ]
  },
  {
   "cell_type": "code",
   "execution_count": null,
   "id": "6429b6be-8b1e-4d52-9eb1-d84f590f29eb",
   "metadata": {},
   "outputs": [],
   "source": []
  },
  {
   "cell_type": "markdown",
   "id": "6893dbde-6487-48d2-ad26-3421d4df3aa9",
   "metadata": {
    "tags": []
   },
   "source": [
    "## Step 12: StepWise 5Percent <a name=\"stepwise_5perc\"></a>"
   ]
  },
  {
   "cell_type": "markdown",
   "id": "d5fb8cd6-3a8f-410d-9aa7-61d3c5e13126",
   "metadata": {},
   "source": [
    "- Inputs"
   ]
  },
  {
   "cell_type": "code",
   "execution_count": 81,
   "id": "e04da221-0c3f-40b8-8027-6cd44597d09e",
   "metadata": {},
   "outputs": [],
   "source": [
    "if not Application:\n",
    "    db = DEV_11_00_CORRELATION.copy()\n",
    "\n",
    "    #params\n",
    "    vars_path_pkl = path_configs + '/LongList_Variables_tab_full.pkl'\n",
    "    longlist_vars_full = pd.read_pickle(vars_path_pkl)\n",
    "\n",
    "    FEATURES = longlist_vars_full.IND_LABEL.to_list()"
   ]
  },
  {
   "cell_type": "markdown",
   "id": "c5536957-504f-486b-a1e8-c1979d0240ae",
   "metadata": {},
   "source": [
    "- query"
   ]
  },
  {
   "cell_type": "code",
   "execution_count": 82,
   "id": "761066eb-164f-4b33-8be1-8b516daccbd3",
   "metadata": {},
   "outputs": [],
   "source": [
    "if not Application:\n",
    "    in_sample = db.loc[db['IN_SAMPLE'] == 1, :]\n",
    "\n",
    "    new_cols = list(in_sample.columns)\n",
    "    IND_post_corr = list(set(new_cols).intersection(set(FEATURES)))\n",
    "\n",
    "    results = stepwise_binomial(in_sample, y_col='FLAG_DEF',\n",
    "                                subset=IND_post_corr, threshold_in=0.05,\n",
    "                                threshold_out=0.05)#, verbose=True)"
   ]
  },
  {
   "cell_type": "markdown",
   "id": "492e48b9-eaa3-4a65-9966-ee80ae2dcdb4",
   "metadata": {
    "tags": []
   },
   "source": [
    "#### <mark>PARAMS SAVE</mark> write result"
   ]
  },
  {
   "cell_type": "code",
   "execution_count": 83,
   "id": "6948831d-16db-44f6-8775-07a7418b44a0",
   "metadata": {},
   "outputs": [],
   "source": [
    "if not Application:\n",
    "    ## save config in pickle file\n",
    "    save_path = path_configs + '/model_stepwise_5perc_raw.pkl'\n",
    "    with open(save_path, 'wb') as file:\n",
    "        pickle.dump(results, file)"
   ]
  },
  {
   "cell_type": "code",
   "execution_count": 84,
   "id": "2535aad5-d1b0-4440-80ae-6723a1e0fbdf",
   "metadata": {},
   "outputs": [],
   "source": [
    "if not Application:\n",
    "    db = results[0]\n",
    "    list_vars = list(db['Var'])[1:]\n",
    "    output = pd.DataFrame({'Var': ['list_vars'],\n",
    "                              'coef': [list_vars]})\n",
    "\n",
    "    output = output.append(db).reset_index(drop=True)\n",
    "    \n",
    "    "
   ]
  },
  {
   "cell_type": "markdown",
   "id": "58a153d2-6a07-4ff2-86b5-eae3d6d5d05a",
   "metadata": {
    "tags": []
   },
   "source": [
    "#### <mark>PARAMS SAVE</mark> write result"
   ]
  },
  {
   "cell_type": "code",
   "execution_count": 85,
   "id": "b1f59cf3-a7bf-46fd-a9f5-f890d69934b4",
   "metadata": {},
   "outputs": [],
   "source": [
    "if not Application:\n",
    "    ## save config in pickle file\n",
    "    save_path = path_configs + '/params_model_stepwise_5perc_tab.pkl'\n",
    "    DEV_12_00_STEPWISE_5_PERCENT = output[['Var', 'coef']]\n",
    "    DEV_12_00_STEPWISE_5_PERCENT.to_pickle(save_path)"
   ]
  },
  {
   "cell_type": "code",
   "execution_count": null,
   "id": "9aff365a-d2ef-4698-82b8-69609b2668ff",
   "metadata": {},
   "outputs": [],
   "source": []
  },
  {
   "cell_type": "markdown",
   "id": "da6e3315-f2c9-4351-ad83-99ce324b1971",
   "metadata": {
    "tags": []
   },
   "source": [
    "## Step 13: StepWise 1 Percent <a name=\"stepwise_1perc\"></a>"
   ]
  },
  {
   "cell_type": "markdown",
   "id": "c736a653-a450-4e17-95c5-f68890c94ef3",
   "metadata": {},
   "source": [
    "- Inputs"
   ]
  },
  {
   "cell_type": "code",
   "execution_count": 94,
   "id": "977b872a-660e-4850-8075-c2ede750dd4c",
   "metadata": {
    "tags": []
   },
   "outputs": [],
   "source": [
    "if not Application:\n",
    "    db = DEV_11_00_CORRELATION.copy()\n",
    "\n",
    "    #params\n",
    "    vars_path_pkl = path_configs + '/LongList_Variables_tab_full.pkl'\n",
    "    longlist_vars_full = pd.read_pickle(vars_path_pkl)\n",
    "\n",
    "    FEATURES = longlist_vars_full.IND_LABEL.to_list()\n",
    "    \n",
    "    path = path_configs + '/params_model_stepwise_5perc_tab.pkl'\n",
    "    model = pd.read_pickle(path)\n",
    "    \n",
    "    path_params = path_configs + '/params_stepwise.xlsx'\n",
    "    params = pd.read_excel(path_params)\n",
    "    \n",
    "    th_in = float(params.THRESH_IN[0])\n",
    "    th_out = float(params.THRESH_OUT[0])\n",
    "    \n",
    "    "
   ]
  },
  {
   "cell_type": "markdown",
   "id": "170740be-5875-446a-84df-321289d4056b",
   "metadata": {},
   "source": [
    "- query"
   ]
  },
  {
   "cell_type": "code",
   "execution_count": 96,
   "id": "a5065290-cd35-47a6-920c-391f400848c9",
   "metadata": {},
   "outputs": [],
   "source": [
    "if not Application:\n",
    "    in_sample = db.loc[db['IN_SAMPLE'] == 1, :]\n",
    "    \n",
    "    params_dict = model[['Var', 'coef']].set_index('Var')['coef'].to_dict()\n",
    "\n",
    "    list_vars = params_dict['list_vars']\n",
    "\n",
    "    new_cols = list(in_sample.columns)\n",
    "    IND_post_step5 = list(set(new_cols).intersection(set(list_vars)))"
   ]
  },
  {
   "cell_type": "code",
   "execution_count": 98,
   "id": "1849c7e2-c6e1-45a6-af4d-0b6c817ba341",
   "metadata": {},
   "outputs": [],
   "source": [
    "if not Application:\n",
    "    results = stepwise_binomial(\n",
    "    in_sample,\n",
    "    y_col='FLAG_DEF',\n",
    "    subset=IND_post_step5,\n",
    "    threshold_in=th_in,\n",
    "    threshold_out=th_out)"
   ]
  },
  {
   "cell_type": "markdown",
   "id": "21fb2c51-f3d4-46bf-9c09-b40c421abfca",
   "metadata": {
    "tags": []
   },
   "source": [
    "#### <mark>PARAMS SAVE</mark> write result"
   ]
  },
  {
   "cell_type": "code",
   "execution_count": 100,
   "id": "7f94abdb-09be-480d-947b-672a888fe4f8",
   "metadata": {},
   "outputs": [],
   "source": [
    "if not Application:\n",
    "    ## save config in pickle file\n",
    "    save_path = path_configs + '/model_stepwise_1perc_raw.pkl'\n",
    "    with open(save_path, 'wb') as file:\n",
    "        pickle.dump(results, file)"
   ]
  },
  {
   "cell_type": "code",
   "execution_count": 101,
   "id": "01f1c87f-0933-4000-b893-af5ce85b0b5e",
   "metadata": {},
   "outputs": [
    {
     "name": "stderr",
     "output_type": "stream",
     "text": [
      "/tmp/ipykernel_156/9476043.py:7: FutureWarning: The frame.append method is deprecated and will be removed from pandas in a future version. Use pandas.concat instead.\n",
      "  output = output.append(db).reset_index(drop=True)\n"
     ]
    }
   ],
   "source": [
    "if not Application:\n",
    "    db = results[0]\n",
    "    list_vars = list(db['Var'])[1:]\n",
    "    output = pd.DataFrame({'Var': ['list_vars'],\n",
    "                              'coef': [list_vars]})\n",
    "\n",
    "    output = output.append(db).reset_index(drop=True)"
   ]
  },
  {
   "cell_type": "markdown",
   "id": "c99b80b6-2562-4c62-8318-f6696b780e1d",
   "metadata": {
    "tags": []
   },
   "source": [
    "#### <mark>PARAMS SAVE</mark> write result"
   ]
  },
  {
   "cell_type": "code",
   "execution_count": 103,
   "id": "cbaf2261-12fd-46cd-9b16-ba84be72e950",
   "metadata": {},
   "outputs": [],
   "source": [
    "if not Application:\n",
    "    ## save config in pickle file\n",
    "    save_path = path_configs + '/params_model_stepwise_1perc_tab.pkl'\n",
    "    DEV_13_00_STEPWISE_1_PERCENT  = output[['Var', 'coef']]\n",
    "    DEV_13_00_STEPWISE_1_PERCENT.to_pickle(save_path)"
   ]
  },
  {
   "cell_type": "code",
   "execution_count": null,
   "id": "a8f3aee5-e6bf-4857-b58e-ff6fcfb1a453",
   "metadata": {},
   "outputs": [],
   "source": []
  },
  {
   "cell_type": "code",
   "execution_count": null,
   "id": "c17811e6-33ad-4a2a-8261-1d7f5e20229f",
   "metadata": {},
   "outputs": [],
   "source": []
  },
  {
   "cell_type": "code",
   "execution_count": null,
   "id": "2a7c77b9-209f-46f2-9837-9dae207fbd92",
   "metadata": {},
   "outputs": [],
   "source": []
  },
  {
   "cell_type": "markdown",
   "id": "1454c66b-a498-400b-9671-28ba37c5df3e",
   "metadata": {
    "tags": []
   },
   "source": [
    "## Step 14-MOD: Expert Final Model <a name=\"final_model\"></a>"
   ]
  },
  {
   "cell_type": "code",
   "execution_count": 110,
   "id": "75fdcbeb-fd6a-4bdb-b8b7-6f429a858306",
   "metadata": {},
   "outputs": [],
   "source": [
    "#model auto    \n",
    "path = path_configs + '/model_stepwise_1perc_raw.pkl'\n",
    "model_raw = pd.read_pickle(path)"
   ]
  },
  {
   "cell_type": "code",
   "execution_count": 138,
   "id": "fd6529cb-c988-4626-a662-93d5b783cad1",
   "metadata": {},
   "outputs": [
    {
     "data": {
      "text/plain": [
       "Var         object\n",
       "coef       float64\n",
       "std err    float64\n",
       "z          float64\n",
       "P>|z|      float64\n",
       "[0.025     float64\n",
       "0.975]     float64\n",
       "dtype: object"
      ]
     },
     "execution_count": 138,
     "metadata": {},
     "output_type": "execute_result"
    }
   ],
   "source": [
    "model_summary = model_raw[0]\n",
    "format_cols = {c: 'float' for c in model_summary.columns if c!='Var'}\n",
    "model_summary = model_summary.astype(format_cols)\n",
    "model_summary.dtypes"
   ]
  },
  {
   "cell_type": "code",
   "execution_count": 139,
   "id": "1a791a57-3e52-4c4b-b07e-1671d7808052",
   "metadata": {},
   "outputs": [
    {
     "data": {
      "text/html": [
       "<div>\n",
       "<style scoped>\n",
       "    .dataframe tbody tr th:only-of-type {\n",
       "        vertical-align: middle;\n",
       "    }\n",
       "\n",
       "    .dataframe tbody tr th {\n",
       "        vertical-align: top;\n",
       "    }\n",
       "\n",
       "    .dataframe thead th {\n",
       "        text-align: right;\n",
       "    }\n",
       "</style>\n",
       "<table border=\"1\" class=\"dataframe\">\n",
       "  <thead>\n",
       "    <tr style=\"text-align: right;\">\n",
       "      <th></th>\n",
       "      <th>Var</th>\n",
       "      <th>coef</th>\n",
       "      <th>std err</th>\n",
       "      <th>z</th>\n",
       "      <th>P&gt;|z|</th>\n",
       "      <th>[0.025</th>\n",
       "      <th>0.975]</th>\n",
       "    </tr>\n",
       "  </thead>\n",
       "  <tbody>\n",
       "    <tr>\n",
       "      <th>0</th>\n",
       "      <td>const</td>\n",
       "      <td>-5.076893</td>\n",
       "      <td>0.228</td>\n",
       "      <td>-22.315</td>\n",
       "      <td>0.0</td>\n",
       "      <td>-5.523</td>\n",
       "      <td>-4.631</td>\n",
       "    </tr>\n",
       "    <tr>\n",
       "      <th>1</th>\n",
       "      <td>I_100</td>\n",
       "      <td>7.773130</td>\n",
       "      <td>0.217</td>\n",
       "      <td>35.769</td>\n",
       "      <td>0.0</td>\n",
       "      <td>7.347</td>\n",
       "      <td>8.199</td>\n",
       "    </tr>\n",
       "    <tr>\n",
       "      <th>2</th>\n",
       "      <td>I_19</td>\n",
       "      <td>-4.965106</td>\n",
       "      <td>0.290</td>\n",
       "      <td>-17.123</td>\n",
       "      <td>0.0</td>\n",
       "      <td>-5.533</td>\n",
       "      <td>-4.397</td>\n",
       "    </tr>\n",
       "    <tr>\n",
       "      <th>3</th>\n",
       "      <td>IC_188</td>\n",
       "      <td>-5.406342</td>\n",
       "      <td>1.285</td>\n",
       "      <td>-4.206</td>\n",
       "      <td>0.0</td>\n",
       "      <td>-7.925</td>\n",
       "      <td>-2.887</td>\n",
       "    </tr>\n",
       "    <tr>\n",
       "      <th>4</th>\n",
       "      <td>I_73</td>\n",
       "      <td>-1.265765</td>\n",
       "      <td>0.147</td>\n",
       "      <td>-8.592</td>\n",
       "      <td>0.0</td>\n",
       "      <td>-1.555</td>\n",
       "      <td>-0.977</td>\n",
       "    </tr>\n",
       "  </tbody>\n",
       "</table>\n",
       "</div>"
      ],
      "text/plain": [
       "      Var      coef  std err       z  P>|z|  [0.025  0.975]\n",
       "0   const -5.076893    0.228 -22.315    0.0  -5.523  -4.631\n",
       "1   I_100  7.773130    0.217  35.769    0.0   7.347   8.199\n",
       "2    I_19 -4.965106    0.290 -17.123    0.0  -5.533  -4.397\n",
       "3  IC_188 -5.406342    1.285  -4.206    0.0  -7.925  -2.887\n",
       "4    I_73 -1.265765    0.147  -8.592    0.0  -1.555  -0.977"
      ]
     },
     "execution_count": 139,
     "metadata": {},
     "output_type": "execute_result"
    }
   ],
   "source": [
    "model_summary.head()"
   ]
  },
  {
   "cell_type": "code",
   "execution_count": 157,
   "id": "a227378d-5736-471b-82bf-3cc382662ecb",
   "metadata": {},
   "outputs": [],
   "source": [
    "#Highest weights\n",
    "weight_feats = model_summary.sort_values(by='coef', key=abs, ascending=False)['Var'][0:8].to_list()\n",
    "\n",
    "# by Z score\n",
    "z_feats = model_summary.sort_values(by='z', key=abs, ascending=False)['Var'][0:8].to_list()\n",
    "\n",
    "Candidate_feats = list(set(weight_feats).intersection(set(z_feats)))"
   ]
  },
  {
   "cell_type": "code",
   "execution_count": 158,
   "id": "7b5a2401-94b7-4f7c-9c70-ee4dc71ce1c3",
   "metadata": {},
   "outputs": [
    {
     "data": {
      "text/plain": [
       "['I_19', 'I_100', 'const', 'I_73', 'IND_49', 'IC_188']"
      ]
     },
     "execution_count": 158,
     "metadata": {},
     "output_type": "execute_result"
    }
   ],
   "source": [
    "Candidate_feats"
   ]
  },
  {
   "cell_type": "code",
   "execution_count": 162,
   "id": "1c5d8aa8-9d07-4293-b6db-815b9115d857",
   "metadata": {},
   "outputs": [
    {
     "data": {
      "text/html": [
       "<div>\n",
       "<style scoped>\n",
       "    .dataframe tbody tr th:only-of-type {\n",
       "        vertical-align: middle;\n",
       "    }\n",
       "\n",
       "    .dataframe tbody tr th {\n",
       "        vertical-align: top;\n",
       "    }\n",
       "\n",
       "    .dataframe thead th {\n",
       "        text-align: right;\n",
       "    }\n",
       "</style>\n",
       "<table border=\"1\" class=\"dataframe\">\n",
       "  <thead>\n",
       "    <tr style=\"text-align: right;\">\n",
       "      <th></th>\n",
       "      <th>Var</th>\n",
       "      <th>coef</th>\n",
       "      <th>std err</th>\n",
       "      <th>z</th>\n",
       "      <th>P&gt;|z|</th>\n",
       "      <th>[0.025</th>\n",
       "      <th>0.975]</th>\n",
       "    </tr>\n",
       "  </thead>\n",
       "  <tbody>\n",
       "    <tr>\n",
       "      <th>0</th>\n",
       "      <td>const</td>\n",
       "      <td>-5.076893</td>\n",
       "      <td>0.228</td>\n",
       "      <td>-22.315</td>\n",
       "      <td>0.0</td>\n",
       "      <td>-5.523</td>\n",
       "      <td>-4.631</td>\n",
       "    </tr>\n",
       "    <tr>\n",
       "      <th>1</th>\n",
       "      <td>I_100</td>\n",
       "      <td>7.773130</td>\n",
       "      <td>0.217</td>\n",
       "      <td>35.769</td>\n",
       "      <td>0.0</td>\n",
       "      <td>7.347</td>\n",
       "      <td>8.199</td>\n",
       "    </tr>\n",
       "    <tr>\n",
       "      <th>2</th>\n",
       "      <td>I_19</td>\n",
       "      <td>-4.965106</td>\n",
       "      <td>0.290</td>\n",
       "      <td>-17.123</td>\n",
       "      <td>0.0</td>\n",
       "      <td>-5.533</td>\n",
       "      <td>-4.397</td>\n",
       "    </tr>\n",
       "    <tr>\n",
       "      <th>3</th>\n",
       "      <td>IC_188</td>\n",
       "      <td>-5.406342</td>\n",
       "      <td>1.285</td>\n",
       "      <td>-4.206</td>\n",
       "      <td>0.0</td>\n",
       "      <td>-7.925</td>\n",
       "      <td>-2.887</td>\n",
       "    </tr>\n",
       "    <tr>\n",
       "      <th>4</th>\n",
       "      <td>I_73</td>\n",
       "      <td>-1.265765</td>\n",
       "      <td>0.147</td>\n",
       "      <td>-8.592</td>\n",
       "      <td>0.0</td>\n",
       "      <td>-1.555</td>\n",
       "      <td>-0.977</td>\n",
       "    </tr>\n",
       "    <tr>\n",
       "      <th>9</th>\n",
       "      <td>IND_49</td>\n",
       "      <td>0.560556</td>\n",
       "      <td>0.151</td>\n",
       "      <td>3.705</td>\n",
       "      <td>0.0</td>\n",
       "      <td>0.264</td>\n",
       "      <td>0.857</td>\n",
       "    </tr>\n",
       "  </tbody>\n",
       "</table>\n",
       "</div>"
      ],
      "text/plain": [
       "      Var      coef  std err       z  P>|z|  [0.025  0.975]\n",
       "0   const -5.076893    0.228 -22.315    0.0  -5.523  -4.631\n",
       "1   I_100  7.773130    0.217  35.769    0.0   7.347   8.199\n",
       "2    I_19 -4.965106    0.290 -17.123    0.0  -5.533  -4.397\n",
       "3  IC_188 -5.406342    1.285  -4.206    0.0  -7.925  -2.887\n",
       "4    I_73 -1.265765    0.147  -8.592    0.0  -1.555  -0.977\n",
       "9  IND_49  0.560556    0.151   3.705    0.0   0.264   0.857"
      ]
     },
     "execution_count": 162,
     "metadata": {},
     "output_type": "execute_result"
    }
   ],
   "source": [
    "final_model = model_summary.loc[model_summary['Var'].isin(Candidate_feats)]\n",
    "final_model"
   ]
  },
  {
   "cell_type": "code",
   "execution_count": 163,
   "id": "4680b084-8b00-43a4-9205-1a9606cf07b3",
   "metadata": {},
   "outputs": [
    {
     "name": "stderr",
     "output_type": "stream",
     "text": [
      "/tmp/ipykernel_156/1006569128.py:7: FutureWarning: The frame.append method is deprecated and will be removed from pandas in a future version. Use pandas.concat instead.\n",
      "  output = output.append(db).reset_index(drop=True)\n"
     ]
    }
   ],
   "source": [
    "if not Application:\n",
    "    db = final_model\n",
    "    list_vars = list(db['Var'])[1:]\n",
    "    output = pd.DataFrame({'Var': ['list_vars'],\n",
    "                              'coef': [list_vars]})\n",
    "\n",
    "    output = output.append(db).reset_index(drop=True)"
   ]
  },
  {
   "cell_type": "markdown",
   "id": "cde611bf-9efd-49dd-8c62-cb8111aaef79",
   "metadata": {
    "tags": []
   },
   "source": [
    "#### <mark>PARAMS SAVE</mark> write result"
   ]
  },
  {
   "cell_type": "code",
   "execution_count": 165,
   "id": "8c1c1d7a-ed55-4704-a74e-142b57026246",
   "metadata": {},
   "outputs": [],
   "source": [
    "if not Application:\n",
    "    ## save config in pickle file\n",
    "    save_path = project_path + '/model_final_tab.pkl'\n",
    "    output.to_pickle(save_path)\n",
    "    \n",
    "    ## save config in pickle file\n",
    "    save_path = path_configs + '/params_model_final_tab.pkl'\n",
    "    PARAMS_MODEL_FINAL  = output[['Var', 'coef']]\n",
    "    PARAMS_MODEL_FINAL.to_pickle(save_path)"
   ]
  },
  {
   "cell_type": "markdown",
   "id": "fba78472-5a5c-42ec-9faa-7b80fe806d6d",
   "metadata": {
    "tags": []
   },
   "source": [
    "## Step 14: Compute Score And Probabilities <a name=\"score_prob\"></a>"
   ]
  },
  {
   "cell_type": "markdown",
   "id": "2889e2b0-3270-4c6c-891a-03e9d29def92",
   "metadata": {},
   "source": [
    "- Inputs"
   ]
  },
  {
   "cell_type": "code",
   "execution_count": 20,
   "id": "2dd24a0b-8dfd-4958-93dd-b4290b553dea",
   "metadata": {
    "tags": []
   },
   "outputs": [],
   "source": [
    "db = DEV_11_00_CORRELATION.copy()\n",
    "\n",
    "#model final    \n",
    "path = project_path + '/model_final_tab.pkl'\n",
    "model_full = pd.read_pickle(path)\n",
    "model = model_full[['Var', 'coef']]"
   ]
  },
  {
   "cell_type": "code",
   "execution_count": 22,
   "id": "235ab7d7-9e4e-48d8-ada5-1c829757af27",
   "metadata": {},
   "outputs": [
    {
     "data": {
      "text/html": [
       "<div>\n",
       "<style scoped>\n",
       "    .dataframe tbody tr th:only-of-type {\n",
       "        vertical-align: middle;\n",
       "    }\n",
       "\n",
       "    .dataframe tbody tr th {\n",
       "        vertical-align: top;\n",
       "    }\n",
       "\n",
       "    .dataframe thead th {\n",
       "        text-align: right;\n",
       "    }\n",
       "</style>\n",
       "<table border=\"1\" class=\"dataframe\">\n",
       "  <thead>\n",
       "    <tr style=\"text-align: right;\">\n",
       "      <th></th>\n",
       "      <th>Var</th>\n",
       "      <th>coef</th>\n",
       "    </tr>\n",
       "  </thead>\n",
       "  <tbody>\n",
       "    <tr>\n",
       "      <th>0</th>\n",
       "      <td>list_vars</td>\n",
       "      <td>[I_100, I_19, IC_188, I_73, IND_49]</td>\n",
       "    </tr>\n",
       "    <tr>\n",
       "      <th>1</th>\n",
       "      <td>const</td>\n",
       "      <td>-5.076893</td>\n",
       "    </tr>\n",
       "    <tr>\n",
       "      <th>2</th>\n",
       "      <td>I_100</td>\n",
       "      <td>7.77313</td>\n",
       "    </tr>\n",
       "    <tr>\n",
       "      <th>3</th>\n",
       "      <td>I_19</td>\n",
       "      <td>-4.965106</td>\n",
       "    </tr>\n",
       "    <tr>\n",
       "      <th>4</th>\n",
       "      <td>IC_188</td>\n",
       "      <td>-5.406342</td>\n",
       "    </tr>\n",
       "    <tr>\n",
       "      <th>5</th>\n",
       "      <td>I_73</td>\n",
       "      <td>-1.265765</td>\n",
       "    </tr>\n",
       "    <tr>\n",
       "      <th>6</th>\n",
       "      <td>IND_49</td>\n",
       "      <td>0.560556</td>\n",
       "    </tr>\n",
       "  </tbody>\n",
       "</table>\n",
       "</div>"
      ],
      "text/plain": [
       "         Var                                 coef\n",
       "0  list_vars  [I_100, I_19, IC_188, I_73, IND_49]\n",
       "1      const                            -5.076893\n",
       "2      I_100                              7.77313\n",
       "3       I_19                            -4.965106\n",
       "4     IC_188                            -5.406342\n",
       "5       I_73                            -1.265765\n",
       "6     IND_49                             0.560556"
      ]
     },
     "execution_count": 22,
     "metadata": {},
     "output_type": "execute_result"
    }
   ],
   "source": [
    "model"
   ]
  },
  {
   "cell_type": "markdown",
   "id": "bf7d3a69-036e-4ed3-a875-371e381433eb",
   "metadata": {},
   "source": [
    "- query"
   ]
  },
  {
   "cell_type": "code",
   "execution_count": 174,
   "id": "1fdd7ff0-f35e-4ab1-8359-ad934997000d",
   "metadata": {},
   "outputs": [],
   "source": [
    "params_dict = model[['Var', 'coef']].set_index('Var')['coef'].to_dict()\n",
    "\n",
    "output = pd.DataFrame()\n",
    "\n",
    "const = float(params_dict['const'])\n",
    "list_vars = params_dict['list_vars']\n",
    "\n",
    "score = [const]*len(db)\n",
    "\n",
    "for i in list_vars:\n",
    "    score = score + float(params_dict[i])*db.loc[:, i]\n",
    "output.loc[:, 'SCORE'] = score\n",
    "output.loc[:, 'PRED_PROB'] = 1/(1+np.exp((-1)*np.array(score)))\n",
    "\n",
    "keys = db[['REF_DATE', 'BIC', 'CIC']]\n",
    "final = pd.concat([keys, output], axis=1)"
   ]
  },
  {
   "cell_type": "code",
   "execution_count": 176,
   "id": "c347d36f-5968-48f4-a3e7-4ffa4ede7c99",
   "metadata": {},
   "outputs": [],
   "source": [
    "DEV_14_00_SCORES_AND_PROBABILITIES = final.copy()"
   ]
  },
  {
   "cell_type": "markdown",
   "id": "b79e41bb-0ac8-4d32-88f2-4176c8bbc282",
   "metadata": {
    "tags": []
   },
   "source": [
    "## Step 15A: Calculate Performance_ar <a name=\"report_AR\"></a>"
   ]
  },
  {
   "cell_type": "markdown",
   "id": "2b02b6f5-aae0-4faf-8c52-f3ce00b2bf03",
   "metadata": {},
   "source": [
    "- Inputs"
   ]
  },
  {
   "cell_type": "code",
   "execution_count": 179,
   "id": "a65955e8-78c2-4b27-bed7-0fb6ab212c0a",
   "metadata": {},
   "outputs": [],
   "source": [
    "scores = DEV_14_00_SCORES_AND_PROBABILITIES.copy()\n",
    "mvm = DEV_10_00_MISSING_VALUE_MANAGEMENT_STEP2.copy()"
   ]
  },
  {
   "cell_type": "markdown",
   "id": "c6826507-9505-41a2-82d1-59b65f62e0b5",
   "metadata": {},
   "source": [
    "- query"
   ]
  },
  {
   "cell_type": "code",
   "execution_count": 180,
   "id": "c7c10457-7ef3-4369-86ff-990439cd6547",
   "metadata": {},
   "outputs": [],
   "source": [
    "db = mvm.merge(\n",
    "    scores,\n",
    "    how='inner',\n",
    "    on=['BIC', 'CIC', 'REF_DATE'],\n",
    "    suffixes=('', '__17_SCORES_AND_PROBABILITIES_00')\n",
    ")[['REF_DATE', 'BIC', 'CIC', 'SCORE', 'PRED_PROB', 'FLAG_DEF', 'IN_SAMPLE']]"
   ]
  },
  {
   "cell_type": "code",
   "execution_count": 181,
   "id": "43a705e5-fa54-4fd2-a8b5-b143a48fca6f",
   "metadata": {},
   "outputs": [],
   "source": [
    "results_AR = lorenz(\n",
    "    db,\n",
    "    ind_bad='FLAG_DEF',\n",
    "    subset=['SCORE'],\n",
    "    gbkey=['IN_SAMPLE']\n",
    ")\n"
   ]
  },
  {
   "cell_type": "markdown",
   "id": "40483244-b7aa-4ac2-be2b-66e7a557feb3",
   "metadata": {
    "tags": []
   },
   "source": [
    "#### <mark>REPORT SAVE</mark> write result"
   ]
  },
  {
   "cell_type": "code",
   "execution_count": 185,
   "id": "641307de-88fc-40ad-9128-dc42a63765e3",
   "metadata": {},
   "outputs": [],
   "source": [
    "## save config in pickle file\n",
    "save_path = out_path + '/report_final_model_AR_tab.pkl'\n",
    "results_AR.reset_index().to_pickle(save_path)"
   ]
  },
  {
   "cell_type": "code",
   "execution_count": 26,
   "id": "b1c4d129-9a9a-4d3f-ac6a-ce651316b770",
   "metadata": {},
   "outputs": [],
   "source": [
    "path = out_path + '/report_final_model_AR_tab.pkl'\n",
    "results_AR = pd.read_pickle(path)"
   ]
  },
  {
   "cell_type": "code",
   "execution_count": 27,
   "id": "237cfc8e-1fb0-489d-8b94-29cd0ec6b34f",
   "metadata": {},
   "outputs": [
    {
     "data": {
      "text/html": [
       "<div>\n",
       "<style scoped>\n",
       "    .dataframe tbody tr th:only-of-type {\n",
       "        vertical-align: middle;\n",
       "    }\n",
       "\n",
       "    .dataframe tbody tr th {\n",
       "        vertical-align: top;\n",
       "    }\n",
       "\n",
       "    .dataframe thead th {\n",
       "        text-align: right;\n",
       "    }\n",
       "</style>\n",
       "<table border=\"1\" class=\"dataframe\">\n",
       "  <thead>\n",
       "    <tr style=\"text-align: right;\">\n",
       "      <th></th>\n",
       "      <th>IN_SAMPLE</th>\n",
       "      <th>level_1</th>\n",
       "      <th>variable</th>\n",
       "      <th>Ar</th>\n",
       "      <th>auc</th>\n",
       "    </tr>\n",
       "  </thead>\n",
       "  <tbody>\n",
       "    <tr>\n",
       "      <th>0</th>\n",
       "      <td>0</td>\n",
       "      <td>0</td>\n",
       "      <td>SCORE</td>\n",
       "      <td>-0.72657</td>\n",
       "      <td>0.846267</td>\n",
       "    </tr>\n",
       "    <tr>\n",
       "      <th>1</th>\n",
       "      <td>1</td>\n",
       "      <td>0</td>\n",
       "      <td>SCORE</td>\n",
       "      <td>-0.753961</td>\n",
       "      <td>0.859007</td>\n",
       "    </tr>\n",
       "  </tbody>\n",
       "</table>\n",
       "</div>"
      ],
      "text/plain": [
       "   IN_SAMPLE  level_1 variable        Ar       auc\n",
       "0          0        0    SCORE  -0.72657  0.846267\n",
       "1          1        0    SCORE -0.753961  0.859007"
      ]
     },
     "execution_count": 27,
     "metadata": {},
     "output_type": "execute_result"
    }
   ],
   "source": [
    "results_AR"
   ]
  },
  {
   "cell_type": "markdown",
   "id": "0d09ba9c-4540-4159-9050-d37d941e3197",
   "metadata": {
    "tags": []
   },
   "source": [
    "## Step 15B: Calculate Performance_tcorr <a name=\"report_TCORR\"></a>"
   ]
  },
  {
   "cell_type": "markdown",
   "id": "abcad13c-6245-4035-a96e-00fade4ff3db",
   "metadata": {},
   "source": [
    "- Inputs"
   ]
  },
  {
   "cell_type": "code",
   "execution_count": 186,
   "id": "f11bb540-ca57-4de1-8934-7ff4f161c74e",
   "metadata": {},
   "outputs": [],
   "source": [
    "scores = DEV_14_00_SCORES_AND_PROBABILITIES.copy()\n",
    "mvm = DEV_10_00_MISSING_VALUE_MANAGEMENT_STEP2.copy()"
   ]
  },
  {
   "cell_type": "markdown",
   "id": "292cd699-ecfe-429d-bf16-18c6a271c51f",
   "metadata": {},
   "source": [
    "- query"
   ]
  },
  {
   "cell_type": "code",
   "execution_count": 187,
   "id": "2ca59d4e-0ba0-478c-8691-26259f28079e",
   "metadata": {},
   "outputs": [],
   "source": [
    "db = mvm.merge(\n",
    "    scores,\n",
    "    how='inner',\n",
    "    on=['BIC', 'CIC', 'REF_DATE'],\n",
    "    suffixes=('', '__17_SCORES_AND_PROBABILITIES_00')\n",
    ")[['REF_DATE', 'BIC', 'CIC', 'SCORE', 'PRED_PROB', 'FLAG_DEF', 'IN_SAMPLE']]"
   ]
  },
  {
   "cell_type": "code",
   "execution_count": 189,
   "id": "b1dc53f4-444d-4038-938f-6ff4db36a087",
   "metadata": {},
   "outputs": [],
   "source": [
    "results_TCORR = tcorr(\n",
    "    db,\n",
    "    bad_col='FLAG_DEF',\n",
    "    subset=['SCORE'],\n",
    "    gbkey=['IN_SAMPLE']\n",
    ")\n"
   ]
  },
  {
   "cell_type": "markdown",
   "id": "0eb94269-eaf3-4347-8521-4384633c065a",
   "metadata": {
    "tags": []
   },
   "source": [
    "#### <mark>REPORT SAVE</mark> write result"
   ]
  },
  {
   "cell_type": "code",
   "execution_count": 192,
   "id": "92c386cf-c8cc-4fe3-b89f-841fba2963c2",
   "metadata": {},
   "outputs": [],
   "source": [
    "## save config in pickle file\n",
    "save_path = path_configs + '/report_final_model_TCORR_tab.pkl'\n",
    "results_TCORR.reset_index().to_pickle(save_path)"
   ]
  },
  {
   "cell_type": "markdown",
   "id": "91b58f63-ce5c-4bb4-9cd2-72bbcd24262a",
   "metadata": {
    "tags": []
   },
   "source": [
    "## Step 15-3: Calculate Performance_tdef <a name=\"report_TDEF\"></a>"
   ]
  },
  {
   "cell_type": "markdown",
   "id": "76d4a2d6-579b-4b34-8b7e-c11ea91100f7",
   "metadata": {},
   "source": [
    "- Inputs"
   ]
  },
  {
   "cell_type": "code",
   "execution_count": 193,
   "id": "777cd25f-5fc7-4647-b0d7-1a9dfccabc7d",
   "metadata": {},
   "outputs": [],
   "source": [
    "scores = DEV_14_00_SCORES_AND_PROBABILITIES.copy()\n",
    "mvm = DEV_10_00_MISSING_VALUE_MANAGEMENT_STEP2.copy()"
   ]
  },
  {
   "cell_type": "markdown",
   "id": "555ebcff-ba4c-4068-b931-d9df395f92ea",
   "metadata": {},
   "source": [
    "- query"
   ]
  },
  {
   "cell_type": "code",
   "execution_count": 197,
   "id": "4764f2c3-380d-45a7-95d0-62403d84bb70",
   "metadata": {},
   "outputs": [],
   "source": [
    "db = mvm.merge(\n",
    "    scores,\n",
    "    how='inner',\n",
    "    on=['BIC', 'CIC', 'REF_DATE'],\n",
    "    suffixes=('', '__17_SCORES_AND_PROBABILITIES_00')\n",
    ")[['REF_DATE', 'BIC', 'CIC', 'SCORE', 'PRED_PROB', 'FLAG_DEF', 'IN_SAMPLE']]"
   ]
  },
  {
   "cell_type": "code",
   "execution_count": 199,
   "id": "59477089-5d68-4ff0-b0ec-710191f25479",
   "metadata": {},
   "outputs": [],
   "source": [
    "results_def_rate = tdef(\n",
    "    db,\n",
    "    n_bins=10,\n",
    "    ind_bad='FLAG_DEF',\n",
    "    subset=['SCORE'],\n",
    "    gbkey=['IN_SAMPLE'],\n",
    ")\n"
   ]
  },
  {
   "cell_type": "markdown",
   "id": "ca9bf5c4-e4c2-4590-9f5a-43edc79b5aaf",
   "metadata": {
    "tags": []
   },
   "source": [
    "#### <mark>REPORT SAVE</mark> write result"
   ]
  },
  {
   "cell_type": "code",
   "execution_count": 201,
   "id": "c7fdceb7-c1f0-43a9-923a-00b054cac144",
   "metadata": {},
   "outputs": [],
   "source": [
    "## save config in pickle file\n",
    "save_path = path_configs + '/report_final_model_TDEF_tab.pkl'\n",
    "results_def_rate.reset_index().to_pickle(save_path)"
   ]
  },
  {
   "cell_type": "code",
   "execution_count": null,
   "id": "7330cae9-bbef-4803-86d5-94f77995345e",
   "metadata": {},
   "outputs": [],
   "source": []
  },
  {
   "cell_type": "code",
   "execution_count": null,
   "id": "e18ff294-5796-4710-89a0-a0fd1701ee3a",
   "metadata": {},
   "outputs": [],
   "source": []
  },
  {
   "cell_type": "code",
   "execution_count": 204,
   "id": "8e34b379-3756-4e5f-bace-0b2589b68d1e",
   "metadata": {},
   "outputs": [
    {
     "name": "stdout",
     "output_type": "stream",
     "text": [
      "DONE...\n"
     ]
    }
   ],
   "source": [
    "print('DONE...')"
   ]
  },
  {
   "cell_type": "code",
   "execution_count": null,
   "id": "cdc0b4d2-6451-476b-bb05-4993cfb8c152",
   "metadata": {},
   "outputs": [],
   "source": []
  }
 ],
 "metadata": {
  "kernelspec": {
   "display_name": "promlib_stats",
   "language": "python",
   "name": "promlib_stats"
  },
  "language_info": {
   "codemirror_mode": {
    "name": "ipython",
    "version": 3
   },
   "file_extension": ".py",
   "mimetype": "text/x-python",
   "name": "python",
   "nbconvert_exporter": "python",
   "pygments_lexer": "ipython3",
   "version": "3.9.18"
  }
 },
 "nbformat": 4,
 "nbformat_minor": 5
}
